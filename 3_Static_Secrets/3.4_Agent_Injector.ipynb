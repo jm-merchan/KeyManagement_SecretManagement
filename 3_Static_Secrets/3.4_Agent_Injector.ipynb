{
 "cells": [
  {
   "cell_type": "code",
   "execution_count": null,
   "metadata": {
    "vscode": {
     "languageId": "shellscript"
    }
   },
   "outputs": [],
   "source": [
    "%env  WORKDIR=/tmp/vault"
   ]
  },
  {
   "cell_type": "markdown",
   "metadata": {},
   "source": [
    "### Connect to Vault-pr K8S cluster"
   ]
  },
  {
   "cell_type": "code",
   "execution_count": null,
   "metadata": {
    "vscode": {
     "languageId": "shellscript"
    }
   },
   "outputs": [],
   "source": [
    "! terraform output -state=../1_Platform_Deployment/terraform.tfstate -raw configure_kubectl_cluster_pr"
   ]
  },
  {
   "cell_type": "code",
   "execution_count": null,
   "metadata": {
    "vscode": {
     "languageId": "shellscript"
    }
   },
   "outputs": [],
   "source": [
    "! eval $(terraform output -state=../1_Platform_Deployment/terraform.tfstate -raw configure_kubectl_cluster_pr)"
   ]
  },
  {
   "cell_type": "markdown",
   "metadata": {},
   "source": [
    "### Create Account for PODs"
   ]
  },
  {
   "cell_type": "code",
   "execution_count": null,
   "metadata": {
    "vscode": {
     "languageId": "shellscript"
    }
   },
   "outputs": [],
   "source": [
    "! kubectl create sa internal-app"
   ]
  },
  {
   "cell_type": "markdown",
   "metadata": {},
   "source": [
    "### Configure Vault"
   ]
  },
  {
   "cell_type": "code",
   "execution_count": null,
   "metadata": {
    "vscode": {
     "languageId": "shellscript"
    }
   },
   "outputs": [],
   "source": [
    "# In a terminal\n",
    "\n",
    "kubectl exec -n vault vault-pr-0  -i -t -- /bin/sh\n",
    "---\n",
    "# Log as user peter using LDAP Auth method\n",
    "vault login -method=ldap username=peter\n",
    "\n",
    "# Create a Local k8S Auth method\n",
    "vault auth enable -path=k8snorth -local kubernetes\n",
    "\n",
    "# Connect to local kubernetes cluster\n",
    "vault write auth/k8snorth/config \\\n",
    "    kubernetes_host=https://$KUBERNETES_SERVICE_HOST:$KUBERNETES_SERVICE_PORT\n",
    "\n",
    "# Create a role\n",
    "vault write auth/k8snorth/role/internal-app \\\n",
    "    bound_service_account_names=internal-app \\\n",
    "    bound_service_account_namespaces=default \\\n",
    "    policies=internal-app \\\n",
    "    alias_name_source=serviceaccount_name \\\n",
    "    ttl=24h\n",
    "\n",
    "# Create policy\n",
    "vault policy write internal-app - <<EOF\n",
    "path \"internal/data/database/config\" {\n",
    "  capabilities = [\"read\"]\n",
    "}\n",
    "EOF\n",
    "\n",
    "# Create a KVv2 engine\n",
    "vault secrets enable -path=internal kv-v2\n",
    "\n",
    "# Create Secret\n",
    "vault kv put internal/database/config username=\"db-readonly-username\" password=\"db-secret-password\""
   ]
  },
  {
   "cell_type": "markdown",
   "metadata": {},
   "source": [
    "## Deploy POD with Vault Agent (sidecar) via annotations"
   ]
  },
  {
   "cell_type": "code",
   "execution_count": null,
   "metadata": {
    "vscode": {
     "languageId": "shellscript"
    }
   },
   "outputs": [],
   "source": [
    "%%bash\n",
    "cat > $WORKDIR/deployment-orgchart.yaml <<EOF\n",
    "apiVersion: apps/v1\n",
    "kind: Deployment\n",
    "metadata:\n",
    "  name: orgchart\n",
    "  labels:\n",
    "    app: orgchart\n",
    "spec:\n",
    "  selector:\n",
    "    matchLabels:\n",
    "      app: orgchart\n",
    "  replicas: 1\n",
    "  template:\n",
    "    metadata:\n",
    "      annotations:\n",
    "        vault.hashicorp.com/agent-inject: 'true'\n",
    "        vault.hashicorp.com/role: 'internal-app'\n",
    "        vault.hashicorp.com/agent-inject-secret-database-config.txt: 'internal/data/database/config'\n",
    "        vault.hashicorp.com/tls-skip-verify: 'true' # Untrusted cert used here\n",
    "      labels:\n",
    "        app: orgchart\n",
    "    spec:\n",
    "      serviceAccountName: internal-app\n",
    "      containers:\n",
    "        - name: orgchart\n",
    "          image: nginx\n",
    "EOF"
   ]
  },
  {
   "cell_type": "code",
   "execution_count": null,
   "metadata": {
    "vscode": {
     "languageId": "shellscript"
    }
   },
   "outputs": [],
   "source": [
    "%%bash\n",
    "kubectl delete --filename $WORKDIR/deployment-orgchart.yaml\n",
    "kubectl apply --filename $WORKDIR/deployment-orgchart.yaml"
   ]
  },
  {
   "cell_type": "markdown",
   "metadata": {},
   "source": [
    "### Vault Agents Logs"
   ]
  },
  {
   "cell_type": "code",
   "execution_count": null,
   "metadata": {
    "vscode": {
     "languageId": "shellscript"
    }
   },
   "outputs": [],
   "source": [
    "%%bash \n",
    "kubectl logs \\\n",
    "    $(kubectl get pod -l app=orgchart -o jsonpath=\"{.items[0].metadata.name}\") \\\n",
    "    --container vault-agent"
   ]
  },
  {
   "cell_type": "markdown",
   "metadata": {},
   "source": [
    "## Looking at the secret in the POD (`orgchart` container)"
   ]
  },
  {
   "cell_type": "code",
   "execution_count": null,
   "metadata": {
    "vscode": {
     "languageId": "shellscript"
    }
   },
   "outputs": [],
   "source": [
    "%%bash\n",
    "kubectl exec \\\n",
    "    $(kubectl get pod -l app=orgchart -o jsonpath=\"{.items[0].metadata.name}\") \\\n",
    "    --container orgchart -- cat /vault/secrets/database-config.txt"
   ]
  },
  {
   "cell_type": "markdown",
   "metadata": {},
   "source": [
    "### Redeploy Deployment using `templating`"
   ]
  },
  {
   "cell_type": "code",
   "execution_count": null,
   "metadata": {
    "vscode": {
     "languageId": "shellscript"
    }
   },
   "outputs": [],
   "source": [
    "%%bash\n",
    "cat > $WORKDIR/deployment-orgchart.yaml <<EOF\n",
    "apiVersion: apps/v1\n",
    "kind: Deployment\n",
    "metadata:\n",
    "  name: orgchart\n",
    "  labels:\n",
    "    app: orgchart\n",
    "spec:\n",
    "  selector:\n",
    "    matchLabels:\n",
    "      app: orgchart\n",
    "  replicas: 1\n",
    "  template:\n",
    "    metadata:\n",
    "      annotations:\n",
    "        vault.hashicorp.com/agent-inject: 'true'\n",
    "        vault.hashicorp.com/agent-inject-status: 'update'\n",
    "        vault.hashicorp.com/role: 'internal-app'\n",
    "        vault.hashicorp.com/agent-inject-secret-database-config.txt: 'internal/data/database/config'\n",
    "        vault.hashicorp.com/tls-skip-verify: 'true'\n",
    "        vault.hashicorp.com/agent-inject-template-database-config.txt: |\n",
    "          {{- with secret \"internal/data/database/config\" -}}\n",
    "          postgresql://{{ .Data.data.username }}:{{ .Data.data.password }}@postgres:5432/wizard\n",
    "          {{- end -}}\n",
    "      labels:\n",
    "        app: orgchart\n",
    "    spec:\n",
    "      serviceAccountName: internal-app\n",
    "      containers:\n",
    "        - name: orgchart\n",
    "          image: nginx\n",
    "EOF\n",
    "kubectl delete --filename $WORKDIR/deployment-orgchart.yaml\n",
    "kubectl apply --filename $WORKDIR/deployment-orgchart.yaml"
   ]
  },
  {
   "cell_type": "markdown",
   "metadata": {},
   "source": [
    "### Looking at the new secret formatted"
   ]
  },
  {
   "cell_type": "code",
   "execution_count": null,
   "metadata": {
    "vscode": {
     "languageId": "shellscript"
    }
   },
   "outputs": [],
   "source": [
    "%%bash\n",
    "kubectl exec \\\n",
    "    $(kubectl get pod -l app=orgchart -o jsonpath=\"{.items[0].metadata.name}\") \\\n",
    "    -c orgchart -- cat /vault/secrets/database-config.txt"
   ]
  },
  {
   "cell_type": "markdown",
   "metadata": {},
   "source": [
    "# Clean UP"
   ]
  },
  {
   "cell_type": "code",
   "execution_count": null,
   "metadata": {
    "vscode": {
     "languageId": "shellscript"
    }
   },
   "outputs": [],
   "source": [
    "# In terminal\n",
    "vault auth disable k8snorth/ \n",
    "vault secrets disable internal"
   ]
  },
  {
   "cell_type": "code",
   "execution_count": null,
   "metadata": {
    "vscode": {
     "languageId": "shellscript"
    }
   },
   "outputs": [],
   "source": [
    "! kubectl delete --filename $WORKDIR/deployment-orgchart.yaml"
   ]
  }
 ],
 "metadata": {
  "kernelspec": {
   "display_name": "base",
   "language": "python",
   "name": "python3"
  },
  "language_info": {
   "codemirror_mode": {
    "name": "ipython",
    "version": 3
   },
   "file_extension": ".py",
   "mimetype": "text/x-python",
   "name": "python",
   "nbconvert_exporter": "python",
   "pygments_lexer": "ipython3",
   "version": "3.9.13"
  }
 },
 "nbformat": 4,
 "nbformat_minor": 2
}
