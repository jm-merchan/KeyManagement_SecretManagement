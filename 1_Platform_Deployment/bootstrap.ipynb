{
 "cells": [
  {
   "cell_type": "markdown",
   "metadata": {},
   "source": [
    "Initialize Vault Clusters"
   ]
  },
  {
   "cell_type": "code",
   "execution_count": null,
   "metadata": {
    "vscode": {
     "languageId": "shellscript"
    }
   },
   "outputs": [],
   "source": [
    "%env  WORKDIR=/tmp/vault\n",
    "! mkdir /tmp/vault"
   ]
  },
  {
   "cell_type": "markdown",
   "metadata": {},
   "source": [
    "## For Primary cluster"
   ]
  },
  {
   "cell_type": "code",
   "execution_count": null,
   "metadata": {
    "vscode": {
     "languageId": "shellscript"
    }
   },
   "outputs": [],
   "source": [
    "%%bash\n",
    "gcloud auth login\n",
    "eval \"$(terraform output -raw cluster_primary_init_remote)\"\n",
    "\n",
    "echo $VAULT_ADDR > $WORKDIR/VAULT_ADDR.TXT\n",
    "echo $VAULT_TOKEN > $WORKDIR/VAULT_TOKEN.TXT\n",
    "\n",
    "echo \"Primary Cluster: $VAULT_ADDR\""
   ]
  },
  {
   "cell_type": "markdown",
   "metadata": {},
   "source": [
    "* For PR secondary cluster"
   ]
  },
  {
   "cell_type": "code",
   "execution_count": null,
   "metadata": {
    "vscode": {
     "languageId": "shellscript"
    }
   },
   "outputs": [],
   "source": [
    "%%bash\n",
    "eval \"$(terraform output -raw cluster_pr_init_remote)\"\n",
    "\n",
    "echo $VAULT_ADDR > $WORKDIR/VAULT_ADDR_PR.TXT\n",
    "echo $VAULT_TOKEN > $WORKDIR/VAULT_TOKEN_PR.TXT\n",
    "\n",
    "echo \"PR Secondary Cluster: $VAULT_ADDR\""
   ]
  },
  {
   "cell_type": "markdown",
   "metadata": {},
   "source": [
    "* For DR secondary cluster"
   ]
  },
  {
   "cell_type": "code",
   "execution_count": null,
   "metadata": {
    "vscode": {
     "languageId": "shellscript"
    }
   },
   "outputs": [],
   "source": [
    "%%bash\n",
    "eval \"$(terraform output -raw cluster_dr_init_remote)\"\n",
    "\n",
    "echo $VAULT_ADDR > $WORKDIR/VAULT_ADDR_DR.TXT\n",
    "echo $VAULT_TOKEN > $WORKDIR/VAULT_TOKEN_DR.TXT\n",
    "\n",
    "echo \"DR Secondary Cluster: $VAULT_ADDR\""
   ]
  },
  {
   "cell_type": "markdown",
   "metadata": {},
   "source": [
    "# Clean UP\n",
    "Set the cell below to `Shell Script` or `Python` and execute to remove Vault and Kubernetes Clusters"
   ]
  },
  {
   "cell_type": "code",
   "execution_count": null,
   "metadata": {
    "vscode": {
     "languageId": "shellscript"
    }
   },
   "outputs": [],
   "source": [
    "! terraform destroy -var-file=variables.tfvars --auto-approve"
   ]
  }
 ],
 "metadata": {
  "kernelspec": {
   "display_name": "base",
   "language": "python",
   "name": "python3"
  },
  "language_info": {
   "codemirror_mode": {
    "name": "ipython",
    "version": 3
   },
   "file_extension": ".py",
   "mimetype": "text/x-python",
   "name": "python",
   "nbconvert_exporter": "python",
   "pygments_lexer": "ipython3",
   "version": "3.9.13"
  }
 },
 "nbformat": 4,
 "nbformat_minor": 2
}
