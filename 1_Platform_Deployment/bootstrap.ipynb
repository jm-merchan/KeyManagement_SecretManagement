{
 "cells": [
  {
   "cell_type": "markdown",
   "metadata": {},
   "source": [
    "Initialize Vault Clusters"
   ]
  },
  {
   "cell_type": "code",
   "execution_count": 1,
   "metadata": {
    "vscode": {
     "languageId": "shellscript"
    }
   },
   "outputs": [
    {
     "name": "stdout",
     "output_type": "stream",
     "text": [
      "env: WORKDIR=/tmp/vault\n"
     ]
    }
   ],
   "source": [
    "%env  WORKDIR=/tmp/vault\n",
    "! mkdir /tmp/vault"
   ]
  },
  {
   "cell_type": "markdown",
   "metadata": {},
   "source": [
    "## For Primary cluster"
   ]
  },
  {
   "cell_type": "code",
   "execution_count": null,
   "metadata": {
    "vscode": {
     "languageId": "shellscript"
    }
   },
   "outputs": [
    {
     "name": "stderr",
     "output_type": "stream",
     "text": [
      "Your browser has been opened to visit:\n",
      "\n",
      "    https://accounts.google.com/o/oauth2/auth?response_type=code&client_id=32555940559.apps.googleusercontent.com&redirect_uri=http%3A%2F%2Flocalhost%3A8085%2F&scope=openid+https%3A%2F%2Fwww.googleapis.com%2Fauth%2Fuserinfo.email+https%3A%2F%2Fwww.googleapis.com%2Fauth%2Fcloud-platform+https%3A%2F%2Fwww.googleapis.com%2Fauth%2Fappengine.admin+https%3A%2F%2Fwww.googleapis.com%2Fauth%2Fsqlservice.login+https%3A%2F%2Fwww.googleapis.com%2Fauth%2Fcompute+https%3A%2F%2Fwww.googleapis.com%2Fauth%2Faccounts.reauth&state=sz3uQxmCor6Lh9YxxYeLTgUoRrhUcM&access_type=offline&code_challenge=XV8kgHoqdcfopvvpSnOvMnjpUrBu2-nwiL5E2YmQ3BE&code_challenge_method=S256\n",
      "\n",
      "\n",
      "You are now logged in as [jose.merchan@hashicorp.com].\n",
      "Your current project is [None].  You can change this setting by running:\n",
      "  $ gcloud config set project PROJECT_ID\n"
     ]
    },
    {
     "name": "stdout",
     "output_type": "stream",
     "text": [
      "Key                      Value\n",
      "---                      -----\n",
      "Recovery Seal Type       gcpckms\n",
      "Initialized              false\n",
      "Sealed                   true\n",
      "Total Recovery Shares    0\n",
      "Threshold                0\n",
      "Unseal Progress          0/0\n",
      "Unseal Nonce             n/a\n",
      "Version                  1.18.1+ent\n",
      "Build Date               2024-10-29T14:21:43Z\n",
      "Storage Type             raft\n",
      "HA Enabled               true\n"
     ]
    },
    {
     "name": "stderr",
     "output_type": "stream",
     "text": [
      "  % Total    % Received % Xferd  Average Speed   Time    Time     Time  Current\n",
      "                                 Dload  Upload   Total   Spent    Left  Speed\n",
      "100    40  100    40    0     0    736      0 --:--:-- --:--:-- --:--:--   800\n"
     ]
    },
    {
     "name": "stdout",
     "output_type": "stream",
     "text": [
      "<a href=\"/ui/\">Temporary Redirect</a>.\n",
      "\n"
     ]
    },
    {
     "name": "stderr",
     "output_type": "stream",
     "text": [
      "Created secret [root_token_europe-southwest1_rche].\n",
      "Created version [1] of the secret [root_token_europe-southwest1_rche].\n",
      "Created secret [vault_init_data_europe-southwest1_rche].\n",
      "Created version [1] of the secret [vault_init_data_europe-southwest1_rche].\n",
      "Command flags must be provided before positional arguments. The following arguments will not be parsed as flags: [-path=localfile/]\n"
     ]
    },
    {
     "name": "stdout",
     "output_type": "stream",
     "text": [
      "Success! Enabled the file audit device at: file/\n",
      "Success! Enabled the file audit device at: stdout/\n"
     ]
    },
    {
     "name": "stderr",
     "output_type": "stream",
     "text": [
      "created key [0e98ff16c9d85ccfbe1f7e987e64c15b568e11e8] of type [json] as [sa-keys__europe-southwest1_rche.json] for [europe-southwest1-savault-rche@hc-73f8ab4df44146ba8cffb466d83.iam.gserviceaccount.com]\n"
     ]
    },
    {
     "name": "stdout",
     "output_type": "stream",
     "text": [
      "Success! Data written to: sys/storage/raft/snapshot-auto/config/hourly\n"
     ]
    }
   ],
   "source": [
    "%%bash\n",
    "gcloud auth login\n",
    "eval \"$(terraform output -raw cluster_primary_init_remote)\"\n",
    "\n",
    "echo $VAULT_ADDR > $WORKDIR/VAULT_ADDR.TXT\n",
    "echo $VAULT_TOKEN > $WORKDIR/VAULT_TOKEN.TXT\n",
    "\n",
    "echo \"Primary Cluster: $VAULT_ADDR\""
   ]
  },
  {
   "cell_type": "markdown",
   "metadata": {},
   "source": [
    "* For PR secondary cluster"
   ]
  },
  {
   "cell_type": "code",
   "execution_count": 3,
   "metadata": {
    "vscode": {
     "languageId": "shellscript"
    }
   },
   "outputs": [
    {
     "name": "stdout",
     "output_type": "stream",
     "text": [
      "Key                      Value\n",
      "---                      -----\n",
      "Recovery Seal Type       gcpckms\n",
      "Initialized              false\n",
      "Sealed                   true\n",
      "Total Recovery Shares    0\n",
      "Threshold                0\n",
      "Unseal Progress          0/0\n",
      "Unseal Nonce             n/a\n",
      "Version                  1.18.1+ent\n",
      "Build Date               2024-10-29T14:21:43Z\n",
      "Storage Type             raft\n",
      "HA Enabled               true\n"
     ]
    },
    {
     "name": "stderr",
     "output_type": "stream",
     "text": [
      "  % Total    % Received % Xferd  Average Speed   Time    Time     Time  Current\n",
      "                                 Dload  Upload   Total   Spent    Left  Speed\n",
      "100    40  100    40    0     0    197      0 --:--:-- --:--:-- --:--:--   202\n"
     ]
    },
    {
     "name": "stdout",
     "output_type": "stream",
     "text": [
      "<a href=\"/ui/\">Temporary Redirect</a>.\n",
      "\n"
     ]
    },
    {
     "name": "stderr",
     "output_type": "stream",
     "text": [
      "Created secret [root_token_europe-north1_8k92].\n",
      "Created version [1] of the secret [root_token_europe-north1_8k92].\n",
      "Created secret [vault_init_data_europe-north1_8k92].\n",
      "Created version [1] of the secret [vault_init_data_europe-north1_8k92].\n",
      "Command flags must be provided before positional arguments. The following arguments will not be parsed as flags: [-path=localfile/]\n"
     ]
    },
    {
     "name": "stdout",
     "output_type": "stream",
     "text": [
      "Success! Enabled the file audit device at: file/\n",
      "Success! Enabled the file audit device at: stdout/\n"
     ]
    },
    {
     "name": "stderr",
     "output_type": "stream",
     "text": [
      "created key [09c2e81f3d19ec48c2e876cd6f7bc45ede88f1da] of type [json] as [sa-keys__europe-north1_8k92.json] for [europe-north1-savault-8k92@hc-73f8ab4df44146ba8cffb466d83.iam.gserviceaccount.com]\n"
     ]
    },
    {
     "name": "stdout",
     "output_type": "stream",
     "text": [
      "Success! Data written to: sys/storage/raft/snapshot-auto/config/hourly\n",
      "PR Secondary Cluster: https://vault-pr-europe-north1-8k92.josemerchan-f986bf.gcp.sbx.hashicorpdemo.com:8200\n"
     ]
    }
   ],
   "source": [
    "%%bash\n",
    "eval \"$(terraform output -raw cluster_pr_init_remote)\"\n",
    "\n",
    "echo $VAULT_ADDR > $WORKDIR/VAULT_ADDR_PR.TXT\n",
    "echo $VAULT_TOKEN > $WORKDIR/VAULT_TOKEN_PR.TXT\n",
    "\n",
    "echo \"PR Secondary Cluster: $VAULT_ADDR\""
   ]
  },
  {
   "cell_type": "markdown",
   "metadata": {},
   "source": [
    "* For DR secondary cluster"
   ]
  },
  {
   "cell_type": "code",
   "execution_count": 4,
   "metadata": {
    "vscode": {
     "languageId": "shellscript"
    }
   },
   "outputs": [
    {
     "name": "stdout",
     "output_type": "stream",
     "text": [
      "Key                      Value\n",
      "---                      -----\n",
      "Recovery Seal Type       gcpckms\n",
      "Initialized              false\n",
      "Sealed                   true\n",
      "Total Recovery Shares    0\n",
      "Threshold                0\n",
      "Unseal Progress          0/0\n",
      "Unseal Nonce             n/a\n",
      "Version                  1.18.1+ent\n",
      "Build Date               2024-10-29T14:21:43Z\n",
      "Storage Type             raft\n",
      "HA Enabled               true\n"
     ]
    },
    {
     "name": "stderr",
     "output_type": "stream",
     "text": [
      "  % Total    % Received % Xferd  Average Speed   Time    Time     Time  Current\n",
      "                                 Dload  Upload   Total   Spent    Left  Speed\n",
      "100    40  100    40    0     0    113      0 --:--:-- --:--:-- --:--:--   114\n"
     ]
    },
    {
     "name": "stdout",
     "output_type": "stream",
     "text": [
      "<a href=\"/ui/\">Temporary Redirect</a>.\n",
      "\n"
     ]
    },
    {
     "name": "stderr",
     "output_type": "stream",
     "text": [
      "Created secret [root_token_us-east1_5xk5].\n",
      "Created version [1] of the secret [root_token_us-east1_5xk5].\n",
      "Created secret [vault_init_data_us-east1_5xk5].\n",
      "Created version [1] of the secret [vault_init_data_us-east1_5xk5].\n",
      "Command flags must be provided before positional arguments. The following arguments will not be parsed as flags: [-path=localfile/]\n"
     ]
    },
    {
     "name": "stdout",
     "output_type": "stream",
     "text": [
      "Success! Enabled the file audit device at: file/\n",
      "Success! Enabled the file audit device at: stdout/\n"
     ]
    },
    {
     "name": "stderr",
     "output_type": "stream",
     "text": [
      "created key [a0b0d5e68847a972b7a5c9f93a3b2163aa43f767] of type [json] as [sa-keys__us-east1_5xk5.json] for [us-east1-savault-5xk5@hc-73f8ab4df44146ba8cffb466d83.iam.gserviceaccount.com]\n"
     ]
    },
    {
     "name": "stdout",
     "output_type": "stream",
     "text": [
      "Success! Data written to: sys/storage/raft/snapshot-auto/config/hourly\n",
      "DR Secondary Cluster: https://vault-dr-us-east1-5xk5.josemerchan-f986bf.gcp.sbx.hashicorpdemo.com:8200\n"
     ]
    }
   ],
   "source": [
    "%%bash\n",
    "eval \"$(terraform output -raw cluster_dr_init_remote)\"\n",
    "\n",
    "echo $VAULT_ADDR > $WORKDIR/VAULT_ADDR_DR.TXT\n",
    "echo $VAULT_TOKEN > $WORKDIR/VAULT_TOKEN_DR.TXT\n",
    "\n",
    "echo \"DR Secondary Cluster: $VAULT_ADDR\""
   ]
  },
  {
   "cell_type": "markdown",
   "metadata": {},
   "source": [
    "# Clean UP\n",
    "Set the cell below to `Shell Script` or `Python` and execute to remove Vault and Kubernetes Clusters"
   ]
  },
  {
   "cell_type": "raw",
   "metadata": {
    "vscode": {
     "languageId": "raw"
    }
   },
   "source": [
    "%%bash\n",
    "terraform destroy -var-file=variables.tfvars --auto-approve"
   ]
  }
 ],
 "metadata": {
  "kernelspec": {
   "display_name": "base",
   "language": "python",
   "name": "python3"
  },
  "language_info": {
   "codemirror_mode": {
    "name": "ipython",
    "version": 3
   },
   "file_extension": ".py",
   "mimetype": "text/x-python",
   "name": "python",
   "nbconvert_exporter": "python",
   "pygments_lexer": "ipython3",
   "version": "3.9.13"
  }
 },
 "nbformat": 4,
 "nbformat_minor": 2
}
