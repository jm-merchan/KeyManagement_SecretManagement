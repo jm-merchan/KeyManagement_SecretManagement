{
 "cells": [
  {
   "cell_type": "markdown",
   "metadata": {},
   "source": [
    "# Option 1. Initialize"
   ]
  },
  {
   "cell_type": "markdown",
   "metadata": {},
   "source": [
    "* For Primary cluster"
   ]
  },
  {
   "cell_type": "code",
   "execution_count": 3,
   "metadata": {},
   "outputs": [
    {
     "name": "stderr",
     "output_type": "stream",
     "text": [
      "Your browser has been opened to visit:\n",
      "\n",
      "    https://accounts.google.com/o/oauth2/auth?response_type=code&client_id=32555940559.apps.googleusercontent.com&redirect_uri=http%3A%2F%2Flocalhost%3A8087%2F&scope=openid+https%3A%2F%2Fwww.googleapis.com%2Fauth%2Fuserinfo.email+https%3A%2F%2Fwww.googleapis.com%2Fauth%2Fcloud-platform+https%3A%2F%2Fwww.googleapis.com%2Fauth%2Fappengine.admin+https%3A%2F%2Fwww.googleapis.com%2Fauth%2Fsqlservice.login+https%3A%2F%2Fwww.googleapis.com%2Fauth%2Fcompute+https%3A%2F%2Fwww.googleapis.com%2Fauth%2Faccounts.reauth&state=BNtwSUKLugq9diRBA0jBgVq0NS6DLk&access_type=offline&code_challenge=tgKRzB71DMQkm8c5FYQ2iwhAk5Xf1NRLOkkEXH2O1LM&code_challenge_method=S256\n",
      "\n",
      "\n",
      "You are now logged in as [jose.merchan@hashicorp.com].\n",
      "Your current project is [None].  You can change this setting by running:\n",
      "  $ gcloud config set project PROJECT_ID\n"
     ]
    },
    {
     "name": "stdout",
     "output_type": "stream",
     "text": [
      "Key                      Value\n",
      "---                      -----\n",
      "Recovery Seal Type       gcpckms\n",
      "Initialized              false\n",
      "Sealed                   true\n",
      "Total Recovery Shares    0\n",
      "Threshold                0\n",
      "Unseal Progress          0/0\n",
      "Unseal Nonce             n/a\n",
      "Version                  1.18.1+ent\n",
      "Build Date               2024-10-29T14:21:43Z\n",
      "Storage Type             raft\n",
      "HA Enabled               true\n"
     ]
    },
    {
     "name": "stderr",
     "output_type": "stream",
     "text": [
      "  % Total    % Received % Xferd  Average Speed   Time    Time     Time  Current\n",
      "                                 Dload  Upload   Total   Spent    Left  Speed\n",
      "100    40  100    40    0     0    697      0 --:--:-- --:--:-- --:--:--   784\n"
     ]
    },
    {
     "name": "stdout",
     "output_type": "stream",
     "text": [
      "<a href=\"/ui/\">Temporary Redirect</a>.\n",
      "\n"
     ]
    },
    {
     "name": "stderr",
     "output_type": "stream",
     "text": [
      "Created secret [root_token_europe-southwest1_jlhb].\n",
      "Created version [1] of the secret [root_token_europe-southwest1_jlhb].\n",
      "Created secret [vault_init_data_europe-southwest1_jlhb].\n",
      "Created version [1] of the secret [vault_init_data_europe-southwest1_jlhb].\n",
      "Command flags must be provided before positional arguments. The following arguments will not be parsed as flags: [-path=localfile/]\n"
     ]
    },
    {
     "name": "stdout",
     "output_type": "stream",
     "text": [
      "Success! Enabled the file audit device at: file/\n",
      "Success! Enabled the file audit device at: stdout/\n"
     ]
    },
    {
     "name": "stderr",
     "output_type": "stream",
     "text": [
      "created key [df37209cc05b0d2e55a52939c4222f56b367bc0f] of type [json] as [sa-keys__europe-southwest1_jlhb.json] for [europe-southwest1-savault-jlhb@hc-73f8ab4df44146ba8cffb466d83.iam.gserviceaccount.com]\n"
     ]
    },
    {
     "name": "stdout",
     "output_type": "stream",
     "text": [
      "Success! Data written to: sys/storage/raft/snapshot-auto/config/hourly\n",
      "VAULT TOKEN: hvs.QbtInWOOYqrZJnMrDmcaArKs\n",
      "VAULT ADDR: https://vault-primary-europe-southwest1-jlhb.josemerchan-f986bf.gcp.sbx.hashicorpdemo.com:8200\n"
     ]
    }
   ],
   "source": [
    "%%bash\n",
    "gcloud auth login\n",
    "eval \"$(terraform output -raw cluster_primary_init_remote)\"\n",
    "echo \"VAULT TOKEN: $VAULT_TOKEN\"\n",
    "echo \"VAULT ADDR: $VAULT_ADDR\""
   ]
  },
  {
   "cell_type": "markdown",
   "metadata": {},
   "source": [
    "* For PR secondary cluster"
   ]
  },
  {
   "cell_type": "code",
   "execution_count": 4,
   "metadata": {},
   "outputs": [
    {
     "name": "stdout",
     "output_type": "stream",
     "text": [
      "Key                      Value\n",
      "---                      -----\n",
      "Recovery Seal Type       gcpckms\n",
      "Initialized              false\n",
      "Sealed                   true\n",
      "Total Recovery Shares    0\n",
      "Threshold                0\n",
      "Unseal Progress          0/0\n",
      "Unseal Nonce             n/a\n",
      "Version                  1.18.1+ent\n",
      "Build Date               2024-10-29T14:21:43Z\n",
      "Storage Type             raft\n",
      "HA Enabled               true\n"
     ]
    },
    {
     "name": "stderr",
     "output_type": "stream",
     "text": [
      "  % Total    % Received % Xferd  Average Speed   Time    Time     Time  Current\n",
      "                                 Dload  Upload   Total   Spent    Left  Speed\n",
      "100    40  100    40    0     0    197      0 --:--:-- --:--:-- --:--:--   201\n"
     ]
    },
    {
     "name": "stdout",
     "output_type": "stream",
     "text": [
      "<a href=\"/ui/\">Temporary Redirect</a>.\n",
      "\n"
     ]
    },
    {
     "name": "stderr",
     "output_type": "stream",
     "text": [
      "Created secret [root_token_europe-north1_yo55].\n",
      "Created version [1] of the secret [root_token_europe-north1_yo55].\n",
      "Created secret [vault_init_data_europe-north1_yo55].\n",
      "Created version [1] of the secret [vault_init_data_europe-north1_yo55].\n",
      "Command flags must be provided before positional arguments. The following arguments will not be parsed as flags: [-path=localfile/]\n"
     ]
    },
    {
     "name": "stdout",
     "output_type": "stream",
     "text": [
      "Success! Enabled the file audit device at: file/\n",
      "Success! Enabled the file audit device at: stdout/\n"
     ]
    },
    {
     "name": "stderr",
     "output_type": "stream",
     "text": [
      "created key [51588daa4dca1225877cbf59d298ec19c01140b9] of type [json] as [sa-keys__europe-north1_yo55.json] for [europe-north1-savault-yo55@hc-73f8ab4df44146ba8cffb466d83.iam.gserviceaccount.com]\n"
     ]
    },
    {
     "name": "stdout",
     "output_type": "stream",
     "text": [
      "Success! Data written to: sys/storage/raft/snapshot-auto/config/hourly\n",
      "VAULT TOKEN: hvs.7QbeYFidl5OqbdL1CJHqOyRW\n",
      "VAULT ADDR: https://vault-pr-europe-north1-yo55.josemerchan-f986bf.gcp.sbx.hashicorpdemo.com:8200\n"
     ]
    }
   ],
   "source": [
    "%%bash\n",
    "eval \"$(terraform output -raw cluster_pr_init_remote)\"\n",
    "echo \"VAULT TOKEN: $VAULT_TOKEN\"\n",
    "echo \"VAULT ADDR: $VAULT_ADDR\""
   ]
  },
  {
   "cell_type": "markdown",
   "metadata": {},
   "source": [
    "* For DR secondary cluster"
   ]
  },
  {
   "cell_type": "code",
   "execution_count": 5,
   "metadata": {},
   "outputs": [
    {
     "name": "stdout",
     "output_type": "stream",
     "text": [
      "Key                      Value\n",
      "---                      -----\n",
      "Recovery Seal Type       gcpckms\n",
      "Initialized              false\n",
      "Sealed                   true\n",
      "Total Recovery Shares    0\n",
      "Threshold                0\n",
      "Unseal Progress          0/0\n",
      "Unseal Nonce             n/a\n",
      "Version                  1.18.1+ent\n",
      "Build Date               2024-10-29T14:21:43Z\n",
      "Storage Type             raft\n",
      "HA Enabled               true\n"
     ]
    },
    {
     "name": "stderr",
     "output_type": "stream",
     "text": [
      "  % Total    % Received % Xferd  Average Speed   Time    Time     Time  Current\n",
      "                                 Dload  Upload   Total   Spent    Left  Speed\n",
      "100    40  100    40    0     0    113      0 --:--:-- --:--:-- --:--:--   114\n"
     ]
    },
    {
     "name": "stdout",
     "output_type": "stream",
     "text": [
      "<a href=\"/ui/\">Temporary Redirect</a>.\n",
      "\n"
     ]
    },
    {
     "name": "stderr",
     "output_type": "stream",
     "text": [
      "Created secret [root_token_us-east1_r4y4].\n",
      "Created version [1] of the secret [root_token_us-east1_r4y4].\n",
      "Created secret [vault_init_data_us-east1_r4y4].\n",
      "Created version [1] of the secret [vault_init_data_us-east1_r4y4].\n",
      "Command flags must be provided before positional arguments. The following arguments will not be parsed as flags: [-path=localfile/]\n"
     ]
    },
    {
     "name": "stdout",
     "output_type": "stream",
     "text": [
      "Success! Enabled the file audit device at: file/\n",
      "Success! Enabled the file audit device at: stdout/\n"
     ]
    },
    {
     "name": "stderr",
     "output_type": "stream",
     "text": [
      "created key [e14f682dac308e9723549c8ac143be0156483554] of type [json] as [sa-keys__us-east1_r4y4.json] for [us-east1-savault-r4y4@hc-73f8ab4df44146ba8cffb466d83.iam.gserviceaccount.com]\n"
     ]
    },
    {
     "name": "stdout",
     "output_type": "stream",
     "text": [
      "Success! Data written to: sys/storage/raft/snapshot-auto/config/hourly\n",
      "VAULT TOKEN: hvs.3snQ2kunN3LumsC4rAp9hF2X\n",
      "VAULT ADDR: https://vault-dr-us-east1-r4y4.josemerchan-f986bf.gcp.sbx.hashicorpdemo.com:8200\n"
     ]
    }
   ],
   "source": [
    "%%bash\n",
    "eval \"$(terraform output -raw cluster_dr_init_remote)\"\n",
    "echo \"VAULT TOKEN: $VAULT_TOKEN\"\n",
    "echo \"VAULT ADDR: $VAULT_ADDR\""
   ]
  },
  {
   "cell_type": "raw",
   "metadata": {
    "vscode": {
     "languageId": "raw"
    }
   },
   "source": [
    "%%bash\n",
    "terraform destroy -var-file=variables.tfvars --auto-approve"
   ]
  }
 ],
 "metadata": {
  "kernelspec": {
   "display_name": "base",
   "language": "python",
   "name": "python3"
  },
  "language_info": {
   "codemirror_mode": {
    "name": "ipython",
    "version": 3
   },
   "file_extension": ".py",
   "mimetype": "text/x-python",
   "name": "python",
   "nbconvert_exporter": "python",
   "pygments_lexer": "ipython3",
   "version": "3.9.13"
  }
 },
 "nbformat": 4,
 "nbformat_minor": 2
}
