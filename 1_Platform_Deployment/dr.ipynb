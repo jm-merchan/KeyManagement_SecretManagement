{
 "cells": [
  {
   "cell_type": "markdown",
   "metadata": {},
   "source": [
    "## CONFIGURE PRIMARY CLUSTER"
   ]
  },
  {
   "cell_type": "code",
   "execution_count": null,
   "metadata": {},
   "outputs": [],
   "source": [
    "%%bash\n",
    "gcloud auth login\n",
    "export VAULT_ADDR=$(terraform output -raw cluster_primary_fqdn_8200)\n",
    "vault_token_primary=$(terraform output -raw cluster_primary_read_vault_token)\n",
    "# Execute the command stored in $vault_token\n",
    "export VAULT_TOKEN=$(eval \"$vault_token_primary\")\n",
    "\n",
    "\n",
    "vault write -f sys/replication/dr/primary/enable primary_cluster_addr=$(terraform output -raw cluster_primary_fqdn_8201)\n",
    "sleep 5\n",
    "\n",
    "vault write -format=json sys/replication/dr/primary/secondary-token id=dr12 | jq -r .wrap_info.token > dr_token.txt\n",
    "\n"
   ]
  },
  {
   "cell_type": "markdown",
   "metadata": {},
   "source": [
    "## CONFIGURE SECONDARY CLUSTER"
   ]
  },
  {
   "cell_type": "code",
   "execution_count": null,
   "metadata": {},
   "outputs": [],
   "source": [
    "%%bash\n",
    "\n",
    "export VAULT_ADDR=$(terraform output -raw cluster_dr_fqdn_8200)\n",
    "vault_token_dr=$(terraform output -raw cluster_dr_read_vault_token)\n",
    "# Execute the command stored in $vault_token\n",
    "export VAULT_TOKEN=$(eval \"$vault_token_dr\")\n",
    "\n",
    "vault write sys/replication/dr/secondary/enable  \\\n",
    "    primary_api_addr=$(terraform output -raw cluster_primary_fqdn_8200) \\\n",
    "    token=$(cat dr_token.txt)"
   ]
  },
  {
   "cell_type": "code",
   "execution_count": null,
   "metadata": {},
   "outputs": [],
   "source": [
    "%%bash\n",
    "\n",
    "export VAULT_ADDR=$(terraform output -raw cluster_primary_fqdn_8200)\n",
    "vault_token_primary=$(terraform output -raw cluster_primary_read_vault_token)\n",
    "export VAULT_TOKEN=$(eval \"$vault_token_primary\")\n",
    "\n",
    "vault policy write dr-secondary-promotion - <<EOF\n",
    "path \"sys/replication/dr/secondary/promote\" {\n",
    "  capabilities = [ \"update\" ]\n",
    "}\n",
    "\n",
    "# To update the primary to connect\n",
    "path \"sys/replication/dr/secondary/update-primary\" {\n",
    "    capabilities = [ \"update\" ]\n",
    "}\n",
    "\n",
    "# Only if using integrated storage (raft) as the storage backend\n",
    "# To read the current autopilot status\n",
    "path \"sys/storage/raft/autopilot/state\" {\n",
    "    capabilities = [ \"update\" , \"read\" ]\n",
    "}\n",
    "\n",
    "path \"sys/storage/raft/*\" {\n",
    "    capabilities = [ \"update\" , \"read\", \"create\", \"delete\", \"patch\", \"sudo\" ]\n",
    "}\n",
    "EOF\n",
    "\n",
    "vault write auth/token/roles/failover-handler \\\n",
    "    allowed_policies=dr-secondary-promotion \\\n",
    "    orphan=true \\\n",
    "    renewable=false \\\n",
    "    token_type=batch\n",
    "\n",
    "\n",
    "vault token create -role=failover-handler -ttl=8h\n",
    "\n",
    "vault read sys/storage/raft/autopilot/state"
   ]
  },
  {
   "cell_type": "code",
   "execution_count": null,
   "metadata": {},
   "outputs": [],
   "source": [
    "%%bash\n",
    "export VAULT_ADDR=$(terraform output -raw cluster_primary_fqdn_8200)\n",
    "vault_token_primary=$(terraform output -raw cluster_primary_read_vault_token)\n",
    "export VAULT_TOKEN=$(eval \"$vault_token_primary\")\n",
    "\n",
    "vault token create -role=failover-handler -ttl=8h -format=json | jq -r .auth.client_token > dr_batch_token.txt"
   ]
  },
  {
   "cell_type": "code",
   "execution_count": null,
   "metadata": {},
   "outputs": [],
   "source": [
    "%%bash\n",
    "export VAULT_ADDR=$(terraform output -raw cluster_dr_fqdn_8200)\n",
    "export VAULT_TOKEN=$(cat dr_batch_token.txt)\n",
    "\n",
    "vault read sys/storage/raft/autopilot/state"
   ]
  }
 ],
 "metadata": {
  "kernelspec": {
   "display_name": "base",
   "language": "python",
   "name": "python3"
  },
  "language_info": {
   "codemirror_mode": {
    "name": "ipython",
    "version": 3
   },
   "file_extension": ".py",
   "mimetype": "text/x-python",
   "name": "python",
   "nbconvert_exporter": "python",
   "pygments_lexer": "ipython3",
   "version": "3.9.13"
  }
 },
 "nbformat": 4,
 "nbformat_minor": 2
}
