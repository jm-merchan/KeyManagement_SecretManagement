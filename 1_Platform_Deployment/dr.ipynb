{
 "cells": [
  {
   "cell_type": "markdown",
   "metadata": {},
   "source": [
    "## CONFIGURE PRIMARY CLUSTER"
   ]
  },
  {
   "cell_type": "code",
   "execution_count": 1,
   "metadata": {},
   "outputs": [
    {
     "name": "stderr",
     "output_type": "stream",
     "text": [
      "Your browser has been opened to visit:\n",
      "\n",
      "    https://accounts.google.com/o/oauth2/auth?response_type=code&client_id=32555940559.apps.googleusercontent.com&redirect_uri=http%3A%2F%2Flocalhost%3A8087%2F&scope=openid+https%3A%2F%2Fwww.googleapis.com%2Fauth%2Fuserinfo.email+https%3A%2F%2Fwww.googleapis.com%2Fauth%2Fcloud-platform+https%3A%2F%2Fwww.googleapis.com%2Fauth%2Fappengine.admin+https%3A%2F%2Fwww.googleapis.com%2Fauth%2Fsqlservice.login+https%3A%2F%2Fwww.googleapis.com%2Fauth%2Fcompute+https%3A%2F%2Fwww.googleapis.com%2Fauth%2Faccounts.reauth&state=0BL7TN4mdb5pbDANUcxr9ee5gXYmSp&access_type=offline&code_challenge=ex3ej3i6Xd52V-lipkhJyQOliEcwX8PFFzKZP5NPdhI&code_challenge_method=S256\n",
      "\n",
      "\n",
      "You are now logged in as [jose.merchan@hashicorp.com].\n",
      "Your current project is [None].  You can change this setting by running:\n",
      "  $ gcloud config set project PROJECT_ID\n",
      "WARNING! The following warnings were returned from Vault:\n",
      "\n",
      "  * This cluster is being enabled as a primary for replication. Vault will be\n",
      "  unavailable for a brief period and will resume service shortly.\n",
      "\n"
     ]
    }
   ],
   "source": [
    "%%bash\n",
    "gcloud auth login\n",
    "export VAULT_ADDR=$(terraform output -raw cluster_primary_fqdn_8200)\n",
    "vault_token_primary=$(terraform output -raw cluster_primary_read_vault_token)\n",
    "# Execute the command stored in $vault_token\n",
    "export VAULT_TOKEN=$(eval \"$vault_token_primary\")\n",
    "\n",
    "\n",
    "vault write -f sys/replication/dr/primary/enable primary_cluster_addr=$(terraform output -raw cluster_primary_fqdn_8201)\n",
    "sleep 5\n",
    "\n",
    "vault write -format=json sys/replication/dr/primary/secondary-token id=dr12 | jq -r .wrap_info.token > dr_token.txt\n",
    "\n"
   ]
  },
  {
   "cell_type": "markdown",
   "metadata": {},
   "source": [
    "## CONFIGURE SECONDARY CLUSTER"
   ]
  },
  {
   "cell_type": "code",
   "execution_count": 2,
   "metadata": {},
   "outputs": [
    {
     "name": "stderr",
     "output_type": "stream",
     "text": [
      "WARNING! The following warnings were returned from Vault:\n",
      "\n",
      "  * Vault has successfully found secondary information; it may take a while to\n",
      "  perform setup tasks. Vault will be unavailable until these tasks and initial\n",
      "  sync complete.\n",
      "\n"
     ]
    }
   ],
   "source": [
    "%%bash\n",
    "\n",
    "export VAULT_ADDR=$(terraform output -raw cluster_dr_fqdn_8200)\n",
    "vault_token_dr=$(terraform output -raw cluster_dr_read_vault_token)\n",
    "# Execute the command stored in $vault_token\n",
    "export VAULT_TOKEN=$(eval \"$vault_token_dr\")\n",
    "\n",
    "vault write sys/replication/dr/secondary/enable  \\\n",
    "    primary_api_addr=$(terraform output -raw cluster_primary_fqdn_8200) \\\n",
    "    token=$(cat dr_token.txt)"
   ]
  },
  {
   "cell_type": "code",
   "execution_count": 3,
   "metadata": {},
   "outputs": [
    {
     "name": "stdout",
     "output_type": "stream",
     "text": [
      "Success! Uploaded policy: dr-secondary-promotion\n",
      "Success! Data written to: auth/token/roles/failover-handler\n",
      "Key                  Value\n",
      "---                  -----\n",
      "token                hvb.AAAAAQL0-v-OEZ4NPNE8Li48a0KvcPwMfcmfsrOielB2tcKoUi5hmF9AgdUYFAiduUwwv4RqRpZu0SD0OnOTEA6zX1qMovH72RoWCtSx229Pp4O2R0ac4t6kNRx0y2xik2PHGPnBTsNxyFaqgTDUL2o4Mnzz3iJ2eEIiyLc_Iw-6yzU66tMwwKGy9BRE8-XINWMa2fbeiA\n",
      "token_accessor       n/a\n",
      "token_duration       8h\n",
      "token_renewable      false\n",
      "token_policies       [\"default\" \"dr-secondary-promotion\"]\n",
      "identity_policies    []\n",
      "policies             [\"default\" \"dr-secondary-promotion\"]\n",
      "Key                             Value\n",
      "---                             -----\n",
      "failure_tolerance               2\n",
      "healthy                         true\n",
      "leader                          vault-primary-0\n",
      "optimistic_failure_tolerance    2\n",
      "servers                         map[vault-primary-0:map[address:vault-primary-0.vault-primary-internal:8201 healthy:true id:vault-primary-0 last_contact:0s last_index:659 last_term:3 name:vault-primary-0 node_status:alive node_type:voter stable_since:2024-11-18T10:12:15.540510349Z status:leader upgrade_version:1.18.1 version:1.18.1] vault-primary-1:map[address:vault-primary-1.vault-primary-internal:8201 healthy:true id:vault-primary-1 last_contact:4.241772842s last_index:648 last_term:3 name:vault-primary-1 node_status:alive node_type:voter stable_since:2024-11-18T10:12:15.540510349Z status:voter upgrade_version:1.18.1 version:1.18.1] vault-primary-2:map[address:vault-primary-2.vault-primary-internal:8201 healthy:true id:vault-primary-2 last_contact:3.711741169s last_index:649 last_term:3 name:vault-primary-2 node_status:alive node_type:voter stable_since:2024-11-18T10:12:15.540510349Z status:voter upgrade_version:1.18.1 version:1.18.1] vault-primary-3:map[address:vault-primary-3.vault-primary-internal:8201 healthy:true id:vault-primary-3 last_contact:49.230553ms last_index:659 last_term:3 name:vault-primary-3 node_status:alive node_type:voter stable_since:2024-11-18T10:12:15.540510349Z status:voter upgrade_version:1.18.1 version:1.18.1] vault-primary-4:map[address:vault-primary-4.vault-primary-internal:8201 healthy:true id:vault-primary-4 last_contact:4.535905075s last_index:648 last_term:3 name:vault-primary-4 node_status:alive node_type:voter stable_since:2024-11-18T10:12:15.540510349Z status:voter upgrade_version:1.18.1 version:1.18.1]]\n",
      "upgrade_info                    map[status:idle target_version:1.18.1 target_version_voters:[vault-primary-0 vault-primary-1 vault-primary-2 vault-primary-3 vault-primary-4]]\n",
      "voters                          [vault-primary-0 vault-primary-1 vault-primary-2 vault-primary-3 vault-primary-4]\n"
     ]
    }
   ],
   "source": [
    "%%bash\n",
    "\n",
    "export VAULT_ADDR=$(terraform output -raw cluster_primary_fqdn_8200)\n",
    "vault_token_primary=$(terraform output -raw cluster_primary_read_vault_token)\n",
    "export VAULT_TOKEN=$(eval \"$vault_token_primary\")\n",
    "\n",
    "vault policy write dr-secondary-promotion - <<EOF\n",
    "path \"sys/replication/dr/secondary/promote\" {\n",
    "  capabilities = [ \"update\" ]\n",
    "}\n",
    "\n",
    "# To update the primary to connect\n",
    "path \"sys/replication/dr/secondary/update-primary\" {\n",
    "    capabilities = [ \"update\" ]\n",
    "}\n",
    "\n",
    "# Only if using integrated storage (raft) as the storage backend\n",
    "# To read the current autopilot status\n",
    "path \"sys/storage/raft/autopilot/state\" {\n",
    "    capabilities = [ \"update\" , \"read\" ]\n",
    "}\n",
    "\n",
    "path \"sys/storage/raft/*\" {\n",
    "    capabilities = [ \"update\" , \"read\", \"create\", \"delete\", \"patch\", \"sudo\" ]\n",
    "}\n",
    "EOF\n",
    "\n",
    "vault write auth/token/roles/failover-handler \\\n",
    "    allowed_policies=dr-secondary-promotion \\\n",
    "    orphan=true \\\n",
    "    renewable=false \\\n",
    "    token_type=batch\n",
    "\n",
    "\n",
    "vault token create -role=failover-handler -ttl=8h\n",
    "\n",
    "vault read sys/storage/raft/autopilot/state"
   ]
  },
  {
   "cell_type": "code",
   "execution_count": 8,
   "metadata": {},
   "outputs": [],
   "source": [
    "%%bash\n",
    "export VAULT_ADDR=$(terraform output -raw cluster_primary_fqdn_8200)\n",
    "vault_token_primary=$(terraform output -raw cluster_primary_read_vault_token)\n",
    "export VAULT_TOKEN=$(eval \"$vault_token_primary\")\n",
    "\n",
    "vault token create -role=failover-handler -ttl=8h -format=json | jq -r .auth.client_token > dr_batch_token.txt"
   ]
  },
  {
   "cell_type": "code",
   "execution_count": 9,
   "metadata": {},
   "outputs": [
    {
     "name": "stdout",
     "output_type": "stream",
     "text": [
      "Key                             Value\n",
      "---                             -----\n",
      "failure_tolerance               2\n",
      "healthy                         true\n",
      "leader                          vault-dr-2\n",
      "optimistic_failure_tolerance    2\n",
      "servers                         map[vault-dr-0:map[address:vault-dr-0.vault-dr-internal:8201 healthy:true id:vault-dr-0 last_contact:616.828535ms last_index:2173 last_term:4 name:vault-dr-0 node_status:alive node_type:voter stable_since:2024-11-18T10:16:25.601846214Z status:voter upgrade_version:1.18.1 version:1.18.1] vault-dr-1:map[address:vault-dr-1.vault-dr-internal:8201 healthy:true id:vault-dr-1 last_contact:555.515577ms last_index:2173 last_term:4 name:vault-dr-1 node_status:alive node_type:voter stable_since:2024-11-18T10:16:25.601846214Z status:voter upgrade_version:1.18.1 version:1.18.1] vault-dr-2:map[address:vault-dr-2.vault-dr-internal:8201 healthy:true id:vault-dr-2 last_contact:0s last_index:2178 last_term:4 name:vault-dr-2 node_status:alive node_type:voter stable_since:2024-11-18T10:16:25.601846214Z status:leader upgrade_version:1.18.1 version:1.18.1] vault-dr-3:map[address:vault-dr-3.vault-dr-internal:8201 healthy:true id:vault-dr-3 last_contact:3.581864134s last_index:2167 last_term:4 name:vault-dr-3 node_status:alive node_type:voter stable_since:2024-11-18T10:16:25.601846214Z status:voter upgrade_version:1.18.1 version:1.18.1] vault-dr-4:map[address:vault-dr-4.vault-dr-internal:8201 healthy:true id:vault-dr-4 last_contact:4.111069962s last_index:2166 last_term:4 name:vault-dr-4 node_status:alive node_type:voter stable_since:2024-11-18T10:16:25.601846214Z status:voter upgrade_version:1.18.1 version:1.18.1]]\n",
      "upgrade_info                    map[status:idle target_version:1.18.1 target_version_voters:[vault-dr-2 vault-dr-0 vault-dr-1 vault-dr-3 vault-dr-4]]\n",
      "voters                          [vault-dr-2 vault-dr-0 vault-dr-1 vault-dr-3 vault-dr-4]\n"
     ]
    }
   ],
   "source": [
    "%%bash\n",
    "export VAULT_ADDR=$(terraform output -raw cluster_dr_fqdn_8200)\n",
    "export VAULT_TOKEN=$(cat dr_batch_token.txt)\n",
    "\n",
    "vault read sys/storage/raft/autopilot/state"
   ]
  }
 ],
 "metadata": {
  "kernelspec": {
   "display_name": "base",
   "language": "python",
   "name": "python3"
  },
  "language_info": {
   "codemirror_mode": {
    "name": "ipython",
    "version": 3
   },
   "file_extension": ".py",
   "mimetype": "text/x-python",
   "name": "python",
   "nbconvert_exporter": "python",
   "pygments_lexer": "ipython3",
   "version": "3.9.13"
  }
 },
 "nbformat": 4,
 "nbformat_minor": 2
}
