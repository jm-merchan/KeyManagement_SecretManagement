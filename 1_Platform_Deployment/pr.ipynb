{
 "cells": [
  {
   "cell_type": "markdown",
   "metadata": {},
   "source": [
    "## CONFIGURE PRIMARY CLUSTER"
   ]
  },
  {
   "cell_type": "code",
   "execution_count": 1,
   "metadata": {},
   "outputs": [
    {
     "name": "stderr",
     "output_type": "stream",
     "text": [
      "Your browser has been opened to visit:\n",
      "\n",
      "    https://accounts.google.com/o/oauth2/auth?response_type=code&client_id=32555940559.apps.googleusercontent.com&redirect_uri=http%3A%2F%2Flocalhost%3A8087%2F&scope=openid+https%3A%2F%2Fwww.googleapis.com%2Fauth%2Fuserinfo.email+https%3A%2F%2Fwww.googleapis.com%2Fauth%2Fcloud-platform+https%3A%2F%2Fwww.googleapis.com%2Fauth%2Fappengine.admin+https%3A%2F%2Fwww.googleapis.com%2Fauth%2Fsqlservice.login+https%3A%2F%2Fwww.googleapis.com%2Fauth%2Fcompute+https%3A%2F%2Fwww.googleapis.com%2Fauth%2Faccounts.reauth&state=90u1KCx90wlfIZD3GiCyy7fY0trAy2&access_type=offline&code_challenge=IG0XBHlWEh1LhTkOK1Bc8nIIrvsMdTyBYvjWScGikss&code_challenge_method=S256\n",
      "\n",
      "\n",
      "You are now logged in as [jose.merchan@hashicorp.com].\n",
      "Your current project is [None].  You can change this setting by running:\n",
      "  $ gcloud config set project PROJECT_ID\n",
      "WARNING! The following warnings were returned from Vault:\n",
      "\n",
      "  * This cluster is being enabled as a primary for replication. Vault will be\n",
      "  unavailable for a brief period and will resume service shortly.\n",
      "\n"
     ]
    }
   ],
   "source": [
    "%%bash\n",
    "gcloud auth login\n",
    "export VAULT_ADDR=$(terraform output -raw cluster_primary_fqdn_8200)\n",
    "vault_token_primary=$(terraform output -raw cluster_primary_read_vault_token)\n",
    "# Execute the command stored in $vault_token\n",
    "export VAULT_TOKEN=$(eval \"$vault_token_primary\")\n",
    "\n",
    "\n",
    "vault write -f sys/replication/performance/primary/enable primary_cluster_addr=$(terraform output -raw cluster_primary_fqdn_8201)\n",
    "sleep 5\n",
    "\n",
    "vault write -format=json sys/replication/performance/primary/secondary-token id=pr12 | jq -r .wrap_info.token > pr_token.txt\n",
    "\n"
   ]
  },
  {
   "cell_type": "markdown",
   "metadata": {},
   "source": [
    "## CONFIGURE SECONDARY CLUSTER"
   ]
  },
  {
   "cell_type": "code",
   "execution_count": 2,
   "metadata": {},
   "outputs": [
    {
     "name": "stderr",
     "output_type": "stream",
     "text": [
      "WARNING! The following warnings were returned from Vault:\n",
      "\n",
      "  * Vault has successfully found secondary information; it may take a while to\n",
      "  perform setup tasks. Vault will be unavailable until these tasks and initial\n",
      "  sync complete.\n",
      "\n"
     ]
    }
   ],
   "source": [
    "%%bash\n",
    "\n",
    "export VAULT_ADDR=$(terraform output -raw cluster_pr_fqdn_8200)\n",
    "vault_token_pr=$(terraform output -raw cluster_pr_read_vault_token)\n",
    "# Execute the command stored in $vault_token\n",
    "export VAULT_TOKEN=$(eval \"$vault_token_pr\")\n",
    "\n",
    "vault write sys/replication/performance/secondary/enable  \\\n",
    "    primary_api_addr=$(terraform output -raw cluster_primary_fqdn_8200) \\\n",
    "    token=$(cat pr_token.txt)"
   ]
  }
 ],
 "metadata": {
  "kernelspec": {
   "display_name": "base",
   "language": "python",
   "name": "python3"
  },
  "language_info": {
   "codemirror_mode": {
    "name": "ipython",
    "version": 3
   },
   "file_extension": ".py",
   "mimetype": "text/x-python",
   "name": "python",
   "nbconvert_exporter": "python",
   "pygments_lexer": "ipython3",
   "version": "3.9.13"
  }
 },
 "nbformat": 4,
 "nbformat_minor": 2
}
