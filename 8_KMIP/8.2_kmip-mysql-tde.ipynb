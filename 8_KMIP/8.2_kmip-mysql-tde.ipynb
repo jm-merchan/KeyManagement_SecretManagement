{
 "cells": [
  {
   "cell_type": "markdown",
   "metadata": {},
   "source": [
    "## Credit to https://github.com/johnnyf-hcp/vault-demo-kmip-mysql"
   ]
  },
  {
   "cell_type": "code",
   "execution_count": null,
   "metadata": {
    "vscode": {
     "languageId": "shellscript"
    }
   },
   "outputs": [],
   "source": [
    "%env WORKDIR=/tmp/vault\n",
    "%env VAULT_KMIP_PORT=5696\n",
    "%env KMIP_SVC_NAME=my-service\n",
    "%env KMIP_ROLE_NAME=admin\n",
    "%env MYSQL_PORT=3306\n",
    "%env MYSQL_TAG=latest\n",
    "%env ORACLE_REG_EMAIL=jose.merchan@hashicorp.com\n",
    "%env ORACLE_REG_PASSWORD=\"'#np@sy^QL7NCdJ\""
   ]
  },
  {
   "cell_type": "code",
   "execution_count": null,
   "metadata": {
    "vscode": {
     "languageId": "shellscript"
    }
   },
   "outputs": [],
   "source": [
    "%%bash\n",
    "cat $WORKDIR/VAULT_TOKEN.TXT\n",
    "cat $WORKDIR/VAULT_ADDR.TXT"
   ]
  },
  {
   "cell_type": "code",
   "execution_count": null,
   "metadata": {
    "vscode": {
     "languageId": "shellscript"
    }
   },
   "outputs": [],
   "source": [
    "%env VAULT_ADDR=https://vault-primary-europe-southwest1-rche.josemerchan-f986bf.gcp.sbx.hashicorpdemo.com:8200\n",
    "%env VAULT_TOKEN=hvs.TOQpapl9gf4vE5R68194BK6k"
   ]
  },
  {
   "cell_type": "code",
   "execution_count": null,
   "metadata": {
    "vscode": {
     "languageId": "shellscript"
    }
   },
   "outputs": [],
   "source": [
    "%%bash\n",
    "# Log into the Oracle docker registry\n",
    "echo \"$ORACLE_REG_PASSWORD\" | docker login container-registry.oracle.com -u $ORACLE_REG_EMAIL --password-stdin\n",
    "# Pull the MySQL Enterprise docker image\n",
    "docker pull container-registry.oracle.com/mysql/enterprise-server:latest"
   ]
  },
  {
   "cell_type": "markdown",
   "metadata": {},
   "source": [
    "# Setting up HashiCorp Vault"
   ]
  },
  {
   "cell_type": "code",
   "execution_count": null,
   "metadata": {
    "vscode": {
     "languageId": "shellscript"
    }
   },
   "outputs": [],
   "source": [
    "%%bash\n",
    "# Enable KMIP secrets engine at the default mount path\n",
    "#vault secrets disable kmip\n",
    "vault secrets enable kmip\n",
    "\n",
    "# Start KMIP Server and set client TLS certificate TTL to 365 days\n",
    "\n",
    "# Get the docker IP address of the Vault server to configure the certificate SANs.  Otherwise the MongoDB KMIP connection will fail.\n",
    "export KMIP_ADDR=$(terraform  output -state=../1_Platform_Deployment/terraform.tfstate -raw cluster_primary_fqdn_kmip)\n",
    "export FQDN=$(echo \"$KMIP_ADDR\" | sed -E 's~https://([^:/]+).*~\\1~')\n",
    "export IP=$(dig $FQDN +short)\n",
    "\n",
    "\n",
    "# Option 1 - Elliptic Curve (EC) is the default\n",
    "vault write kmip/config listen_addrs=0.0.0.0 default_tls_client_ttl=365d server_hostnames=$FQDN,localhost server_ips=$IP,127.0.0.1\n",
    "# Option 2 - RSA\n",
    "#vault write kmip/config listen_addrs=0.0.0.0:$VAULT_KMIP_PORT tls_ca_key_type=\"rsa\" tls_ca_key_bits=2048 default_tls_client_ttl=365d server_hostnames=$VAULT_IP,localhost\n",
    "\n",
    "# Check the KMIP configuration\n",
    "echo\n",
    "vault read kmip/config"
   ]
  },
  {
   "cell_type": "markdown",
   "metadata": {},
   "source": [
    "## Step 2 - Creating the KMIP certificates for MySQL Server TDE"
   ]
  },
  {
   "cell_type": "code",
   "execution_count": null,
   "metadata": {
    "vscode": {
     "languageId": "shellscript"
    }
   },
   "outputs": [],
   "source": [
    "# Create a folder for the KMIP certificates to be used by MySQL Server\n",
    "! mkdir -p $WORKDIR/mysql-keyring-okv/ssl"
   ]
  },
  {
   "cell_type": "code",
   "execution_count": null,
   "metadata": {
    "vscode": {
     "languageId": "shellscript"
    }
   },
   "outputs": [],
   "source": [
    "%%bash\n",
    "# Read and store the CA certificate.  Note that in linux, the casing of the name needs to be CA.pem and not ca.pem.\n",
    "# On MacOS, the casing doesn't matter.\n",
    "vault read -format=json kmip/ca | jq -r .data.ca_pem > $WORKDIR/mysql-keyring-okv/ssl/CA.pem\n",
    "\n",
    "echo \"CA certification:\"\n",
    "cat $WORKDIR/mysql-keyring-okv/ssl/CA.pem"
   ]
  },
  {
   "cell_type": "markdown",
   "metadata": {},
   "source": [
    "## Step 2a - Create KMIP Scope in Vault\n",
    "\n",
    "The KMIP secrets engine uses the concept of scopes to partition KMIP managed object storage into multiple named buckets. Within a scope, roles can be created which dictate the set of allowed operations that the particular role can perform. TLS client certificates can be generated for a role, which services and applications can then use when sending KMIP requests against Vault's KMIP secret engine.\n",
    "\n",
    "In order to generate client certificates for KMIP clients to interact with Vault's KMIP server, we must first create a scope and role and specify the desired set of allowed operations for it."
   ]
  },
  {
   "cell_type": "code",
   "execution_count": null,
   "metadata": {
    "vscode": {
     "languageId": "shellscript"
    }
   },
   "outputs": [],
   "source": [
    "%%bash\n",
    "# Settings for the KMIP scope and role to be created\n",
    "# Create a scope\n",
    "vault write -f kmip/scope/$KMIP_SVC_NAME\n",
    "\n",
    "# List scopes and verify the KMIP scope has been created\n",
    "echo\n",
    "vault list kmip/scope"
   ]
  },
  {
   "cell_type": "code",
   "execution_count": null,
   "metadata": {
    "vscode": {
     "languageId": "shellscript"
    }
   },
   "outputs": [],
   "source": [
    "%%bash\n",
    "# Create the KMIP role (note the TTL if not set, it uses the default Vault token/lease TTL of 768hrs)\n",
    "vault write kmip/scope/$KMIP_SVC_NAME/role/$KMIP_ROLE_NAME operation_all=true tls_client_ttl=365d\n",
    "\n",
    "# List roles and verify the KMIP role has been created\n",
    "echo\n",
    "vault list kmip/scope/$KMIP_SVC_NAME/role"
   ]
  },
  {
   "cell_type": "code",
   "execution_count": null,
   "metadata": {
    "vscode": {
     "languageId": "shellscript"
    }
   },
   "outputs": [],
   "source": [
    "# Optional - View the role details\n",
    "! vault read kmip/scope/$KMIP_SVC_NAME/role/$KMIP_ROLE_NAME"
   ]
  },
  {
   "cell_type": "code",
   "execution_count": null,
   "metadata": {
    "vscode": {
     "languageId": "shellscript"
    }
   },
   "outputs": [],
   "source": [
    "%%bash\n",
    "# Generate the required certificates\n",
    "vault write -format=json \\\n",
    "  kmip/scope/$KMIP_SVC_NAME/role/$KMIP_ROLE_NAME/credential/generate \\\n",
    "  format=pem > $WORKDIR/credential.json\n",
    "\n",
    "# Save the certificate and private key\n",
    "jq -r .data.certificate < $WORKDIR/credential.json > $WORKDIR/mysql-keyring-okv/ssl/cert.pem\n",
    "jq -r .data.private_key < $WORKDIR/credential.json > $WORKDIR/mysql-keyring-okv/ssl/key.pem\n",
    "\n",
    "# Remove the temp file\n",
    "rm $WORKDIR/credential.json"
   ]
  },
  {
   "cell_type": "markdown",
   "metadata": {},
   "source": [
    "## Step 3 - Configuring MySQL Server for TDE with Vault as the KMIP server"
   ]
  },
  {
   "cell_type": "code",
   "execution_count": null,
   "metadata": {
    "vscode": {
     "languageId": "shellscript"
    }
   },
   "outputs": [],
   "source": [
    "%%bash\n",
    "# Get the docker IP address of the Vault server\n",
    "export KMIP_ADDR1=$(terraform  output -state=../1_Platform_Deployment/terraform.tfstate -raw cluster_primary_fqdn_kmip)\n",
    "export FQDN1=$(echo \"$KMIP_ADDR1\" | sed -E 's~https://([^:/]+).*~\\1~')\n",
    "export IP1=$(dig $FQDN1 +short)\n",
    "\n",
    "export KMIP_ADDR2=$(terraform  output -state=../1_Platform_Deployment/terraform.tfstate -raw cluster_dr_fqdn_kmip)\n",
    "export FQDN2=$(echo \"$KMIP_ADDR2\" | sed -E 's~https://([^:/]+).*~\\1~')\n",
    "export IP2=$(dig $FQDN2 +short)\n",
    "\n",
    "# Create the okvclient.ora file.  Specifies the KMIP server for MySQL Server.\n",
    "# For this demo, we will be using the same Vault server as the standby.\n",
    "# Note: Do not create this file on a windows machines as it inserts a CRLF character instead of a LF character on the line break.\n",
    "# This will cause an error on MySQL server on load.\n",
    "echo\n",
    "tee $WORKDIR/mysql-keyring-okv/okvclient.ora <<EOF\n",
    "SERVER=$IP1:$VAULT_KMIP_PORT\n",
    "STANDBY_SERVER=$IP2:$VAULT_KMIP_PORT\n",
    "EOF"
   ]
  },
  {
   "cell_type": "code",
   "execution_count": null,
   "metadata": {
    "vscode": {
     "languageId": "shellscript"
    }
   },
   "outputs": [],
   "source": [
    "%%bash\n",
    "# Configure my.cnf that MySQL Server will use.\n",
    "tee $WORKDIR/my.cnf <<EOF\n",
    "[mysqld]\n",
    "port=3306\n",
    "early-plugin-load=keyring_okv.so\n",
    "keyring_okv_conf_dir=/mysql-keyring-okv\n",
    "EOF"
   ]
  },
  {
   "cell_type": "code",
   "execution_count": null,
   "metadata": {
    "vscode": {
     "languageId": "shellscript"
    }
   },
   "outputs": [],
   "source": [
    "! kill $(lsof -t -i:3306)"
   ]
  },
  {
   "cell_type": "code",
   "execution_count": null,
   "metadata": {
    "vscode": {
     "languageId": "shellscript"
    }
   },
   "outputs": [],
   "source": [
    "%%bash\n",
    "# Run MySQL Enterprise in docker.\n",
    "# Expose both the MySQL port to the host machine.\n",
    "\n",
    "echo \"MySQL Container Version Used: $MYSQL_TAG\"\n",
    "echo\n",
    "docker run -d --rm --name mysql-enterprise \\\n",
    "--mount type=bind,src=$WORKDIR/my.cnf,dst=/etc/my.cnf \\\n",
    "--mount type=bind,src=$WORKDIR/mysql-keyring-okv,dst=/mysql-keyring-okv \\\n",
    "-p ${MYSQL_PORT}:${MYSQL_PORT} container-registry.oracle.com/mysql/enterprise-server:$MYSQL_TAG\n"
   ]
  },
  {
   "cell_type": "code",
   "execution_count": null,
   "metadata": {
    "vscode": {
     "languageId": "shellscript"
    }
   },
   "outputs": [],
   "source": [
    "# Verify that the MySQL Server docker container is running\n",
    "! docker ps"
   ]
  },
  {
   "cell_type": "markdown",
   "metadata": {},
   "source": [
    "## Step 4 - MySQL Server TDE Configuration Steps"
   ]
  },
  {
   "cell_type": "code",
   "execution_count": null,
   "metadata": {
    "vscode": {
     "languageId": "shellscript"
    }
   },
   "outputs": [],
   "source": [
    "# Run in a terminal in steps using comments as separator\n",
    "alias mysql=\"docker exec -it mysql-enterprise mysql\"\n",
    "export MYSQL_GEN_ROOT_PASSWORD=$(docker logs mysql-enterprise 2>&1 | grep GENERATED | cut -d \" \" -f5)\n",
    "export MYSQL_ROOT_PASSWORD=root\n",
    "echo \"Generated MySQL root password: $MYSQL_GEN_ROOT_PASSWORD\"\n",
    "\n",
    "mysql --connect-expired-password -u root -p\"$MYSQL_GEN_ROOT_PASSWORD\" -e \"ALTER USER 'root'@'localhost' IDENTIFIED BY '$MYSQL_ROOT_PASSWORD';\"\n",
    "\n",
    "# Verify that the keyring_okv plugin is installed and the status is ACTIVE\n",
    "mysql -u root -p'root' -e \\\n",
    "\"SELECT PLUGIN_NAME, PLUGIN_STATUS\n",
    "FROM INFORMATION_SCHEMA.PLUGINS\n",
    "WHERE PLUGIN_NAME LIKE 'keyring%';\"\n",
    "\n",
    "# Install the general purpose keyring key-management functions\n",
    "# https://dev.mysql.com/doc/refman/8.0/en/keyring-functions-general-purpose.html\n",
    "mysql -u root -p'root' -e \\\n",
    "\"INSTALL PLUGIN keyring_udf SONAME 'keyring_udf.so';\n",
    "CREATE FUNCTION keyring_key_generate RETURNS INTEGER\n",
    "SONAME 'keyring_udf.so';\n",
    "CREATE FUNCTION keyring_key_fetch RETURNS STRING\n",
    "SONAME 'keyring_udf.so';\n",
    "CREATE FUNCTION keyring_key_length_fetch RETURNS INTEGER\n",
    "SONAME 'keyring_udf.so';\n",
    "CREATE FUNCTION keyring_key_type_fetch RETURNS STRING\n",
    "SONAME 'keyring_udf.so';\n",
    "CREATE FUNCTION keyring_key_store RETURNS INTEGER\n",
    "SONAME 'keyring_udf.so';\n",
    "CREATE FUNCTION keyring_key_remove RETURNS INTEGER\n",
    "SONAME 'keyring_udf.so';\""
   ]
  },
  {
   "cell_type": "markdown",
   "metadata": {},
   "source": [
    "## Step 5 - Testing MySQL TDE functionality"
   ]
  },
  {
   "cell_type": "code",
   "execution_count": null,
   "metadata": {
    "vscode": {
     "languageId": "shellscript"
    }
   },
   "outputs": [],
   "source": [
    "# Create a new random key and store it on the keyring\n",
    "# If the KMIP configuration is not done right, this function will return an error.\n",
    "# Also note it will throw an error if the MyKey1 already exists\n",
    "mysql -u root -p'root' -e \\\n",
    "\"SELECT keyring_key_generate('MyKey1', 'AES', 32);\""
   ]
  },
  {
   "cell_type": "code",
   "execution_count": null,
   "metadata": {
    "vscode": {
     "languageId": "shellscript"
    }
   },
   "outputs": [],
   "source": [
    "# Test creating a test database and table\n",
    "mysql -u root -p'root' -e \\\n",
    "\"CREATE DATABASE scripting;\"\n",
    "\n",
    "mysql -u root -p'root' -e \\\n",
    "\"USE scripting;\n",
    "CREATE TABLE test_encryption (\n",
    "  ID int(10) unsigned NOT NULL AUTO_INCREMENT,\n",
    "  server_name varchar(15) NOT NULL,\n",
    "  PRIMARY KEY (id)\n",
    ") ENGINE=InnoDB AUTO_INCREMENT=1 DEFAULT CHARSET=latin1 ENCRYPTION = 'Y';\"\n"
   ]
  },
  {
   "cell_type": "code",
   "execution_count": null,
   "metadata": {
    "vscode": {
     "languageId": "shellscript"
    }
   },
   "outputs": [],
   "source": [
    "# Run this command to insert test data into the table\n",
    "mysql -u root -p'root' -e \\\n",
    "\"USE scripting;\n",
    "INSERT INTO test_encryption(server_name)\n",
    "VALUES (CONCAT('websvr-', SUBSTR(MD5(RAND()),1,8)));\"\n",
    "\n",
    "# View the records in the table\n",
    "mysql -u root -p'root' -e \\\n",
    "\"USE scripting;\n",
    "SELECT * FROM test_encryption;\""
   ]
  },
  {
   "cell_type": "code",
   "execution_count": null,
   "metadata": {
    "vscode": {
     "languageId": "shellscript"
    }
   },
   "outputs": [],
   "source": [
    "# Test master key rotation\n",
    "mysql -u root -p'root' -e \\\n",
    "\"ALTER INSTANCE ROTATE INNODB MASTER KEY;\""
   ]
  },
  {
   "cell_type": "code",
   "execution_count": null,
   "metadata": {
    "vscode": {
     "languageId": "shellscript"
    }
   },
   "outputs": [],
   "source": [
    "# Simulate that the KMIP server is down by changing the listening port to 5697\n",
    "! vault write kmip/config listen_addrs=0.0.0.0:5697"
   ]
  },
  {
   "cell_type": "code",
   "execution_count": null,
   "metadata": {
    "vscode": {
     "languageId": "shellscript"
    }
   },
   "outputs": [],
   "source": [
    "# Verify that I can still insert and select data\n",
    "mysql -u root -p'root' -e \\\n",
    "\"USE scripting;\n",
    "INSERT INTO test_encryption(server_name)\n",
    "VALUES (CONCAT('websvr-', SUBSTR(MD5(RAND()),1,8)));\"\n",
    "\n",
    "# View the records in the table\n",
    "mysql -u root -p'root' -e \\\n",
    "\"USE scripting;\n",
    "SELECT * FROM test_encryption;\""
   ]
  },
  {
   "cell_type": "code",
   "execution_count": null,
   "metadata": {
    "vscode": {
     "languageId": "shellscript"
    }
   },
   "outputs": [],
   "source": [
    "# Try rotating the master key.  As the KMIP server is \"down\", you should get an error.\n",
    "mysql -u root -p'root' -e \\\n",
    "\"ALTER INSTANCE ROTATE INNODB MASTER KEY;\""
   ]
  },
  {
   "cell_type": "code",
   "execution_count": null,
   "metadata": {
    "vscode": {
     "languageId": "shellscript"
    }
   },
   "outputs": [],
   "source": [
    "%%bash\n",
    "# Simulate restoring back the KMIP server by updating back to the original KMIP port number\n",
    "export KMIP_ADDR=$(terraform  output -state=../1_Platform_Deployment/terraform.tfstate -raw cluster_primary_fqdn_kmip)\n",
    "export FQDN=$(echo \"$KMIP_ADDR\" | sed -E 's~https://([^:/]+).*~\\1~')\n",
    "export IP=$(dig $FQDN +short)\n",
    "\n",
    "\n",
    "# Option 1 - Elliptic Curve (EC) is the default\n",
    "vault write kmip/config listen_addrs=0.0.0.0 default_tls_client_ttl=365d server_hostnames=$FQDN,localhost server_ips=$IP,127.0.0.1"
   ]
  },
  {
   "cell_type": "code",
   "execution_count": null,
   "metadata": {
    "vscode": {
     "languageId": "shellscript"
    }
   },
   "outputs": [],
   "source": [
    "# Try rotating the master key again.  As the KMIP server is now \"restored\", this command should now return no errors.\n",
    "mysql -u root -p'root' -e \\\n",
    "\"ALTER INSTANCE ROTATE INNODB MASTER KEY;\""
   ]
  },
  {
   "cell_type": "markdown",
   "metadata": {},
   "source": [
    "# Cleanup"
   ]
  },
  {
   "cell_type": "code",
   "execution_count": null,
   "metadata": {
    "vscode": {
     "languageId": "shellscript"
    }
   },
   "outputs": [],
   "source": [
    "%%bash\n",
    "# Cleanup\n",
    "\n",
    "# Disable KMIP secrets engine\n",
    "vault secrets disable kmip\n",
    "\n",
    "# Remove KMIP certificate demo files\n",
    "rm -rf $WORKDIR/mysql-keyring-okv\n",
    "\n",
    "# Stop MySQL container\n",
    "docker stop mysql-enterprise"
   ]
  }
 ],
 "metadata": {
  "kernelspec": {
   "display_name": "base",
   "language": "python",
   "name": "python3"
  },
  "language_info": {
   "codemirror_mode": {
    "name": "ipython",
    "version": 3
   },
   "file_extension": ".py",
   "mimetype": "text/x-python",
   "name": "python",
   "nbconvert_exporter": "python",
   "pygments_lexer": "ipython3",
   "version": "3.9.13"
  },
  "orig_nbformat": 4
 },
 "nbformat": 4,
 "nbformat_minor": 2
}
