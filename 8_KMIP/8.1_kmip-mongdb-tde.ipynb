{
 "cells": [
  {
   "cell_type": "code",
   "execution_count": 3,
   "metadata": {
    "vscode": {
     "languageId": "shellscript"
    }
   },
   "outputs": [
    {
     "name": "stdout",
     "output_type": "stream",
     "text": [
      "env: WORKDIR=/tmp/vault\n",
      "env: VAULT_KMIP_PORT=5696\n",
      "env: MONGODB_PORT=27017\n"
     ]
    }
   ],
   "source": [
    "%env WORKDIR=/tmp/vault\n",
    "%env VAULT_KMIP_PORT=5696\n",
    "%env MONGODB_PORT=27017"
   ]
  },
  {
   "cell_type": "code",
   "execution_count": 4,
   "metadata": {
    "vscode": {
     "languageId": "shellscript"
    }
   },
   "outputs": [
    {
     "name": "stdout",
     "output_type": "stream",
     "text": [
      "hvs.QbtInWOOYqrZJnMrDmcaArKs\n",
      "https://vault-primary-europe-southwest1-jlhb.josemerchan-f986bf.gcp.sbx.hashicorpdemo.com:8200\n"
     ]
    }
   ],
   "source": [
    "%%bash\n",
    "cat $WORKDIR/VAULT_TOKEN.TXT\n",
    "cat $WORKDIR/VAULT_ADDR.TXT"
   ]
  },
  {
   "cell_type": "code",
   "execution_count": 5,
   "metadata": {
    "vscode": {
     "languageId": "shellscript"
    }
   },
   "outputs": [
    {
     "name": "stdout",
     "output_type": "stream",
     "text": [
      "env: VAULT_ADDR=https://vault-primary-europe-southwest1-jlhb.josemerchan-f986bf.gcp.sbx.hashicorpdemo.com:8200\n",
      "env: VAULT_TOKEN=hvs.QbtInWOOYqrZJnMrDmcaArKs\n"
     ]
    }
   ],
   "source": [
    "%env VAULT_ADDR=https://vault-primary-europe-southwest1-jlhb.josemerchan-f986bf.gcp.sbx.hashicorpdemo.com:8200\n",
    "%env VAULT_TOKEN=hvs.QbtInWOOYqrZJnMrDmcaArKs"
   ]
  },
  {
   "cell_type": "markdown",
   "metadata": {},
   "source": [
    "# MongoDB Enterprise without Encryption at Rest\n",
    "\n",
    "Setup a demo MongoDB server.  Show that data stored is unencrypted by default."
   ]
  },
  {
   "cell_type": "code",
   "execution_count": 98,
   "metadata": {
    "vscode": {
     "languageId": "shellscript"
    }
   },
   "outputs": [],
   "source": [
    "%%bash\n",
    "# Check that the MongoDB are running\n",
    "# kubectl get pods -n mongodb -o yaml\n",
    "export POD=$(kubectl get pods -n mongodb -l app=mongodb -o jsonpath='{.items[0].metadata.name}')"
   ]
  },
  {
   "cell_type": "code",
   "execution_count": 99,
   "metadata": {
    "vscode": {
     "languageId": "shellscript"
    }
   },
   "outputs": [
    {
     "name": "stderr",
     "output_type": "stream",
     "text": [
      "Unable to use a TTY - input is not a terminal or the right kind of file\n"
     ]
    },
    {
     "name": "stdout",
     "output_type": "stream",
     "text": [
      "WiredTiger\n",
      "WiredTiger.lock\n",
      "WiredTiger.turtle\n",
      "WiredTiger.wt\n",
      "WiredTigerHS.wt\n",
      "_mdb_catalog.wt\n",
      "collection-0-422369378822914931.wt\n",
      "collection-2-422369378822914931.wt\n",
      "collection-4-422369378822914931.wt\n",
      "collection-7-422369378822914931.wt\n",
      "diagnostic.data\n",
      "index-1-422369378822914931.wt\n",
      "index-3-422369378822914931.wt\n",
      "index-5-422369378822914931.wt\n",
      "index-6-422369378822914931.wt\n",
      "index-8-422369378822914931.wt\n",
      "index-9-422369378822914931.wt\n",
      "journal\n",
      "mongod.lock\n",
      "sizeStorer.wt\n",
      "storage.bson\n"
     ]
    }
   ],
   "source": [
    "%%bash \n",
    "export POD=$(kubectl get pods -n mongodb -l app=mongodb -o jsonpath='{.items[0].metadata.name}')\n",
    "# Show the contents of MongoDB database data folder\n",
    "kubectl exec -i -t -n mongodb $POD -- ls /data/db"
   ]
  },
  {
   "cell_type": "code",
   "execution_count": 101,
   "metadata": {
    "vscode": {
     "languageId": "shellscript"
    }
   },
   "outputs": [
    {
     "name": "stdout",
     "output_type": "stream",
     "text": [
      "env: MONGODB_PORT=27017\n"
     ]
    }
   ],
   "source": [
    "%env MONGODB_PORT=27017"
   ]
  },
  {
   "cell_type": "code",
   "execution_count": 109,
   "metadata": {
    "vscode": {
     "languageId": "shellscript"
    }
   },
   "outputs": [
    {
     "name": "stdout",
     "output_type": "stream",
     "text": [
      "Current Mongosh Log ID:\t673c8cff1b4eb3f675968783\n",
      "Connecting to:\t\tmongodb://<credentials>@34.175.76.53/admin?directConnection=true&appName=mongosh+2.1.5\n"
     ]
    },
    {
     "name": "stderr",
     "output_type": "stream",
     "text": [
      "(node:99679) [DEP0040] DeprecationWarning: The `punycode` module is deprecated. Please use a userland alternative instead.\n",
      "(Use `node --trace-deprecation ...` to show where the warning was created)\n"
     ]
    },
    {
     "name": "stdout",
     "output_type": "stream",
     "text": [
      "Using MongoDB:\t\t7.0.15\n",
      "Using Mongosh:\t\t2.1.5\n",
      "\n",
      "For mongosh info see: https://docs.mongodb.com/mongodb-shell/\n",
      "\n",
      "------\n",
      "   The server generated these startup warnings when booting\n",
      "   2024-11-19T11:31:48.062+00:00: Using the XFS filesystem is strongly recommended with the WiredTiger storage engine. See http://dochub.mongodb.org/core/prodnotes-filesystem\n",
      "   2024-11-19T11:31:49.135+00:00: vm.max_map_count is too low\n",
      "------\n",
      "\n",
      "[\n",
      "  {\n",
      "    _id: ObjectId('673c8cff1b4eb3f675968784'),\n",
      "    username: 'user-4saH',\n",
      "    password: '5NTcE1pGzqilJC0t3Cpz'\n",
      "  }\n",
      "]\n"
     ]
    }
   ],
   "source": [
    "%%bash\n",
    "# Create database “record”, insert record with random user details (using function makeid), and display table records\n",
    "# Note: You can run this multiple times to insert more records as required\n",
    "export MONGODB_ADDR=$(kubectl get svc -n mongodb mongodb -o json | jq -r '.status.loadBalancer.ingress[0].ip')\n",
    "export USERNAME=\"mdbadmin\"\n",
    "export PASSWORD=\"Passw0rd123!\"\n",
    "\n",
    "mongosh -u \"$USERNAME\" -p \"$PASSWORD\" \"mongodb://${MONGODB_ADDR}/admin\" \\\n",
    "--eval \"use record\" \\\n",
    "--eval \"function makeid(length) {\n",
    "    var result = '';\n",
    "    var characters = 'ABCDEFGHIJKLMNOPQRSTUVWXYZabcdefghijklmnopqrstuvwxyz0123456789';\n",
    "    for (var i = 0; i < length; i++) {\n",
    "        result += characters.charAt(Math.floor(Math.random() * characters.length));\n",
    "    }\n",
    "    return result;\n",
    "}\" \\\n",
    "--eval \"db.users.insertOne({username: 'user-' + makeid(4), password: makeid(20)})\" \\\n",
    "--eval \"db.users.find()\"\n"
   ]
  },
  {
   "cell_type": "code",
   "execution_count": 110,
   "metadata": {
    "vscode": {
     "languageId": "shellscript"
    }
   },
   "outputs": [
    {
     "name": "stdout",
     "output_type": "stream",
     "text": [
      "Current Mongosh Log ID:\t673c8d2dc76d359d37ec0ba4\n",
      "Connecting to:\t\tmongodb://<credentials>@34.175.76.53/admin?directConnection=true&appName=mongosh+2.1.5\n"
     ]
    },
    {
     "name": "stderr",
     "output_type": "stream",
     "text": [
      "(node:302) [DEP0040] DeprecationWarning: The `punycode` module is deprecated. Please use a userland alternative instead.\n",
      "(Use `node --trace-deprecation ...` to show where the warning was created)\n"
     ]
    },
    {
     "name": "stdout",
     "output_type": "stream",
     "text": [
      "Using MongoDB:\t\t7.0.15\n",
      "Using Mongosh:\t\t2.1.5\n",
      "\n",
      "For mongosh info see: https://docs.mongodb.com/mongodb-shell/\n",
      "\n",
      "------\n",
      "   The server generated these startup warnings when booting\n",
      "   2024-11-19T11:31:48.062+00:00: Using the XFS filesystem is strongly recommended with the WiredTiger storage engine. See http://dochub.mongodb.org/core/prodnotes-filesystem\n",
      "   2024-11-19T11:31:49.135+00:00: vm.max_map_count is too low\n",
      "------\n",
      "\n",
      "{ numFiles: 1, ok: 1 }\n"
     ]
    }
   ],
   "source": [
    "%%bash\n",
    "export MONGODB_ADDR=$(kubectl get svc -n mongodb mongodb -o json | jq -r '.status.loadBalancer.ingress[0].ip')\n",
    "export USERNAME=\"mdbadmin\"\n",
    "export PASSWORD=\"Passw0rd123!\"\n",
    "\n",
    "# Flush all data to the storage layer\n",
    "export MONGODB_ADDR=$(kubectl get svc -n mongodb mongodb -o json | jq -r '.status.loadBalancer.ingress[0].ip')\n",
    "# Take note of the username and password values being inserted into the table\n",
    "mongosh -u \"$USERNAME\" -p \"$PASSWORD\" \"mongodb://${MONGODB_ADDR}/admin\" --eval \"db.adminCommand( { fsync: 1 } )\""
   ]
  },
  {
   "cell_type": "code",
   "execution_count": 111,
   "metadata": {
    "vscode": {
     "languageId": "shellscript"
    }
   },
   "outputs": [
    {
     "name": "stdout",
     "output_type": "stream",
     "text": [
      "All Files\n"
     ]
    },
    {
     "name": "stderr",
     "output_type": "stream",
     "text": [
      "Unable to use a TTY - input is not a terminal or the right kind of file\n"
     ]
    },
    {
     "name": "stdout",
     "output_type": "stream",
     "text": [
      "WiredTiger\n",
      "WiredTiger.lock\n",
      "WiredTiger.turtle\n",
      "WiredTiger.wt\n",
      "WiredTigerHS.wt\n",
      "_mdb_catalog.wt\n",
      "collection-0-2562801038321525715.wt\n",
      "collection-0-422369378822914931.wt\n",
      "collection-2-422369378822914931.wt\n",
      "collection-4-422369378822914931.wt\n",
      "collection-7-422369378822914931.wt\n",
      "diagnostic.data\n",
      "index-1-2562801038321525715.wt\n",
      "index-1-422369378822914931.wt\n",
      "index-3-422369378822914931.wt\n",
      "index-5-422369378822914931.wt\n",
      "index-6-422369378822914931.wt\n",
      "index-8-422369378822914931.wt\n",
      "index-9-422369378822914931.wt\n",
      "journal\n",
      "mongod.lock\n",
      "sizeStorer.wt\n",
      "storage.bson\n"
     ]
    }
   ],
   "source": [
    "%%bash\n",
    "# Now view the contents of MongoDB database data folder again.  You should notice a new collection file for the data we inserted. \n",
    "# It should be named like \"collection-7--XXXXXXXXXXXXXXXXXX.wt\" collection-7--4848515339651436823.wt \n",
    "export POD=$(kubectl get pods -n mongodb -l app=mongodb -o jsonpath='{.items[0].metadata.name}')\n",
    "# Show the contents of MongoDB database data folder\n",
    "echo \"All Files\"\n",
    "kubectl exec -i -t -n mongodb $POD -- ls /data/db "
   ]
  },
  {
   "cell_type": "code",
   "execution_count": 112,
   "metadata": {
    "vscode": {
     "languageId": "shellscript"
    }
   },
   "outputs": [
    {
     "name": "stdout",
     "output_type": "stream",
     "text": [
      "Filtering for collection-7-XXXXXXXXXXXXXXXXXX.wt\n"
     ]
    },
    {
     "name": "stderr",
     "output_type": "stream",
     "text": [
      "Unable to use a TTY - input is not a terminal or the right kind of file\n"
     ]
    },
    {
     "name": "stdout",
     "output_type": "stream",
     "text": [
      "collection-7-422369378822914931.wt\n"
     ]
    }
   ],
   "source": [
    "%%bash\n",
    "# Now view the contents of MongoDB database data folder again.  You should notice a new collection file for the data we inserted. \n",
    "# It should be named like \"collection-7--XXXXXXXXXXXXXXXXXX.wt\" collection-7--4848515339651436823.wt \n",
    "export POD=$(kubectl get pods -n mongodb -l app=mongodb -o jsonpath='{.items[0].metadata.name}')\n",
    "# Show the contents of MongoDB database data folder\n",
    "echo \"Filtering for collection-7-XXXXXXXXXXXXXXXXXX.wt\"\n",
    "kubectl exec -i -t -n mongodb $POD  -- ls /data/db | grep \"collection-7\""
   ]
  },
  {
   "cell_type": "raw",
   "metadata": {
    "vscode": {
     "languageId": "raw"
    }
   },
   "source": [
    "## In a terminal \n",
    "# Show the contents of MongoDB database data folder\n",
    "# Dump the contents of the new collections file.\n",
    "# Notice that the username and password of the inserted record can be seen in clear text\n",
    "# Note: MongoDB might take a while to flush the data to the database file.  Wait a while and try again if you do not see any data in the file.\n",
    "export POD=$(kubectl get pods -n mongodb -l app=mongodb -o jsonpath='{.items[0].metadata.name}')\n",
    "kubectl exec -i -t -n mongodb $POD  -- sh -c \"cat /data/db/collection-7-*\" "
   ]
  },
  {
   "cell_type": "markdown",
   "metadata": {},
   "source": [
    "# MongoDB Enterprise with Encryption at Rest with Vault KMIP Engine\n",
    "\n",
    "This section demonstrates the configuration of MongoDB Enterprise with Encryption at Rest with HashiCorp's Vault KMIP secrets engine.\n",
    "\n",
    "Ref:\n",
    "- https://developer.hashicorp.com/vault/docs/secrets/kmip\n",
    "- https://developer.hashicorp.com/vault/tutorials/adp/kmip-engine\n",
    "\n",
    "## Step 1 - Enable Vault KMIP Engine"
   ]
  },
  {
   "cell_type": "code",
   "execution_count": 50,
   "metadata": {
    "vscode": {
     "languageId": "shellscript"
    }
   },
   "outputs": [
    {
     "name": "stdout",
     "output_type": "stream",
     "text": [
      "Success! Enabled the kmip secrets engine at: kmip/\n"
     ]
    }
   ],
   "source": [
    "%%bash\n",
    "# Enable KMIP secrets engine at the default mount path\n",
    "#vault secrets disable kmip\n",
    "vault secrets enable kmip"
   ]
  },
  {
   "cell_type": "code",
   "execution_count": 6,
   "metadata": {
    "vscode": {
     "languageId": "shellscript"
    }
   },
   "outputs": [
    {
     "name": "stdout",
     "output_type": "stream",
     "text": [
      "Success! Data written to: kmip/config\n",
      "\n",
      "Key                            Value\n",
      "---                            -----\n",
      "default_tls_client_key_bits    256\n",
      "default_tls_client_key_type    ec\n",
      "default_tls_client_ttl         8760h\n",
      "listen_addrs                   [0.0.0.0]\n",
      "server_hostnames               [vault-primary-europe-southwest1-kmip-jlhb.josemerchan-f986bf.gcp.sbx.hashicorpdemo.com localhost]\n",
      "server_ips                     [34.175.74.183 127.0.0.1]\n",
      "tls_ca_key_bits                256\n",
      "tls_ca_key_type                ec\n",
      "tls_min_version                tls12\n"
     ]
    }
   ],
   "source": [
    "%%bash\n",
    "# Start KMIP Server and set client TLS certificate TTL to 365 days\n",
    "\n",
    "# Get the docker IP address of the Vault server to configure the certificate SANs.  Otherwise the MongoDB KMIP connection will fail.\n",
    "export KMIP_ADDR=$(terraform  output -state=../1_Platform_Deployment/terraform.tfstate -raw cluster_primary_fqdn_kmip)\n",
    "export FQDN=$(echo \"$KMIP_ADDR\" | sed -E 's~https://([^:/]+).*~\\1~')\n",
    "export IP=$(dig $FQDN +short)\n",
    "\n",
    "\n",
    "# Option 1 - Elliptic Curve (EC) is the default\n",
    "vault write kmip/config listen_addrs=0.0.0.0 default_tls_client_ttl=365d server_hostnames=$FQDN,localhost server_ips=$IP,127.0.0.1\n",
    "# Option 2 - RSA\n",
    "#vault write kmip/config listen_addrs=0.0.0.0:$VAULT_KMIP_PORT tls_ca_key_type=\"rsa\" tls_ca_key_bits=2048 default_tls_client_ttl=365d server_hostnames=$VAULT_IP,localhost\n",
    "\n",
    "# Check the KMIP configuration\n",
    "echo\n",
    "vault read kmip/config"
   ]
  },
  {
   "cell_type": "markdown",
   "metadata": {},
   "source": [
    "## Step 2 - Create KMIP Scope and Role in Vault\n",
    "\n",
    "The KMIP secrets engine uses the concept of scopes to partition KMIP managed object storage into multiple named buckets. Within a scope, roles can be created which dictate the set of allowed operations that the particular role can perform. TLS client certificates can be generated for a role, which services and applications can then use when sending KMIP requests against Vault's KMIP secret engine.\n",
    "\n",
    "In order to generate client certificates for KMIP clients to interact with Vault's KMIP server, we must first create a scope and role and specify the desired set of allowed operations for it."
   ]
  },
  {
   "cell_type": "code",
   "execution_count": 66,
   "metadata": {
    "vscode": {
     "languageId": "shellscript"
    }
   },
   "outputs": [
    {
     "name": "stdout",
     "output_type": "stream",
     "text": [
      "env: KMIP_SVC_NAME=mongodb-svc\n",
      "env: KMIP_ROLE_NAME=tde\n",
      "env: CERT_PATH=certs\n"
     ]
    }
   ],
   "source": [
    "%env KMIP_SVC_NAME=mongodb-svc\n",
    "%env KMIP_ROLE_NAME=tde\n",
    "%env CERT_PATH=certs"
   ]
  },
  {
   "cell_type": "code",
   "execution_count": 63,
   "metadata": {
    "vscode": {
     "languageId": "shellscript"
    }
   },
   "outputs": [
    {
     "name": "stdout",
     "output_type": "stream",
     "text": [
      "Success! Data written to: kmip/scope/mongodb-svc\n",
      "\n",
      "Keys\n",
      "----\n",
      "mongodb-svc\n"
     ]
    }
   ],
   "source": [
    "%%bash\n",
    "# Settings for the KMIP scope\n",
    "\n",
    "# Create a scope\n",
    "vault write -f kmip/scope/$KMIP_SVC_NAME\n",
    "\n",
    "# List scopes and verify the KMIP scope has been created\n",
    "echo\n",
    "vault list kmip/scope"
   ]
  },
  {
   "cell_type": "code",
   "execution_count": 64,
   "metadata": {
    "vscode": {
     "languageId": "shellscript"
    }
   },
   "outputs": [
    {
     "name": "stdout",
     "output_type": "stream",
     "text": [
      "Success! Data written to: kmip/scope/mongodb-svc/role/tde\n",
      "\n",
      "Keys\n",
      "----\n",
      "tde\n"
     ]
    }
   ],
   "source": [
    "%%bash\n",
    "# Settings for the KMIP role to be created\n",
    "\n",
    "# Create the KMIP Role (note the TTL if not set, it uses the default Vault token/lease TTL of 768hrs)\n",
    "vault write kmip/scope/$KMIP_SVC_NAME/role/$KMIP_ROLE_NAME tls_client_key_bits=2048 tls_client_key_type=rsa operation_all=true tls_client_ttl=365d\n",
    "\n",
    "# List roles and verify the KMIP role has been created\n",
    "echo\n",
    "vault list kmip/scope/$KMIP_SVC_NAME/role"
   ]
  },
  {
   "cell_type": "code",
   "execution_count": 65,
   "metadata": {
    "vscode": {
     "languageId": "shellscript"
    }
   },
   "outputs": [
    {
     "name": "stdout",
     "output_type": "stream",
     "text": [
      "Key                    Value\n",
      "---                    -----\n",
      "operation_all          true\n",
      "tls_client_key_bits    2048\n",
      "tls_client_key_type    rsa\n",
      "tls_client_ttl         8760h\n"
     ]
    }
   ],
   "source": [
    "%%bash\n",
    "# Optional - View the role details\n",
    "vault read kmip/scope/$KMIP_SVC_NAME/role/$KMIP_ROLE_NAME"
   ]
  },
  {
   "cell_type": "markdown",
   "metadata": {},
   "source": [
    "## Step 3 - Create the KMIP certificates for MongoDB Encryption at Rest"
   ]
  },
  {
   "cell_type": "code",
   "execution_count": 82,
   "metadata": {
    "vscode": {
     "languageId": "shellscript"
    }
   },
   "outputs": [
    {
     "name": "stderr",
     "output_type": "stream",
     "text": [
      "mkdir: certs: File exists\n"
     ]
    }
   ],
   "source": [
    "%%bash\n",
    "# Specify certificate folder path\n",
    "\n",
    "\n",
    "# Create a folder for the KMIP certificates\n",
    "mkdir $CERT_PATH\n",
    "\n",
    "# Save KMIP CA certificate\n",
    "vault read -format=json kmip/ca | jq -r .data.ca_pem > $CERT_PATH/ca.pem    \n",
    "\n",
    "# Generate the required certificates\n",
    "vault write -format=json \\\n",
    "  kmip/scope/$KMIP_SVC_NAME/role/$KMIP_ROLE_NAME/credential/generate \\\n",
    "  format=pem > credential.json\n",
    "\n",
    "# Save the certificate and private key\n",
    "jq -r .data.certificate < credential.json > $CERT_PATH/cert.pem\n",
    "jq -r .data.private_key < credential.json > $CERT_PATH/key.pem\n",
    "cat $CERT_PATH/cert.pem $CERT_PATH/key.pem > $CERT_PATH/client.pem\n",
    "\n",
    "# Remove the temp file\n",
    "rm credential.json"
   ]
  },
  {
   "cell_type": "markdown",
   "metadata": {},
   "source": [
    "## Step 4 - Configuring MongoDB Enterprise Server with Encryption at Rest"
   ]
  },
  {
   "cell_type": "code",
   "execution_count": 83,
   "metadata": {
    "vscode": {
     "languageId": "shellscript"
    }
   },
   "outputs": [
    {
     "name": "stdout",
     "output_type": "stream",
     "text": [
      "ad1c9534366b55cf01fed828765fabb0c870c8b5634af75861b2266ae624eb22\n"
     ]
    }
   ],
   "source": [
    "%%bash\n",
    "export KMIP_ADDR=$(terraform  output -state=../1_Platform_Deployment/terraform.tfstate -raw cluster_primary_fqdn_kmip)\n",
    "export FQDN=$(echo \"$KMIP_ADDR\" | sed -E 's~https://([^:/]+).*~\\1~')\n",
    "export IP=$(dig $FQDN +short)\n",
    "\n",
    "# Start a MongoDB node \n",
    "docker run -d --rm --volume=./certs:/certs -p 27017:27017 --name mongo-enterprise \\\n",
    "mongodb/mongodb-enterprise-server:7.0-ubuntu2204 --port 27017 --bind_ip \"0.0.0.0\" \\\n",
    "--enableEncryption --kmipServerName $IP --kmipPort $VAULT_KMIP_PORT \\\n",
    "--kmipServerCAFile /certs/ca.pem --kmipClientCertificateFile /certs/client.pem"
   ]
  },
  {
   "cell_type": "code",
   "execution_count": 85,
   "metadata": {
    "vscode": {
     "languageId": "shellscript"
    }
   },
   "outputs": [
    {
     "name": "stdout",
     "output_type": "stream",
     "text": [
      "CONTAINER ID   IMAGE                                              COMMAND                  CREATED          STATUS          PORTS                      NAMES\n",
      "ad1c9534366b   mongodb/mongodb-enterprise-server:7.0-ubuntu2204   \"python3 /usr/local/…\"   42 seconds ago   Up 42 seconds   0.0.0.0:27017->27017/tcp   mongo-enterprise\n",
      "a2a79f0c4a47   hashicorp/vault-enterprise:latest                  \"docker-entrypoint.s…\"   18 hours ago     Up 18 hours     0.0.0.0:8200->8200/tcp     vault-enterprise\n"
     ]
    }
   ],
   "source": [
    "# Check that the MongoDB are running\n",
    "! docker ps"
   ]
  },
  {
   "cell_type": "markdown",
   "metadata": {},
   "source": [
    "## Step 5 - Testing MongoDB Enterprise Encryption at Rest"
   ]
  },
  {
   "cell_type": "raw",
   "metadata": {
    "vscode": {
     "languageId": "raw"
    }
   },
   "source": [
    "## In a terminal\n",
    "# Show the contents of MongoDB database data folder\n",
    "docker exec -it mongo-enterprise sh -c \"ls /data/db\""
   ]
  },
  {
   "cell_type": "raw",
   "metadata": {
    "vscode": {
     "languageId": "raw"
    }
   },
   "source": [
    "# set mongosh alias to make it easier to execute mongosh commands to the first MongoDB docker container\n",
    "# Use the connection string for the replica set.  This will allow write operations to go to the primary node.\n",
    "# As Authorization is turned on, we will be specifying the root admin user credentials in the connection string.\n",
    "export MONGODB_ADDR=$(kubectl get svc -n mongodb mongodb -o json | jq -r '.status.loadBalancer.ingress[0].ip')\n",
    "echo \"MongoDB Port: $MONGODB_PORT\"\n",
    "alias mongosh=\"docker exec -it mongo-enterprise mongosh \\\"mongodb://127.0.0.1:$MONGODB_PORT/admin\\\"\""
   ]
  },
  {
   "cell_type": "code",
   "execution_count": 89,
   "metadata": {
    "vscode": {
     "languageId": "shellscript"
    }
   },
   "outputs": [
    {
     "name": "stdout",
     "output_type": "stream",
     "text": [
      "Current Mongosh Log ID:\t673c5d35e451c8093b0433d4\n",
      "Connecting to:\t\tmongodb://127.0.0.1:27017/admin?directConnection=true&serverSelectionTimeoutMS=2000&appName=mongosh+2.1.5\n"
     ]
    },
    {
     "name": "stderr",
     "output_type": "stream",
     "text": [
      "(node:4456) [DEP0040] DeprecationWarning: The `punycode` module is deprecated. Please use a userland alternative instead.\n",
      "(Use `node --trace-deprecation ...` to show where the warning was created)\n"
     ]
    },
    {
     "name": "stdout",
     "output_type": "stream",
     "text": [
      "Using MongoDB:\t\t7.0.15\n",
      "Using Mongosh:\t\t2.1.5\n",
      "\n",
      "For mongosh info see: https://docs.mongodb.com/mongodb-shell/\n",
      "\n",
      "------\n",
      "   The server generated these startup warnings when booting\n",
      "   2024-11-19T09:37:21.801+00:00: Using the XFS filesystem is strongly recommended with the WiredTiger storage engine. See http://dochub.mongodb.org/core/prodnotes-filesystem\n",
      "   2024-11-19T09:37:22.698+00:00: Access control is not enabled for the database. Read and write access to data and configuration is unrestricted\n",
      "   2024-11-19T09:37:22.698+00:00: /sys/kernel/mm/transparent_hugepage/enabled is 'always'. We suggest setting it to 'never' in this binary version\n",
      "   2024-11-19T09:37:22.699+00:00: vm.max_map_count is too low\n",
      "------\n",
      "\n",
      "[\n",
      "  {\n",
      "    _id: ObjectId('673c5d36e451c8093b0433d5'),\n",
      "    username: 'user-BxCT',\n",
      "    password: '3fBQXJ7dlcGsGOiDRzbf'\n",
      "  }\n",
      "]\n"
     ]
    }
   ],
   "source": [
    "%%bash\n",
    "# Create database “record”, insert record with random user details (using function makeid), and display table records\n",
    "# Note: You can run this multiple times to insert more records as required\n",
    "\n",
    "# Take note of the username and password values being inserted into the table\n",
    "mongosh mongodb://127.0.0.1:$MONGODB_PORT/admin --eval \"use record\" \\\n",
    "--eval \"function makeid(length) {\n",
    "    var result           = '';\n",
    "    var characters       = 'ABCDEFGHIJKLMNOPQRSTUVWXYZabcdefghijklmnopqrstuvwxyz0123456789';\n",
    "    var charactersLength = characters.length;\n",
    "    for ( var i = 0; i < length; i++ ) {\n",
    "      result += characters.charAt(Math.floor(Math.random() * \n",
    " charactersLength));\n",
    "   }\n",
    "   return result;\n",
    "}\" \\\n",
    "--eval \"db.users.insertOne({username: \\\"user-\\\" + makeid(4), password: makeid(20)})\" \\\n",
    "--eval \"db.users.find()\""
   ]
  },
  {
   "cell_type": "code",
   "execution_count": 90,
   "metadata": {
    "vscode": {
     "languageId": "shellscript"
    }
   },
   "outputs": [
    {
     "name": "stdout",
     "output_type": "stream",
     "text": [
      "Success! Data written to: kmip/config\n"
     ]
    }
   ],
   "source": [
    "%%bash\n",
    "# Simulate that the KMIP server is down by changing the listening port to 5697\n",
    "vault write kmip/config listen_addrs=0.0.0.0:5697"
   ]
  },
  {
   "cell_type": "code",
   "execution_count": 91,
   "metadata": {
    "vscode": {
     "languageId": "shellscript"
    }
   },
   "outputs": [
    {
     "name": "stdout",
     "output_type": "stream",
     "text": [
      "Current Mongosh Log ID:\t673c5d744a8d8215629fef37\n",
      "Connecting to:\t\tmongodb://127.0.0.1:27017/admin?directConnection=true&serverSelectionTimeoutMS=2000&appName=mongosh+2.1.5\n"
     ]
    },
    {
     "name": "stderr",
     "output_type": "stream",
     "text": [
      "(node:5204) [DEP0040] DeprecationWarning: The `punycode` module is deprecated. Please use a userland alternative instead.\n",
      "(Use `node --trace-deprecation ...` to show where the warning was created)\n"
     ]
    },
    {
     "name": "stdout",
     "output_type": "stream",
     "text": [
      "Using MongoDB:\t\t7.0.15\n",
      "Using Mongosh:\t\t2.1.5\n",
      "\n",
      "For mongosh info see: https://docs.mongodb.com/mongodb-shell/\n",
      "\n",
      "------\n",
      "   The server generated these startup warnings when booting\n",
      "   2024-11-19T09:37:21.801+00:00: Using the XFS filesystem is strongly recommended with the WiredTiger storage engine. See http://dochub.mongodb.org/core/prodnotes-filesystem\n",
      "   2024-11-19T09:37:22.698+00:00: Access control is not enabled for the database. Read and write access to data and configuration is unrestricted\n",
      "   2024-11-19T09:37:22.698+00:00: /sys/kernel/mm/transparent_hugepage/enabled is 'always'. We suggest setting it to 'never' in this binary version\n",
      "   2024-11-19T09:37:22.699+00:00: vm.max_map_count is too low\n",
      "------\n",
      "\n",
      "[\n",
      "  {\n",
      "    _id: ObjectId('673c5d36e451c8093b0433d5'),\n",
      "    username: 'user-BxCT',\n",
      "    password: '3fBQXJ7dlcGsGOiDRzbf'\n",
      "  },\n",
      "  {\n",
      "    _id: ObjectId('673c5d754a8d8215629fef38'),\n",
      "    username: 'user-B51q',\n",
      "    password: 'andNrCvNDgcSTCS5BApK'\n",
      "  }\n",
      "]\n"
     ]
    }
   ],
   "source": [
    "%%bash\n",
    "# Reinsert another record and query to show that CRUD operations are still working\n",
    "mongosh mongodb://127.0.0.1:$MONGODB_PORT/admin --eval \"use record\" \\\n",
    "--eval \"function makeid(length) {\n",
    "    var result           = '';\n",
    "    var characters       = 'ABCDEFGHIJKLMNOPQRSTUVWXYZabcdefghijklmnopqrstuvwxyz0123456789';\n",
    "    var charactersLength = characters.length;\n",
    "    for ( var i = 0; i < length; i++ ) {\n",
    "      result += characters.charAt(Math.floor(Math.random() * \n",
    " charactersLength));\n",
    "   }\n",
    "   return result;\n",
    "}\" \\\n",
    "--eval \"db.users.insertOne({username: \\\"user-\\\" + makeid(4), password: makeid(20)})\" \\\n",
    "--eval \"db.users.find()\""
   ]
  },
  {
   "cell_type": "code",
   "execution_count": 92,
   "metadata": {
    "vscode": {
     "languageId": "shellscript"
    }
   },
   "outputs": [
    {
     "name": "stdout",
     "output_type": "stream",
     "text": [
      "\u001b]0;mongosh mongodb://127.0.0.1:27017/admin?directConnection=true&serverSelectionTimeoutMS=2000\u0007Current Mongosh Log ID:\t673c5d8edf25ebac848add67\n",
      "Connecting to:\t\t\u001b[1m\u001b[32mmongodb://127.0.0.1:27017/admin?directConnection=true&serverSelectionTimeoutMS=2000&appName=mongosh+2.1.5\u001b[0m\n",
      "(node:5479) [DEP0040] DeprecationWarning: The `punycode` module is deprecated. Please use a userland alternative instead.\n",
      "(Use `node --trace-deprecation ...` to show where the warning was created)\n",
      "Using MongoDB:\t\t7.0.15\n",
      "\u001b[1m\u001b[33mUsing Mongosh\u001b[0m:\t\t2.1.5\n",
      "\n",
      "For mongosh info see: \u001b[1mhttps://docs.mongodb.com/mongodb-shell/\u001b[0m\n",
      "\n",
      "\u001b[1G\u001b[0J \u001b[1G\u001b[1m\u001b[33m------\u001b[0m\n",
      "   \u001b[1m\u001b[33mThe server generated these startup warnings when booting\u001b[0m\n",
      "   2024-11-19T09:37:21.801+00:00: Using the XFS filesystem is strongly recommended with the WiredTiger storage engine. See http://dochub.mongodb.org/core/prodnotes-filesystem\n",
      "   2024-11-19T09:37:22.698+00:00: Access control is not enabled for the database. Read and write access to data and configuration is unrestricted\n",
      "   2024-11-19T09:37:22.698+00:00: /sys/kernel/mm/transparent_hugepage/enabled is 'always'. We suggest setting it to 'never' in this binary version\n",
      "   2024-11-19T09:37:22.699+00:00: vm.max_map_count is too low\n",
      "\u001b[1m\u001b[33m------\u001b[0m\n",
      "\n",
      "{ numFiles: \u001b[33m1\u001b[39m, ok: \u001b[33m1\u001b[39m }\n"
     ]
    }
   ],
   "source": [
    "# Flush all data to the storage layer\n",
    "! mongosh mongodb://127.0.0.1:$MONGODB_PORT/admin --eval \"db.adminCommand( { fsync: 1 } )\""
   ]
  },
  {
   "cell_type": "raw",
   "metadata": {
    "vscode": {
     "languageId": "raw"
    }
   },
   "source": [
    "## In a terminal\n",
    "# Now view the contents of MongoDB database data folder again.  You should notice a new collection file for the data we inserted. \n",
    "# It should be named like \"collection-7--XXXXXXXXXXXXXXXXXX.wt\" collection-7--4848515339651436823.wt \n",
    "\n",
    "docker exec -it mongo-enterprise sh -c \"ls /data/db\""
   ]
  },
  {
   "cell_type": "raw",
   "metadata": {
    "vscode": {
     "languageId": "raw"
    }
   },
   "source": [
    "## In a terminal\n",
    "# Dump the contents of the new collections file.\n",
    "# Notice that the username and password of the inserted record is now encrypted\n",
    "# Note: MongoDB might take a while to flush the data to the database file.  Wait a while and try again if you do not see any data in the file.\n",
    "\n",
    "docker exec -it mongo-enterprise sh -c \"cat data/db/collection-7*\""
   ]
  },
  {
   "cell_type": "markdown",
   "metadata": {},
   "source": [
    "# Cleanup"
   ]
  },
  {
   "cell_type": "code",
   "execution_count": null,
   "metadata": {
    "vscode": {
     "languageId": "shellscript"
    }
   },
   "outputs": [],
   "source": [
    "# Cleanup\n",
    "\n",
    "# Disable KMIP secrets engine\n",
    "vault secrets disable kmip\n",
    "\n",
    "# Stop Vault container\n",
    "docker stop vault-enterprise\n",
    "\n",
    "# Stop MongoDB container\n",
    "docker stop mongo-enterprise\n",
    "\n",
    "# Remove KMIP certificate demo files\n",
    "rm -rf $CERT_PATH"
   ]
  }
 ],
 "metadata": {
  "kernelspec": {
   "display_name": "base",
   "language": "python",
   "name": "python3"
  },
  "language_info": {
   "codemirror_mode": {
    "name": "ipython",
    "version": 3
   },
   "file_extension": ".py",
   "mimetype": "text/x-python",
   "name": "python",
   "nbconvert_exporter": "python",
   "pygments_lexer": "ipython3",
   "version": "3.9.13"
  },
  "orig_nbformat": 4
 },
 "nbformat": 4,
 "nbformat_minor": 2
}
