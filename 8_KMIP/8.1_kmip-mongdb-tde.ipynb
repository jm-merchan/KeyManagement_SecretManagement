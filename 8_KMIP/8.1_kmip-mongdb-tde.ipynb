{
 "cells": [
  {
   "cell_type": "code",
   "execution_count": null,
   "metadata": {
    "vscode": {
     "languageId": "shellscript"
    }
   },
   "outputs": [],
   "source": [
    "%env WORKDIR=/tmp/vault\n",
    "%env VAULT_KMIP_PORT=5696\n",
    "%env MONGODB_PORT=27017"
   ]
  },
  {
   "cell_type": "code",
   "execution_count": null,
   "metadata": {
    "vscode": {
     "languageId": "shellscript"
    }
   },
   "outputs": [],
   "source": [
    "%%bash\n",
    "cat $WORKDIR/VAULT_TOKEN.TXT\n",
    "cat $WORKDIR/VAULT_ADDR.TXT"
   ]
  },
  {
   "cell_type": "code",
   "execution_count": null,
   "metadata": {
    "vscode": {
     "languageId": "shellscript"
    }
   },
   "outputs": [],
   "source": [
    "%env VAULT_ADDR=https://vault-primary-europe-southwest1-jlhb.josemerchan-f986bf.gcp.sbx.hashicorpdemo.com:8200\n",
    "%env VAULT_TOKEN=hvs.QbtInWOOYqrZJnMrDmcaArKs"
   ]
  },
  {
   "cell_type": "markdown",
   "metadata": {},
   "source": [
    "# MongoDB Enterprise without Encryption at Rest\n",
    "\n",
    "Setup a demo MongoDB server.  Show that data stored is unencrypted by default."
   ]
  },
  {
   "cell_type": "code",
   "execution_count": null,
   "metadata": {
    "vscode": {
     "languageId": "shellscript"
    }
   },
   "outputs": [],
   "source": [
    "%%bash\n",
    "# Check that the MongoDB are running\n",
    "# kubectl get pods -n mongodb -o yaml\n",
    "export POD=$(kubectl get pods -n mongodb -l app=mongodb -o jsonpath='{.items[0].metadata.name}')"
   ]
  },
  {
   "cell_type": "code",
   "execution_count": null,
   "metadata": {
    "vscode": {
     "languageId": "shellscript"
    }
   },
   "outputs": [],
   "source": [
    "%%bash \n",
    "export POD=$(kubectl get pods -n mongodb -l app=mongodb -o jsonpath='{.items[0].metadata.name}')\n",
    "# Show the contents of MongoDB database data folder\n",
    "kubectl exec -i -t -n mongodb $POD -- ls /data/db"
   ]
  },
  {
   "cell_type": "code",
   "execution_count": null,
   "metadata": {
    "vscode": {
     "languageId": "shellscript"
    }
   },
   "outputs": [],
   "source": [
    "%env MONGODB_PORT=27017"
   ]
  },
  {
   "cell_type": "code",
   "execution_count": null,
   "metadata": {
    "vscode": {
     "languageId": "shellscript"
    }
   },
   "outputs": [],
   "source": [
    "%%bash\n",
    "# Create database “record”, insert record with random user details (using function makeid), and display table records\n",
    "# Note: You can run this multiple times to insert more records as required\n",
    "export MONGODB_ADDR=$(kubectl get svc -n mongodb mongodb -o json | jq -r '.status.loadBalancer.ingress[0].ip')\n",
    "export USERNAME=\"mdbadmin\"\n",
    "export PASSWORD=\"Passw0rd123!\"\n",
    "\n",
    "mongosh -u \"$USERNAME\" -p \"$PASSWORD\" \"mongodb://${MONGODB_ADDR}/admin\" \\\n",
    "--eval \"use record\" \\\n",
    "--eval \"function makeid(length) {\n",
    "    var result = '';\n",
    "    var characters = 'ABCDEFGHIJKLMNOPQRSTUVWXYZabcdefghijklmnopqrstuvwxyz0123456789';\n",
    "    for (var i = 0; i < length; i++) {\n",
    "        result += characters.charAt(Math.floor(Math.random() * characters.length));\n",
    "    }\n",
    "    return result;\n",
    "}\" \\\n",
    "--eval \"db.users.insertOne({username: 'user-' + makeid(4), password: makeid(20)})\" \\\n",
    "--eval \"db.users.find()\"\n"
   ]
  },
  {
   "cell_type": "code",
   "execution_count": null,
   "metadata": {
    "vscode": {
     "languageId": "shellscript"
    }
   },
   "outputs": [],
   "source": [
    "%%bash\n",
    "export MONGODB_ADDR=$(kubectl get svc -n mongodb mongodb -o json | jq -r '.status.loadBalancer.ingress[0].ip')\n",
    "export USERNAME=\"mdbadmin\"\n",
    "export PASSWORD=\"Passw0rd123!\"\n",
    "\n",
    "# Flush all data to the storage layer\n",
    "export MONGODB_ADDR=$(kubectl get svc -n mongodb mongodb -o json | jq -r '.status.loadBalancer.ingress[0].ip')\n",
    "# Take note of the username and password values being inserted into the table\n",
    "mongosh -u \"$USERNAME\" -p \"$PASSWORD\" \"mongodb://${MONGODB_ADDR}/admin\" --eval \"db.adminCommand( { fsync: 1 } )\""
   ]
  },
  {
   "cell_type": "code",
   "execution_count": null,
   "metadata": {
    "vscode": {
     "languageId": "shellscript"
    }
   },
   "outputs": [],
   "source": [
    "%%bash\n",
    "# Now view the contents of MongoDB database data folder again.  You should notice a new collection file for the data we inserted. \n",
    "# It should be named like \"collection-7--XXXXXXXXXXXXXXXXXX.wt\" collection-7--4848515339651436823.wt \n",
    "export POD=$(kubectl get pods -n mongodb -l app=mongodb -o jsonpath='{.items[0].metadata.name}')\n",
    "# Show the contents of MongoDB database data folder\n",
    "echo \"All Files\"\n",
    "kubectl exec -i -t -n mongodb $POD -- ls /data/db "
   ]
  },
  {
   "cell_type": "code",
   "execution_count": null,
   "metadata": {
    "vscode": {
     "languageId": "shellscript"
    }
   },
   "outputs": [],
   "source": [
    "%%bash\n",
    "# Now view the contents of MongoDB database data folder again.  You should notice a new collection file for the data we inserted. \n",
    "# It should be named like \"collection-7--XXXXXXXXXXXXXXXXXX.wt\" collection-7--4848515339651436823.wt \n",
    "export POD=$(kubectl get pods -n mongodb -l app=mongodb -o jsonpath='{.items[0].metadata.name}')\n",
    "# Show the contents of MongoDB database data folder\n",
    "echo \"Filtering for collection-7-XXXXXXXXXXXXXXXXXX.wt\"\n",
    "kubectl exec -i -t -n mongodb $POD  -- ls /data/db | grep \"collection-7\""
   ]
  },
  {
   "cell_type": "raw",
   "metadata": {
    "vscode": {
     "languageId": "raw"
    }
   },
   "source": [
    "## In a terminal \n",
    "# Show the contents of MongoDB database data folder\n",
    "# Dump the contents of the new collections file.\n",
    "# Notice that the username and password of the inserted record can be seen in clear text\n",
    "# Note: MongoDB might take a while to flush the data to the database file.  Wait a while and try again if you do not see any data in the file.\n",
    "export POD=$(kubectl get pods -n mongodb -l app=mongodb -o jsonpath='{.items[0].metadata.name}')\n",
    "kubectl exec -i -t -n mongodb $POD  -- sh -c \"cat /data/db/collection-7-*\" "
   ]
  },
  {
   "cell_type": "markdown",
   "metadata": {},
   "source": [
    "# MongoDB Enterprise with Encryption at Rest with Vault KMIP Engine\n",
    "\n",
    "This section demonstrates the configuration of MongoDB Enterprise with Encryption at Rest with HashiCorp's Vault KMIP secrets engine.\n",
    "\n",
    "Ref:\n",
    "- https://developer.hashicorp.com/vault/docs/secrets/kmip\n",
    "- https://developer.hashicorp.com/vault/tutorials/adp/kmip-engine\n",
    "\n",
    "## Step 1 - Enable Vault KMIP Engine"
   ]
  },
  {
   "cell_type": "code",
   "execution_count": null,
   "metadata": {
    "vscode": {
     "languageId": "shellscript"
    }
   },
   "outputs": [],
   "source": [
    "%%bash\n",
    "# Enable KMIP secrets engine at the default mount path\n",
    "#vault secrets disable kmip\n",
    "vault secrets enable kmip"
   ]
  },
  {
   "cell_type": "code",
   "execution_count": null,
   "metadata": {
    "vscode": {
     "languageId": "shellscript"
    }
   },
   "outputs": [],
   "source": [
    "%%bash\n",
    "# Start KMIP Server and set client TLS certificate TTL to 365 days\n",
    "\n",
    "# Get the docker IP address of the Vault server to configure the certificate SANs.  Otherwise the MongoDB KMIP connection will fail.\n",
    "export KMIP_ADDR=$(terraform  output -state=../1_Platform_Deployment/terraform.tfstate -raw cluster_primary_fqdn_kmip)\n",
    "export FQDN=$(echo \"$KMIP_ADDR\" | sed -E 's~https://([^:/]+).*~\\1~')\n",
    "export IP=$(dig $FQDN +short)\n",
    "\n",
    "\n",
    "# Option 1 - Elliptic Curve (EC) is the default\n",
    "vault write kmip/config listen_addrs=0.0.0.0 default_tls_client_ttl=365d server_hostnames=$FQDN,localhost server_ips=$IP,127.0.0.1\n",
    "# Option 2 - RSA\n",
    "#vault write kmip/config listen_addrs=0.0.0.0:$VAULT_KMIP_PORT tls_ca_key_type=\"rsa\" tls_ca_key_bits=2048 default_tls_client_ttl=365d server_hostnames=$VAULT_IP,localhost\n",
    "\n",
    "# Check the KMIP configuration\n",
    "echo\n",
    "vault read kmip/config"
   ]
  },
  {
   "cell_type": "markdown",
   "metadata": {},
   "source": [
    "## Step 2 - Create KMIP Scope and Role in Vault\n",
    "\n",
    "The KMIP secrets engine uses the concept of scopes to partition KMIP managed object storage into multiple named buckets. Within a scope, roles can be created which dictate the set of allowed operations that the particular role can perform. TLS client certificates can be generated for a role, which services and applications can then use when sending KMIP requests against Vault's KMIP secret engine.\n",
    "\n",
    "In order to generate client certificates for KMIP clients to interact with Vault's KMIP server, we must first create a scope and role and specify the desired set of allowed operations for it."
   ]
  },
  {
   "cell_type": "code",
   "execution_count": null,
   "metadata": {
    "vscode": {
     "languageId": "shellscript"
    }
   },
   "outputs": [],
   "source": [
    "%env KMIP_SVC_NAME=mongodb-svc\n",
    "%env KMIP_ROLE_NAME=tde\n",
    "%env CERT_PATH=$WORKDIR/certs"
   ]
  },
  {
   "cell_type": "code",
   "execution_count": null,
   "metadata": {
    "vscode": {
     "languageId": "shellscript"
    }
   },
   "outputs": [],
   "source": [
    "%%bash\n",
    "# Settings for the KMIP scope\n",
    "\n",
    "# Create a scope\n",
    "vault write -f kmip/scope/$KMIP_SVC_NAME\n",
    "\n",
    "# List scopes and verify the KMIP scope has been created\n",
    "echo\n",
    "vault list kmip/scope"
   ]
  },
  {
   "cell_type": "code",
   "execution_count": null,
   "metadata": {
    "vscode": {
     "languageId": "shellscript"
    }
   },
   "outputs": [],
   "source": [
    "%%bash\n",
    "# Settings for the KMIP role to be created\n",
    "\n",
    "# Create the KMIP Role (note the TTL if not set, it uses the default Vault token/lease TTL of 768hrs)\n",
    "vault write kmip/scope/$KMIP_SVC_NAME/role/$KMIP_ROLE_NAME tls_client_key_bits=2048 tls_client_key_type=rsa operation_all=true tls_client_ttl=365d\n",
    "\n",
    "# List roles and verify the KMIP role has been created\n",
    "echo\n",
    "vault list kmip/scope/$KMIP_SVC_NAME/role"
   ]
  },
  {
   "cell_type": "code",
   "execution_count": null,
   "metadata": {
    "vscode": {
     "languageId": "shellscript"
    }
   },
   "outputs": [],
   "source": [
    "%%bash\n",
    "# Optional - View the role details\n",
    "vault read kmip/scope/$KMIP_SVC_NAME/role/$KMIP_ROLE_NAME"
   ]
  },
  {
   "cell_type": "markdown",
   "metadata": {},
   "source": [
    "## Step 3 - Create the KMIP certificates for MongoDB Encryption at Rest"
   ]
  },
  {
   "cell_type": "code",
   "execution_count": null,
   "metadata": {
    "vscode": {
     "languageId": "shellscript"
    }
   },
   "outputs": [],
   "source": [
    "%%bash\n",
    "# Specify certificate folder path\n",
    "\n",
    "\n",
    "# Create a folder for the KMIP certificates\n",
    "mkdir $CERT_PATH\n",
    "\n",
    "# Save KMIP CA certificate\n",
    "vault read -format=json kmip/ca | jq -r .data.ca_pem > $CERT_PATH/ca.pem    \n",
    "\n",
    "# Generate the required certificates\n",
    "vault write -format=json \\\n",
    "  kmip/scope/$KMIP_SVC_NAME/role/$KMIP_ROLE_NAME/credential/generate \\\n",
    "  format=pem > credential.json\n",
    "\n",
    "# Save the certificate and private key\n",
    "jq -r .data.certificate < credential.json > $CERT_PATH/cert.pem\n",
    "jq -r .data.private_key < credential.json > $CERT_PATH/key.pem\n",
    "cat $CERT_PATH/cert.pem $CERT_PATH/key.pem > $CERT_PATH/client.pem\n",
    "\n",
    "# Remove the temp file\n",
    "rm credential.json"
   ]
  },
  {
   "cell_type": "markdown",
   "metadata": {},
   "source": [
    "## Step 4 - Configuring MongoDB Enterprise Server with Encryption at Rest"
   ]
  },
  {
   "cell_type": "code",
   "execution_count": null,
   "metadata": {
    "vscode": {
     "languageId": "shellscript"
    }
   },
   "outputs": [],
   "source": [
    "%%bash\n",
    "export KMIP_ADDR=$(terraform  output -state=../1_Platform_Deployment/terraform.tfstate -raw cluster_primary_fqdn_kmip)\n",
    "export FQDN=$(echo \"$KMIP_ADDR\" | sed -E 's~https://([^:/]+).*~\\1~')\n",
    "export IP=$(dig $FQDN +short)\n",
    "\n",
    "# Start a MongoDB node \n",
    "docker run -d --rm --volume=./certs:/certs -p 27017:27017 --name mongo-enterprise \\\n",
    "mongodb/mongodb-enterprise-server:7.0-ubuntu2204 --port 27017 --bind_ip \"0.0.0.0\" \\\n",
    "--enableEncryption --kmipServerName $IP --kmipPort $VAULT_KMIP_PORT \\\n",
    "--kmipServerCAFile /certs/ca.pem --kmipClientCertificateFile /certs/client.pem"
   ]
  },
  {
   "cell_type": "code",
   "execution_count": null,
   "metadata": {
    "vscode": {
     "languageId": "shellscript"
    }
   },
   "outputs": [],
   "source": [
    "# Check that the MongoDB are running\n",
    "! docker ps"
   ]
  },
  {
   "cell_type": "markdown",
   "metadata": {},
   "source": [
    "## Step 5 - Testing MongoDB Enterprise Encryption at Rest"
   ]
  },
  {
   "cell_type": "raw",
   "metadata": {
    "vscode": {
     "languageId": "raw"
    }
   },
   "source": [
    "## In a terminal\n",
    "# Show the contents of MongoDB database data folder\n",
    "docker exec -it mongo-enterprise sh -c \"ls /data/db\""
   ]
  },
  {
   "cell_type": "raw",
   "metadata": {
    "vscode": {
     "languageId": "raw"
    }
   },
   "source": [
    "# set mongosh alias to make it easier to execute mongosh commands to the first MongoDB docker container\n",
    "# Use the connection string for the replica set.  This will allow write operations to go to the primary node.\n",
    "# As Authorization is turned on, we will be specifying the root admin user credentials in the connection string.\n",
    "export MONGODB_ADDR=$(kubectl get svc -n mongodb mongodb -o json | jq -r '.status.loadBalancer.ingress[0].ip')\n",
    "echo \"MongoDB Port: $MONGODB_PORT\"\n",
    "alias mongosh=\"docker exec -it mongo-enterprise mongosh \\\"mongodb://127.0.0.1:$MONGODB_PORT/admin\\\"\""
   ]
  },
  {
   "cell_type": "code",
   "execution_count": null,
   "metadata": {
    "vscode": {
     "languageId": "shellscript"
    }
   },
   "outputs": [],
   "source": [
    "%%bash\n",
    "# Create database “record”, insert record with random user details (using function makeid), and display table records\n",
    "# Note: You can run this multiple times to insert more records as required\n",
    "\n",
    "# Take note of the username and password values being inserted into the table\n",
    "mongosh mongodb://127.0.0.1:$MONGODB_PORT/admin --eval \"use record\" \\\n",
    "--eval \"function makeid(length) {\n",
    "    var result           = '';\n",
    "    var characters       = 'ABCDEFGHIJKLMNOPQRSTUVWXYZabcdefghijklmnopqrstuvwxyz0123456789';\n",
    "    var charactersLength = characters.length;\n",
    "    for ( var i = 0; i < length; i++ ) {\n",
    "      result += characters.charAt(Math.floor(Math.random() * \n",
    " charactersLength));\n",
    "   }\n",
    "   return result;\n",
    "}\" \\\n",
    "--eval \"db.users.insertOne({username: \\\"user-\\\" + makeid(4), password: makeid(20)})\" \\\n",
    "--eval \"db.users.find()\""
   ]
  },
  {
   "cell_type": "code",
   "execution_count": null,
   "metadata": {
    "vscode": {
     "languageId": "shellscript"
    }
   },
   "outputs": [],
   "source": [
    "%%bash\n",
    "# Simulate that the KMIP server is down by changing the listening port to 5697\n",
    "vault write kmip/config listen_addrs=0.0.0.0:5697"
   ]
  },
  {
   "cell_type": "code",
   "execution_count": null,
   "metadata": {
    "vscode": {
     "languageId": "shellscript"
    }
   },
   "outputs": [],
   "source": [
    "%%bash\n",
    "# Reinsert another record and query to show that CRUD operations are still working\n",
    "mongosh mongodb://127.0.0.1:$MONGODB_PORT/admin --eval \"use record\" \\\n",
    "--eval \"function makeid(length) {\n",
    "    var result           = '';\n",
    "    var characters       = 'ABCDEFGHIJKLMNOPQRSTUVWXYZabcdefghijklmnopqrstuvwxyz0123456789';\n",
    "    var charactersLength = characters.length;\n",
    "    for ( var i = 0; i < length; i++ ) {\n",
    "      result += characters.charAt(Math.floor(Math.random() * \n",
    " charactersLength));\n",
    "   }\n",
    "   return result;\n",
    "}\" \\\n",
    "--eval \"db.users.insertOne({username: \\\"user-\\\" + makeid(4), password: makeid(20)})\" \\\n",
    "--eval \"db.users.find()\""
   ]
  },
  {
   "cell_type": "code",
   "execution_count": null,
   "metadata": {
    "vscode": {
     "languageId": "shellscript"
    }
   },
   "outputs": [],
   "source": [
    "# Flush all data to the storage layer\n",
    "! mongosh mongodb://127.0.0.1:$MONGODB_PORT/admin --eval \"db.adminCommand( { fsync: 1 } )\""
   ]
  },
  {
   "cell_type": "raw",
   "metadata": {
    "vscode": {
     "languageId": "raw"
    }
   },
   "source": [
    "## In a terminal\n",
    "# Now view the contents of MongoDB database data folder again.  You should notice a new collection file for the data we inserted. \n",
    "# It should be named like \"collection-7--XXXXXXXXXXXXXXXXXX.wt\" collection-7--4848515339651436823.wt \n",
    "\n",
    "docker exec -it mongo-enterprise sh -c \"ls /data/db\""
   ]
  },
  {
   "cell_type": "raw",
   "metadata": {
    "vscode": {
     "languageId": "raw"
    }
   },
   "source": [
    "## In a terminal\n",
    "# Dump the contents of the new collections file.\n",
    "# Notice that the username and password of the inserted record is now encrypted\n",
    "# Note: MongoDB might take a while to flush the data to the database file.  Wait a while and try again if you do not see any data in the file.\n",
    "\n",
    "docker exec -it mongo-enterprise sh -c \"cat data/db/collection-7*\""
   ]
  },
  {
   "cell_type": "markdown",
   "metadata": {},
   "source": [
    "# Cleanup"
   ]
  },
  {
   "cell_type": "code",
   "execution_count": null,
   "metadata": {
    "vscode": {
     "languageId": "shellscript"
    }
   },
   "outputs": [],
   "source": [
    "%%bash\n",
    "# Cleanup\n",
    "\n",
    "# Disable KMIP secrets engine\n",
    "vault secrets disable kmip\n",
    "\n",
    "# Stop MongoDB container\n",
    "docker stop mongo-enterprise\n",
    "\n",
    "# Remove KMIP certificate demo files\n",
    "rm -rf $CERT_PATH"
   ]
  }
 ],
 "metadata": {
  "kernelspec": {
   "display_name": "base",
   "language": "python",
   "name": "python3"
  },
  "language_info": {
   "codemirror_mode": {
    "name": "ipython",
    "version": 3
   },
   "file_extension": ".py",
   "mimetype": "text/x-python",
   "name": "python",
   "nbconvert_exporter": "python",
   "pygments_lexer": "ipython3",
   "version": "3.9.13"
  },
  "orig_nbformat": 4
 },
 "nbformat": 4,
 "nbformat_minor": 2
}
