{
 "cells": [
  {
   "cell_type": "code",
   "execution_count": null,
   "id": "f5493982",
   "metadata": {
    "vscode": {
     "languageId": "shellscript"
    }
   },
   "outputs": [],
   "source": [
    "%env  WORKDIR=/tmp/vault      "
   ]
  },
  {
   "cell_type": "code",
   "execution_count": null,
   "id": "2fcd629f",
   "metadata": {
    "vscode": {
     "languageId": "shellscript"
    }
   },
   "outputs": [],
   "source": [
    "%%bash\n",
    "cat $WORKDIR/VAULT_TOKEN.TXT\n",
    "cat $WORKDIR/VAULT_ADDR.TXT"
   ]
  },
  {
   "cell_type": "markdown",
   "id": "5ca06b95",
   "metadata": {},
   "source": [
    "Update the values of the enviromental values of the following cells based on the output of the previous cell"
   ]
  },
  {
   "cell_type": "code",
   "execution_count": null,
   "id": "ffc8440a",
   "metadata": {
    "vscode": {
     "languageId": "shellscript"
    }
   },
   "outputs": [],
   "source": [
    "%env VAULT_ADDR=https://vault-primary-europe-southwest1-rche.josemerchan-f986bf.gcp.sbx.hashicorpdemo.com:8200\n",
    "%env VAULT_TOKEN=hvs.TOQpapl9gf4vE5R68194BK6k"
   ]
  },
  {
   "attachments": {},
   "cell_type": "markdown",
   "id": "f6cf5961",
   "metadata": {},
   "source": [
    "## Run Terraform Code"
   ]
  },
  {
   "cell_type": "code",
   "execution_count": null,
   "id": "debf4ef0",
   "metadata": {
    "vscode": {
     "languageId": "shellscript"
    }
   },
   "outputs": [],
   "source": [
    "%%bash\n",
    "terraform init\n",
    "terraform apply -auto-approve -var-file=variables.tfvars"
   ]
  },
  {
   "attachments": {},
   "cell_type": "markdown",
   "id": "bf759d95",
   "metadata": {},
   "source": [
    "## Verify we can get service account tokens"
   ]
  },
  {
   "cell_type": "code",
   "execution_count": null,
   "id": "811d6df7",
   "metadata": {
    "vscode": {
     "languageId": "shellscript"
    }
   },
   "outputs": [],
   "source": [
    "! vault read gcp/roleset/project_viewer/token"
   ]
  },
  {
   "cell_type": "markdown",
   "id": "90acd305",
   "metadata": {},
   "source": [
    "## Clean up"
   ]
  },
  {
   "cell_type": "code",
   "execution_count": null,
   "id": "4a10632e",
   "metadata": {
    "vscode": {
     "languageId": "shellscript"
    }
   },
   "outputs": [],
   "source": [
    "! terraform destroy -auto-approve -var-file=variables.tfvars"
   ]
  }
 ],
 "metadata": {
  "kernelspec": {
   "display_name": "base",
   "language": "python",
   "name": "python3"
  },
  "language_info": {
   "codemirror_mode": {
    "name": "ipython",
    "version": 3
   },
   "file_extension": ".py",
   "mimetype": "text/x-python",
   "name": "python",
   "nbconvert_exporter": "python",
   "pygments_lexer": "ipython3",
   "version": "3.9.13"
  }
 },
 "nbformat": 4,
 "nbformat_minor": 5
}
