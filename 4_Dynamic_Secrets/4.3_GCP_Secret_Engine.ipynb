{
 "cells": [
  {
   "cell_type": "code",
   "execution_count": 1,
   "id": "f5493982",
   "metadata": {},
   "outputs": [
    {
     "name": "stdout",
     "output_type": "stream",
     "text": [
      "env: WORKDIR=/tmp/vault\n"
     ]
    }
   ],
   "source": [
    "%env  WORKDIR=/tmp/vault      "
   ]
  },
  {
   "cell_type": "code",
   "execution_count": 2,
   "id": "2fcd629f",
   "metadata": {},
   "outputs": [
    {
     "name": "stdout",
     "output_type": "stream",
     "text": [
      "hvs.QbtInWOOYqrZJnMrDmcaArKs\n",
      "https://vault-primary-europe-southwest1-jlhb.josemerchan-f986bf.gcp.sbx.hashicorpdemo.com:8200\n"
     ]
    }
   ],
   "source": [
    "%%bash\n",
    "cat $WORKDIR/VAULT_TOKEN.TXT\n",
    "cat $WORKDIR/VAULT_ADDR.TXT"
   ]
  },
  {
   "cell_type": "markdown",
   "id": "5ca06b95",
   "metadata": {},
   "source": [
    "Update the values of the enviromental values of the following cells based on the output of the previous cell"
   ]
  },
  {
   "cell_type": "code",
   "execution_count": 3,
   "id": "ffc8440a",
   "metadata": {},
   "outputs": [
    {
     "name": "stdout",
     "output_type": "stream",
     "text": [
      "env: VAULT_ADDR=https://vault-primary-europe-southwest1-jlhb.josemerchan-f986bf.gcp.sbx.hashicorpdemo.com:8200\n",
      "env: VAULT_TOKEN=hvs.QbtInWOOYqrZJnMrDmcaArKs\n"
     ]
    }
   ],
   "source": [
    "%env VAULT_ADDR=https://vault-primary-europe-southwest1-jlhb.josemerchan-f986bf.gcp.sbx.hashicorpdemo.com:8200\n",
    "%env VAULT_TOKEN=hvs.QbtInWOOYqrZJnMrDmcaArKs"
   ]
  },
  {
   "attachments": {},
   "cell_type": "markdown",
   "id": "f6cf5961",
   "metadata": {},
   "source": [
    "## Run Terraform Code"
   ]
  },
  {
   "cell_type": "code",
   "execution_count": 4,
   "id": "debf4ef0",
   "metadata": {},
   "outputs": [
    {
     "name": "stdout",
     "output_type": "stream",
     "text": [
      "\n",
      "\u001b[0m\u001b[1mInitializing the backend...\u001b[0m\n",
      "\n",
      "\u001b[0m\u001b[1mInitializing provider plugins...\u001b[0m\n",
      "- Reusing previous version of hashicorp/vault from the dependency lock file\n",
      "- Reusing previous version of hashicorp/google from the dependency lock file\n",
      "- Using previously-installed hashicorp/vault v4.4.0\n",
      "- Using previously-installed hashicorp/google v6.11.1\n",
      "\n",
      "\u001b[0m\u001b[1m\u001b[32mTerraform has been successfully initialized!\u001b[0m\u001b[32m\u001b[0m\n",
      "\u001b[0m\u001b[32m\n",
      "You may now begin working with Terraform. Try running \"terraform plan\" to see\n",
      "any changes that are required for your infrastructure. All Terraform commands\n",
      "should now work.\n",
      "\n",
      "If you ever set or change modules or backend configuration for Terraform,\n",
      "rerun this command to reinitialize your working directory. If you forget, other\n",
      "commands will detect it and remind you to do so if necessary.\u001b[0m\n",
      "\n",
      "Terraform used the selected providers to generate the following execution\n",
      "plan. Resource actions are indicated with the following symbols:\n",
      "  \u001b[32m+\u001b[0m create\u001b[0m\n",
      "\n",
      "Terraform will perform the following actions:\n",
      "\n",
      "\u001b[1m  # google_project_iam_custom_role.gcp_engine\u001b[0m will be created\n",
      "\u001b[0m  \u001b[32m+\u001b[0m\u001b[0m resource \"google_project_iam_custom_role\" \"gcp_engine\" {\n",
      "      \u001b[32m+\u001b[0m\u001b[0m deleted     = (known after apply)\n",
      "      \u001b[32m+\u001b[0m\u001b[0m description = \"Custom role for Vault secret gcp_engine\"\n",
      "      \u001b[32m+\u001b[0m\u001b[0m id          = (known after apply)\n",
      "      \u001b[32m+\u001b[0m\u001b[0m name        = (known after apply)\n",
      "      \u001b[32m+\u001b[0m\u001b[0m permissions = [\n",
      "          \u001b[32m+\u001b[0m\u001b[0m \"iam.serviceAccountKeys.create\",\n",
      "          \u001b[32m+\u001b[0m\u001b[0m \"iam.serviceAccountKeys.delete\",\n",
      "          \u001b[32m+\u001b[0m\u001b[0m \"iam.serviceAccountKeys.get\",\n",
      "          \u001b[32m+\u001b[0m\u001b[0m \"iam.serviceAccountKeys.list\",\n",
      "          \u001b[32m+\u001b[0m\u001b[0m \"iam.serviceAccounts.create\",\n",
      "          \u001b[32m+\u001b[0m\u001b[0m \"iam.serviceAccounts.delete\",\n",
      "          \u001b[32m+\u001b[0m\u001b[0m \"iam.serviceAccounts.get\",\n",
      "          \u001b[32m+\u001b[0m\u001b[0m \"iam.serviceAccounts.getAccessToken\",\n",
      "          \u001b[32m+\u001b[0m\u001b[0m \"iam.serviceAccounts.list\",\n",
      "          \u001b[32m+\u001b[0m\u001b[0m \"iam.serviceAccounts.update\",\n",
      "          \u001b[32m+\u001b[0m\u001b[0m \"resourcemanager.projects.getIamPolicy\",\n",
      "          \u001b[32m+\u001b[0m\u001b[0m \"resourcemanager.projects.setIamPolicy\",\n",
      "        ]\n",
      "      \u001b[32m+\u001b[0m\u001b[0m project     = \"hc-73f8ab4df44146ba8cffb466d83\"\n",
      "      \u001b[32m+\u001b[0m\u001b[0m role_id     = \"vault_gcp_engine\"\n",
      "      \u001b[32m+\u001b[0m\u001b[0m stage       = \"GA\"\n",
      "      \u001b[32m+\u001b[0m\u001b[0m title       = \"vault_gcp_engine\"\n",
      "    }\n",
      "\n",
      "\u001b[1m  # google_project_iam_member.boundary_secret\u001b[0m will be created\n",
      "\u001b[0m  \u001b[32m+\u001b[0m\u001b[0m resource \"google_project_iam_member\" \"boundary_secret\" {\n",
      "      \u001b[32m+\u001b[0m\u001b[0m etag    = (known after apply)\n",
      "      \u001b[32m+\u001b[0m\u001b[0m id      = (known after apply)\n",
      "      \u001b[32m+\u001b[0m\u001b[0m member  = (known after apply)\n",
      "      \u001b[32m+\u001b[0m\u001b[0m project = \"hc-73f8ab4df44146ba8cffb466d83\"\n",
      "      \u001b[32m+\u001b[0m\u001b[0m role    = (known after apply)\n",
      "    }\n",
      "\n",
      "\u001b[1m  # google_service_account.gcp_engine\u001b[0m will be created\n",
      "\u001b[0m  \u001b[32m+\u001b[0m\u001b[0m resource \"google_service_account\" \"gcp_engine\" {\n",
      "      \u001b[32m+\u001b[0m\u001b[0m account_id   = \"iam-vault-gcp-engine\"\n",
      "      \u001b[32m+\u001b[0m\u001b[0m disabled     = false\n",
      "      \u001b[32m+\u001b[0m\u001b[0m display_name = \"Vault Service Account for Engine\"\n",
      "      \u001b[32m+\u001b[0m\u001b[0m email        = (known after apply)\n",
      "      \u001b[32m+\u001b[0m\u001b[0m id           = (known after apply)\n",
      "      \u001b[32m+\u001b[0m\u001b[0m member       = (known after apply)\n",
      "      \u001b[32m+\u001b[0m\u001b[0m name         = (known after apply)\n",
      "      \u001b[32m+\u001b[0m\u001b[0m project      = \"hc-73f8ab4df44146ba8cffb466d83\"\n",
      "      \u001b[32m+\u001b[0m\u001b[0m unique_id    = (known after apply)\n",
      "    }\n",
      "\n",
      "\u001b[1m  # google_service_account_key.gcp_engine\u001b[0m will be created\n",
      "\u001b[0m  \u001b[32m+\u001b[0m\u001b[0m resource \"google_service_account_key\" \"gcp_engine\" {\n",
      "      \u001b[32m+\u001b[0m\u001b[0m id                 = (known after apply)\n",
      "      \u001b[32m+\u001b[0m\u001b[0m key_algorithm      = \"KEY_ALG_RSA_2048\"\n",
      "      \u001b[32m+\u001b[0m\u001b[0m name               = (known after apply)\n",
      "      \u001b[32m+\u001b[0m\u001b[0m private_key        = (sensitive value)\n",
      "      \u001b[32m+\u001b[0m\u001b[0m private_key_type   = \"TYPE_GOOGLE_CREDENTIALS_FILE\"\n",
      "      \u001b[32m+\u001b[0m\u001b[0m public_key         = (known after apply)\n",
      "      \u001b[32m+\u001b[0m\u001b[0m public_key_type    = \"TYPE_X509_PEM_FILE\"\n",
      "      \u001b[32m+\u001b[0m\u001b[0m service_account_id = (known after apply)\n",
      "      \u001b[32m+\u001b[0m\u001b[0m valid_after        = (known after apply)\n",
      "      \u001b[32m+\u001b[0m\u001b[0m valid_before       = (known after apply)\n",
      "    }\n",
      "\n",
      "\u001b[1m  # vault_gcp_secret_backend.gcp\u001b[0m will be created\n",
      "\u001b[0m  \u001b[32m+\u001b[0m\u001b[0m resource \"vault_gcp_secret_backend\" \"gcp\" {\n",
      "      \u001b[32m+\u001b[0m\u001b[0m accessor                  = (known after apply)\n",
      "      \u001b[32m+\u001b[0m\u001b[0m credentials               = (sensitive value)\n",
      "      \u001b[32m+\u001b[0m\u001b[0m default_lease_ttl_seconds = 0\n",
      "      \u001b[32m+\u001b[0m\u001b[0m disable_remount           = false\n",
      "      \u001b[32m+\u001b[0m\u001b[0m id                        = (known after apply)\n",
      "      \u001b[32m+\u001b[0m\u001b[0m max_lease_ttl_seconds     = 0\n",
      "      \u001b[32m+\u001b[0m\u001b[0m path                      = \"gcp\"\n",
      "    }\n",
      "\n",
      "\u001b[1m  # vault_gcp_secret_roleset.roleset\u001b[0m will be created\n",
      "\u001b[0m  \u001b[32m+\u001b[0m\u001b[0m resource \"vault_gcp_secret_roleset\" \"roleset\" {\n",
      "      \u001b[32m+\u001b[0m\u001b[0m backend               = \"gcp\"\n",
      "      \u001b[32m+\u001b[0m\u001b[0m id                    = (known after apply)\n",
      "      \u001b[32m+\u001b[0m\u001b[0m project               = \"hc-73f8ab4df44146ba8cffb466d83\"\n",
      "      \u001b[32m+\u001b[0m\u001b[0m roleset               = \"project_viewer\"\n",
      "      \u001b[32m+\u001b[0m\u001b[0m secret_type           = \"access_token\"\n",
      "      \u001b[32m+\u001b[0m\u001b[0m service_account_email = (known after apply)\n",
      "      \u001b[32m+\u001b[0m\u001b[0m token_scopes          = [\n",
      "          \u001b[32m+\u001b[0m\u001b[0m \"https://www.googleapis.com/auth/cloud-platform\",\n",
      "        ]\n",
      "\n",
      "      \u001b[32m+\u001b[0m\u001b[0m binding {\n",
      "          \u001b[32m+\u001b[0m\u001b[0m resource = \"//cloudresourcemanager.googleapis.com/projects/hc-73f8ab4df44146ba8cffb466d83\"\n",
      "          \u001b[32m+\u001b[0m\u001b[0m roles    = [\n",
      "              \u001b[32m+\u001b[0m\u001b[0m \"roles/viewer\",\n",
      "            ]\n",
      "        }\n",
      "    }\n",
      "\n",
      "\u001b[1mPlan:\u001b[0m 6 to add, 0 to change, 0 to destroy.\n",
      "\u001b[0m\u001b[0m\u001b[1mgoogle_service_account.gcp_engine: Creating...\u001b[0m\u001b[0m\n",
      "\u001b[0m\u001b[1mgoogle_project_iam_custom_role.gcp_engine: Creating...\u001b[0m\u001b[0m\n",
      "\u001b[0m\u001b[1mgoogle_project_iam_custom_role.gcp_engine: Creation complete after 2s [id=projects/hc-73f8ab4df44146ba8cffb466d83/roles/vault_gcp_engine]\u001b[0m\n",
      "\u001b[0m\u001b[1mgoogle_service_account.gcp_engine: Still creating... [10s elapsed]\u001b[0m\u001b[0m\n",
      "\u001b[0m\u001b[1mgoogle_service_account.gcp_engine: Creation complete after 12s [id=projects/hc-73f8ab4df44146ba8cffb466d83/serviceAccounts/iam-vault-gcp-engine@hc-73f8ab4df44146ba8cffb466d83.iam.gserviceaccount.com]\u001b[0m\n",
      "\u001b[0m\u001b[1mgoogle_project_iam_member.boundary_secret: Creating...\u001b[0m\u001b[0m\n",
      "\u001b[0m\u001b[1mgoogle_service_account_key.gcp_engine: Creating...\u001b[0m\u001b[0m\n",
      "\u001b[0m\u001b[1mgoogle_project_iam_member.boundary_secret: Creation complete after 10s [id=hc-73f8ab4df44146ba8cffb466d83/projects/hc-73f8ab4df44146ba8cffb466d83/roles/vault_gcp_engine/serviceAccount:iam-vault-gcp-engine@hc-73f8ab4df44146ba8cffb466d83.iam.gserviceaccount.com]\u001b[0m\n",
      "\u001b[0m\u001b[1mgoogle_service_account_key.gcp_engine: Still creating... [10s elapsed]\u001b[0m\u001b[0m\n",
      "\u001b[0m\u001b[1mgoogle_service_account_key.gcp_engine: Creation complete after 13s [id=projects/hc-73f8ab4df44146ba8cffb466d83/serviceAccounts/iam-vault-gcp-engine@hc-73f8ab4df44146ba8cffb466d83.iam.gserviceaccount.com/keys/299526ba826d72c52cc4e10016052422dff7a8bf]\u001b[0m\n",
      "\u001b[0m\u001b[1mvault_gcp_secret_backend.gcp: Creating...\u001b[0m\u001b[0m\n",
      "\u001b[0m\u001b[1mvault_gcp_secret_backend.gcp: Creation complete after 1s [id=gcp]\u001b[0m\n",
      "\u001b[0m\u001b[1mvault_gcp_secret_roleset.roleset: Creating...\u001b[0m\u001b[0m\n",
      "\u001b[0m\u001b[1mvault_gcp_secret_roleset.roleset: Creation complete after 5s [id=gcp/roleset/project_viewer]\u001b[0m\n",
      "\u001b[0m\u001b[1m\u001b[32m\n",
      "Apply complete! Resources: 6 added, 0 changed, 0 destroyed.\n",
      "\u001b[0m"
     ]
    }
   ],
   "source": [
    "%%bash\n",
    "terraform init\n",
    "terraform apply -auto-approve -var-file=variables.tfvars"
   ]
  },
  {
   "attachments": {},
   "cell_type": "markdown",
   "id": "bf759d95",
   "metadata": {},
   "source": [
    "## Verify we can get service account tokens"
   ]
  },
  {
   "cell_type": "code",
   "execution_count": 5,
   "id": "811d6df7",
   "metadata": {},
   "outputs": [
    {
     "name": "stdout",
     "output_type": "stream",
     "text": [
      "Key                   Value\n",
      "---                   -----\n",
      "expires_at_seconds    1731941981\n",
      "token                 ya29.c.c0ASRK0GZIOxSFAMZxaIgTiSvCEWGS5hl83oWIQhn6VFPKnfZ0HoXaxTHICmfw7KcXhpuMjYwZsGcTUTjvul-hCuEMhU45W92CT1NkZQYp4KwA9juklm8U-vhIrGdyuFFsZNMZb3p8kLP_mOLSjvmdds5GcvoeczB6QIjvD0IPiASMHzzERrg1oEPwvtoTK4zq0tRe8RBeF9PEtRs4k1lytJw-L6uYaGRBovZtyWQS8m_mG9qgRVC4SBnTqsrQHzt17lK1VMU65rDfN1dLea7cXtvRHKeBOYCbxZ2OvGn0G05z7RAbeOzzKVzA9FQzAessaeMgP8QxQYZJEE70-lRgWmsoLep8__NuVv69YUVGjX_4T6idvx78TA0N384PJ8l6cuQja1gscxR6M8jXkhISSduucj-5jzimruRV0kyQmroB3-Y76zJYXXIJ8qn4n3_QsFzp7xbRSRySYWfv3xcgc2oIFop2xitiV8m55kMp1zjwZV-kv-sdb__gjZulQXbjpnJrWrtkW-1YvYbsjJ_80sifcggr3VFUZJWFZSrw7s9uoadbc6xM1pbm0mR0aRo-MYZZIeF_Sp6FiQY8jy2IgjrvjkdQfzgVuOZtSB53se0b5Ms8QzrvMqJ-tRw-76fjkuZB-BcYeg93d5zyWY1l0XYaXoIhzQt-vf51Qewaub4cc4dgn5Wx6k6cVai9wboZIQFgoB2tgZZ5cUYhvOj15mz6mlop3JOzg5fziJyXrU_228mbj_hX-md-chu-27Sl5kOgutcitdcoyl_7Y1nqelQ0pmqBjjVM4pR5afRben5IeWZvtpR5adUhJBfe90r9tdShbyO7Rd75-XwwcSYRtl8jRBfzI1M-f6IBJ0n5M32Ut7SIsY578xUh0Yv6kz0mj40llS55-lv_hIOJ_UsVi7kdZia0qkp6m4BMcr4z6dlFtmUn7dc7nsO4bl0sW2YbdVr18szYWz9kS5jI1SjvMypujrj163kcwvBxF5tR3sFS8QUjXstaOvR\n",
      "token_ttl             59m58s\n"
     ]
    }
   ],
   "source": [
    "%%bash\n",
    "vault read gcp/roleset/project_viewer/token"
   ]
  },
  {
   "cell_type": "markdown",
   "id": "90acd305",
   "metadata": {},
   "source": [
    "## Clean up"
   ]
  },
  {
   "cell_type": "code",
   "execution_count": 6,
   "id": "4a10632e",
   "metadata": {},
   "outputs": [
    {
     "name": "stdout",
     "output_type": "stream",
     "text": [
      "\u001b[0m\u001b[1mgoogle_project_iam_custom_role.gcp_engine: Refreshing state... [id=projects/hc-73f8ab4df44146ba8cffb466d83/roles/vault_gcp_engine]\u001b[0m\n",
      "\u001b[0m\u001b[1mgoogle_service_account.gcp_engine: Refreshing state... [id=projects/hc-73f8ab4df44146ba8cffb466d83/serviceAccounts/iam-vault-gcp-engine@hc-73f8ab4df44146ba8cffb466d83.iam.gserviceaccount.com]\u001b[0m\n",
      "\u001b[0m\u001b[1mgoogle_service_account_key.gcp_engine: Refreshing state... [id=projects/hc-73f8ab4df44146ba8cffb466d83/serviceAccounts/iam-vault-gcp-engine@hc-73f8ab4df44146ba8cffb466d83.iam.gserviceaccount.com/keys/299526ba826d72c52cc4e10016052422dff7a8bf]\u001b[0m\n",
      "\u001b[0m\u001b[1mgoogle_project_iam_member.boundary_secret: Refreshing state... [id=hc-73f8ab4df44146ba8cffb466d83/projects/hc-73f8ab4df44146ba8cffb466d83/roles/vault_gcp_engine/serviceAccount:iam-vault-gcp-engine@hc-73f8ab4df44146ba8cffb466d83.iam.gserviceaccount.com]\u001b[0m\n",
      "\u001b[0m\u001b[1mvault_gcp_secret_backend.gcp: Refreshing state... [id=gcp]\u001b[0m\n",
      "\u001b[0m\u001b[1mvault_gcp_secret_roleset.roleset: Refreshing state... [id=gcp/roleset/project_viewer]\u001b[0m\n",
      "\n",
      "Terraform used the selected providers to generate the following execution\n",
      "plan. Resource actions are indicated with the following symbols:\n",
      "  \u001b[31m-\u001b[0m destroy\u001b[0m\n",
      "\n",
      "Terraform will perform the following actions:\n",
      "\n",
      "\u001b[1m  # google_project_iam_custom_role.gcp_engine\u001b[0m will be \u001b[1m\u001b[31mdestroyed\u001b[0m\n",
      "\u001b[0m  \u001b[31m-\u001b[0m\u001b[0m resource \"google_project_iam_custom_role\" \"gcp_engine\" {\n",
      "      \u001b[31m-\u001b[0m\u001b[0m deleted     = false \u001b[90m-> null\u001b[0m\u001b[0m\n",
      "      \u001b[31m-\u001b[0m\u001b[0m description = \"Custom role for Vault secret gcp_engine\" \u001b[90m-> null\u001b[0m\u001b[0m\n",
      "      \u001b[31m-\u001b[0m\u001b[0m id          = \"projects/hc-73f8ab4df44146ba8cffb466d83/roles/vault_gcp_engine\" \u001b[90m-> null\u001b[0m\u001b[0m\n",
      "      \u001b[31m-\u001b[0m\u001b[0m name        = \"projects/hc-73f8ab4df44146ba8cffb466d83/roles/vault_gcp_engine\" \u001b[90m-> null\u001b[0m\u001b[0m\n",
      "      \u001b[31m-\u001b[0m\u001b[0m permissions = [\n",
      "          \u001b[31m-\u001b[0m\u001b[0m \"iam.serviceAccountKeys.create\",\n",
      "          \u001b[31m-\u001b[0m\u001b[0m \"iam.serviceAccountKeys.delete\",\n",
      "          \u001b[31m-\u001b[0m\u001b[0m \"iam.serviceAccountKeys.get\",\n",
      "          \u001b[31m-\u001b[0m\u001b[0m \"iam.serviceAccountKeys.list\",\n",
      "          \u001b[31m-\u001b[0m\u001b[0m \"iam.serviceAccounts.create\",\n",
      "          \u001b[31m-\u001b[0m\u001b[0m \"iam.serviceAccounts.delete\",\n",
      "          \u001b[31m-\u001b[0m\u001b[0m \"iam.serviceAccounts.get\",\n",
      "          \u001b[31m-\u001b[0m\u001b[0m \"iam.serviceAccounts.getAccessToken\",\n",
      "          \u001b[31m-\u001b[0m\u001b[0m \"iam.serviceAccounts.list\",\n",
      "          \u001b[31m-\u001b[0m\u001b[0m \"iam.serviceAccounts.update\",\n",
      "          \u001b[31m-\u001b[0m\u001b[0m \"resourcemanager.projects.getIamPolicy\",\n",
      "          \u001b[31m-\u001b[0m\u001b[0m \"resourcemanager.projects.setIamPolicy\",\n",
      "        ] \u001b[90m-> null\u001b[0m\u001b[0m\n",
      "      \u001b[31m-\u001b[0m\u001b[0m project     = \"hc-73f8ab4df44146ba8cffb466d83\" \u001b[90m-> null\u001b[0m\u001b[0m\n",
      "      \u001b[31m-\u001b[0m\u001b[0m role_id     = \"vault_gcp_engine\" \u001b[90m-> null\u001b[0m\u001b[0m\n",
      "      \u001b[31m-\u001b[0m\u001b[0m stage       = \"GA\" \u001b[90m-> null\u001b[0m\u001b[0m\n",
      "      \u001b[31m-\u001b[0m\u001b[0m title       = \"vault_gcp_engine\" \u001b[90m-> null\u001b[0m\u001b[0m\n",
      "    }\n",
      "\n",
      "\u001b[1m  # google_project_iam_member.boundary_secret\u001b[0m will be \u001b[1m\u001b[31mdestroyed\u001b[0m\n",
      "\u001b[0m  \u001b[31m-\u001b[0m\u001b[0m resource \"google_project_iam_member\" \"boundary_secret\" {\n",
      "      \u001b[31m-\u001b[0m\u001b[0m etag    = \"BwYnMFNyVhA=\" \u001b[90m-> null\u001b[0m\u001b[0m\n",
      "      \u001b[31m-\u001b[0m\u001b[0m id      = \"hc-73f8ab4df44146ba8cffb466d83/projects/hc-73f8ab4df44146ba8cffb466d83/roles/vault_gcp_engine/serviceAccount:iam-vault-gcp-engine@hc-73f8ab4df44146ba8cffb466d83.iam.gserviceaccount.com\" \u001b[90m-> null\u001b[0m\u001b[0m\n",
      "      \u001b[31m-\u001b[0m\u001b[0m member  = \"serviceAccount:iam-vault-gcp-engine@hc-73f8ab4df44146ba8cffb466d83.iam.gserviceaccount.com\" \u001b[90m-> null\u001b[0m\u001b[0m\n",
      "      \u001b[31m-\u001b[0m\u001b[0m project = \"hc-73f8ab4df44146ba8cffb466d83\" \u001b[90m-> null\u001b[0m\u001b[0m\n",
      "      \u001b[31m-\u001b[0m\u001b[0m role    = \"projects/hc-73f8ab4df44146ba8cffb466d83/roles/vault_gcp_engine\" \u001b[90m-> null\u001b[0m\u001b[0m\n",
      "    }\n",
      "\n",
      "\u001b[1m  # google_service_account.gcp_engine\u001b[0m will be \u001b[1m\u001b[31mdestroyed\u001b[0m\n",
      "\u001b[0m  \u001b[31m-\u001b[0m\u001b[0m resource \"google_service_account\" \"gcp_engine\" {\n",
      "      \u001b[31m-\u001b[0m\u001b[0m account_id   = \"iam-vault-gcp-engine\" \u001b[90m-> null\u001b[0m\u001b[0m\n",
      "      \u001b[31m-\u001b[0m\u001b[0m disabled     = false \u001b[90m-> null\u001b[0m\u001b[0m\n",
      "      \u001b[31m-\u001b[0m\u001b[0m display_name = \"Vault Service Account for Engine\" \u001b[90m-> null\u001b[0m\u001b[0m\n",
      "      \u001b[31m-\u001b[0m\u001b[0m email        = \"iam-vault-gcp-engine@hc-73f8ab4df44146ba8cffb466d83.iam.gserviceaccount.com\" \u001b[90m-> null\u001b[0m\u001b[0m\n",
      "      \u001b[31m-\u001b[0m\u001b[0m id           = \"projects/hc-73f8ab4df44146ba8cffb466d83/serviceAccounts/iam-vault-gcp-engine@hc-73f8ab4df44146ba8cffb466d83.iam.gserviceaccount.com\" \u001b[90m-> null\u001b[0m\u001b[0m\n",
      "      \u001b[31m-\u001b[0m\u001b[0m member       = \"serviceAccount:iam-vault-gcp-engine@hc-73f8ab4df44146ba8cffb466d83.iam.gserviceaccount.com\" \u001b[90m-> null\u001b[0m\u001b[0m\n",
      "      \u001b[31m-\u001b[0m\u001b[0m name         = \"projects/hc-73f8ab4df44146ba8cffb466d83/serviceAccounts/iam-vault-gcp-engine@hc-73f8ab4df44146ba8cffb466d83.iam.gserviceaccount.com\" \u001b[90m-> null\u001b[0m\u001b[0m\n",
      "      \u001b[31m-\u001b[0m\u001b[0m project      = \"hc-73f8ab4df44146ba8cffb466d83\" \u001b[90m-> null\u001b[0m\u001b[0m\n",
      "      \u001b[31m-\u001b[0m\u001b[0m unique_id    = \"107361742104854759040\" \u001b[90m-> null\u001b[0m\u001b[0m\n",
      "    }\n",
      "\n",
      "\u001b[1m  # google_service_account_key.gcp_engine\u001b[0m will be \u001b[1m\u001b[31mdestroyed\u001b[0m\n",
      "\u001b[0m  \u001b[31m-\u001b[0m\u001b[0m resource \"google_service_account_key\" \"gcp_engine\" {\n",
      "      \u001b[31m-\u001b[0m\u001b[0m id                 = \"projects/hc-73f8ab4df44146ba8cffb466d83/serviceAccounts/iam-vault-gcp-engine@hc-73f8ab4df44146ba8cffb466d83.iam.gserviceaccount.com/keys/299526ba826d72c52cc4e10016052422dff7a8bf\" \u001b[90m-> null\u001b[0m\u001b[0m\n",
      "      \u001b[31m-\u001b[0m\u001b[0m key_algorithm      = \"KEY_ALG_RSA_2048\" \u001b[90m-> null\u001b[0m\u001b[0m\n",
      "      \u001b[31m-\u001b[0m\u001b[0m name               = \"projects/hc-73f8ab4df44146ba8cffb466d83/serviceAccounts/iam-vault-gcp-engine@hc-73f8ab4df44146ba8cffb466d83.iam.gserviceaccount.com/keys/299526ba826d72c52cc4e10016052422dff7a8bf\" \u001b[90m-> null\u001b[0m\u001b[0m\n",
      "      \u001b[31m-\u001b[0m\u001b[0m private_key        = (sensitive value) \u001b[90m-> null\u001b[0m\u001b[0m\n",
      "      \u001b[31m-\u001b[0m\u001b[0m private_key_type   = \"TYPE_GOOGLE_CREDENTIALS_FILE\" \u001b[90m-> null\u001b[0m\u001b[0m\n",
      "      \u001b[31m-\u001b[0m\u001b[0m public_key         = \"LS0tLS1CRUdJTiBDRVJUSUZJQ0FURS0tLS0tCk1JSUMvVENDQWVXZ0F3SUJBZ0lKQUtZQ0ZrMWVOSzNRTUEwR0NTcUdTSWIzRFFFQkJRVUFNQ0F4SGpBY0JnTlYKQkFNTUZURXdOek0yTVRjME1qRXdORGcxTkRjMU9UQTBNREFnRncweU5ERXhNVGd4TXpVNU1UUmFHQTg1T1RrNQpNVEl6TVRJek5UazFPVm93SURFZU1Cd0dBMVVFQXd3Vk1UQTNNell4TnpReU1UQTBPRFUwTnpVNU1EUXdNSUlCCklqQU5CZ2txaGtpRzl3MEJBUUVGQUFPQ0FROEFNSUlCQ2dLQ0FRRUF1cWM2Q005MjF5Y2hPLzZTQ1VrcHVWUXcKNnY2aWE2NWp2ZE9aT3dmcXVxNWJTY3Y4dThsUWFkY0JheTUzbVBoclluMnlMa1p2eG9PTWVhRW9EQUd6ZVJFZApJODBvNHBFbkpXK2JoUUxhanY2Z1NTd0NGUTdNWFpBQ3BObDdjcEhMeUE1VktpZkM0NlhmdTZpVEtxNkNtUXFRCmhIcnJCN3BDelMzSS9wQVVNWU14Y05zL29nRVNBWXdjV0dsNjJleXkweE5Dd0VLK2E0djJPaURqeU02M2JhT2cKWG1SUWk5eDlBNTd0QndaVEYwWVY3M3Zqd2lubnllODFXeUFzZG9mS1diSGpLaFFGaDFvM1JmazFONFU5Zzd4RwoxajFPejBEQktmdzB5UDBIK3RxSWJ6M0psVjQ3T3dCdk81WE5meFJ3UzNIbnE1ckZQSjkyYWVHd2tpL25Md0lECkFRQUJvemd3TmpBTUJnTlZIUk1CQWY4RUFqQUFNQTRHQTFVZER3RUIvd1FFQXdJSGdEQVdCZ05WSFNVQkFmOEUKRERBS0JnZ3JCZ0VGQlFjREFqQU5CZ2txaGtpRzl3MEJBUVVGQUFPQ0FRRUFSa2tNWllWWXlPT2JLUVZ1cnduYwpIYmo5WDVycUdUTDFzN25lYWgyRDVaWldZcXN6NHpNMVM4Y2VTVk1lZklUNnhWM3hESjZDWkQrUUQ5NDU0N1ZqCkpmUW1ROTZybXRxV0pUNUNzTlNQNnEvL0VhbGw1V0FBWjVCaDRKM1lZaGh4Y25QME1xZy9OZ1dTb1NFMzJnMVYKWW5yOTlqUEc1Mnl2NDdYczNGTlFmZmFINzI2SVFsMEhHWGJjZ3BobHFnT08xVG5sOEIvYURZK2IzcVhFZUozRgoyc0xySDBJOFU2dmZmYUlDRFpFODY3WGZaVVZGMHFiM09uRndkNmNBb3NiRTVkSllBSFJwbm0yZEJvUEp4YUJaCmUwS0RYaVdRYmxDM1pDRzNOOVFuQ2lsM1FFTms5dDh3ZENoZzh4N2RON21WcUQzKzFHMjQ2SXJvZG9mSmZpK1cKc3c9PQotLS0tLUVORCBDRVJUSUZJQ0FURS0tLS0tCg==\" \u001b[90m-> null\u001b[0m\u001b[0m\n",
      "      \u001b[31m-\u001b[0m\u001b[0m public_key_type    = \"TYPE_X509_PEM_FILE\" \u001b[90m-> null\u001b[0m\u001b[0m\n",
      "      \u001b[31m-\u001b[0m\u001b[0m service_account_id = \"projects/hc-73f8ab4df44146ba8cffb466d83/serviceAccounts/iam-vault-gcp-engine@hc-73f8ab4df44146ba8cffb466d83.iam.gserviceaccount.com\" \u001b[90m-> null\u001b[0m\u001b[0m\n",
      "      \u001b[31m-\u001b[0m\u001b[0m valid_after        = \"2024-11-18T13:59:14Z\" \u001b[90m-> null\u001b[0m\u001b[0m\n",
      "      \u001b[31m-\u001b[0m\u001b[0m valid_before       = \"9999-12-31T23:59:59Z\" \u001b[90m-> null\u001b[0m\u001b[0m\n",
      "    }\n",
      "\n",
      "\u001b[1m  # vault_gcp_secret_backend.gcp\u001b[0m will be \u001b[1m\u001b[31mdestroyed\u001b[0m\n",
      "\u001b[0m  \u001b[31m-\u001b[0m\u001b[0m resource \"vault_gcp_secret_backend\" \"gcp\" {\n",
      "      \u001b[31m-\u001b[0m\u001b[0m accessor                  = \"gcp_bf8fa4be\" \u001b[90m-> null\u001b[0m\u001b[0m\n",
      "      \u001b[31m-\u001b[0m\u001b[0m credentials               = (sensitive value) \u001b[90m-> null\u001b[0m\u001b[0m\n",
      "      \u001b[31m-\u001b[0m\u001b[0m default_lease_ttl_seconds = 0 \u001b[90m-> null\u001b[0m\u001b[0m\n",
      "      \u001b[31m-\u001b[0m\u001b[0m disable_remount           = false \u001b[90m-> null\u001b[0m\u001b[0m\n",
      "      \u001b[31m-\u001b[0m\u001b[0m id                        = \"gcp\" \u001b[90m-> null\u001b[0m\u001b[0m\n",
      "      \u001b[31m-\u001b[0m\u001b[0m identity_token_ttl        = 0 \u001b[90m-> null\u001b[0m\u001b[0m\n",
      "      \u001b[31m-\u001b[0m\u001b[0m local                     = false \u001b[90m-> null\u001b[0m\u001b[0m\n",
      "      \u001b[31m-\u001b[0m\u001b[0m max_lease_ttl_seconds     = 0 \u001b[90m-> null\u001b[0m\u001b[0m\n",
      "      \u001b[31m-\u001b[0m\u001b[0m path                      = \"gcp\" \u001b[90m-> null\u001b[0m\u001b[0m\n",
      "    }\n",
      "\n",
      "\u001b[1m  # vault_gcp_secret_roleset.roleset\u001b[0m will be \u001b[1m\u001b[31mdestroyed\u001b[0m\n",
      "\u001b[0m  \u001b[31m-\u001b[0m\u001b[0m resource \"vault_gcp_secret_roleset\" \"roleset\" {\n",
      "      \u001b[31m-\u001b[0m\u001b[0m backend               = \"gcp\" \u001b[90m-> null\u001b[0m\u001b[0m\n",
      "      \u001b[31m-\u001b[0m\u001b[0m id                    = \"gcp/roleset/project_viewer\" \u001b[90m-> null\u001b[0m\u001b[0m\n",
      "      \u001b[31m-\u001b[0m\u001b[0m project               = \"hc-73f8ab4df44146ba8cffb466d83\" \u001b[90m-> null\u001b[0m\u001b[0m\n",
      "      \u001b[31m-\u001b[0m\u001b[0m roleset               = \"project_viewer\" \u001b[90m-> null\u001b[0m\u001b[0m\n",
      "      \u001b[31m-\u001b[0m\u001b[0m secret_type           = \"access_token\" \u001b[90m-> null\u001b[0m\u001b[0m\n",
      "      \u001b[31m-\u001b[0m\u001b[0m service_account_email = \"vaultproject-viewer-1731938367@hc-73f8ab4df44146ba8cffb466d83.iam.gserviceaccount.com\" \u001b[90m-> null\u001b[0m\u001b[0m\n",
      "      \u001b[31m-\u001b[0m\u001b[0m token_scopes          = [\n",
      "          \u001b[31m-\u001b[0m\u001b[0m \"https://www.googleapis.com/auth/cloud-platform\",\n",
      "        ] \u001b[90m-> null\u001b[0m\u001b[0m\n",
      "\n",
      "      \u001b[31m-\u001b[0m\u001b[0m binding {\n",
      "          \u001b[31m-\u001b[0m\u001b[0m resource = \"//cloudresourcemanager.googleapis.com/projects/hc-73f8ab4df44146ba8cffb466d83\" \u001b[90m-> null\u001b[0m\u001b[0m\n",
      "          \u001b[31m-\u001b[0m\u001b[0m roles    = [\n",
      "              \u001b[31m-\u001b[0m\u001b[0m \"roles/viewer\",\n",
      "            ] \u001b[90m-> null\u001b[0m\u001b[0m\n",
      "        }\n",
      "    }\n",
      "\n",
      "\u001b[1mPlan:\u001b[0m 0 to add, 0 to change, 6 to destroy.\n",
      "\u001b[0m\u001b[0m\u001b[1mvault_gcp_secret_roleset.roleset: Destroying... [id=gcp/roleset/project_viewer]\u001b[0m\u001b[0m\n",
      "\u001b[0m\u001b[1mgoogle_project_iam_member.boundary_secret: Destroying... [id=hc-73f8ab4df44146ba8cffb466d83/projects/hc-73f8ab4df44146ba8cffb466d83/roles/vault_gcp_engine/serviceAccount:iam-vault-gcp-engine@hc-73f8ab4df44146ba8cffb466d83.iam.gserviceaccount.com]\u001b[0m\u001b[0m\n",
      "\u001b[0m\u001b[1mvault_gcp_secret_roleset.roleset: Destruction complete after 5s\u001b[0m\n",
      "\u001b[0m\u001b[1mvault_gcp_secret_backend.gcp: Destroying... [id=gcp]\u001b[0m\u001b[0m\n",
      "\u001b[0m\u001b[1mvault_gcp_secret_backend.gcp: Destruction complete after 0s\u001b[0m\n",
      "\u001b[0m\u001b[1mgoogle_service_account_key.gcp_engine: Destroying... [id=projects/hc-73f8ab4df44146ba8cffb466d83/serviceAccounts/iam-vault-gcp-engine@hc-73f8ab4df44146ba8cffb466d83.iam.gserviceaccount.com/keys/299526ba826d72c52cc4e10016052422dff7a8bf]\u001b[0m\u001b[0m\n",
      "\u001b[0m\u001b[1mgoogle_service_account_key.gcp_engine: Destruction complete after 1s\u001b[0m\n",
      "\u001b[0m\u001b[1mgoogle_project_iam_member.boundary_secret: Destruction complete after 10s\u001b[0m\n",
      "\u001b[0m\u001b[1mgoogle_service_account.gcp_engine: Destroying... [id=projects/hc-73f8ab4df44146ba8cffb466d83/serviceAccounts/iam-vault-gcp-engine@hc-73f8ab4df44146ba8cffb466d83.iam.gserviceaccount.com]\u001b[0m\u001b[0m\n",
      "\u001b[0m\u001b[1mgoogle_project_iam_custom_role.gcp_engine: Destroying... [id=projects/hc-73f8ab4df44146ba8cffb466d83/roles/vault_gcp_engine]\u001b[0m\u001b[0m\n",
      "\u001b[0m\u001b[1mgoogle_service_account.gcp_engine: Destruction complete after 0s\u001b[0m\n",
      "\u001b[0m\u001b[1mgoogle_project_iam_custom_role.gcp_engine: Destruction complete after 0s\u001b[0m\n",
      "\u001b[0m\u001b[1m\u001b[32m\n",
      "Destroy complete! Resources: 6 destroyed.\n",
      "\u001b[0m"
     ]
    }
   ],
   "source": [
    "%%bash\n",
    "## Revoke all tokens associated to a role\n",
    "terraform destroy -auto-approve -var-file=variables.tfvars"
   ]
  }
 ],
 "metadata": {
  "kernelspec": {
   "display_name": "base",
   "language": "python",
   "name": "python3"
  },
  "language_info": {
   "codemirror_mode": {
    "name": "ipython",
    "version": 3
   },
   "file_extension": ".py",
   "mimetype": "text/x-python",
   "name": "python",
   "nbconvert_exporter": "python",
   "pygments_lexer": "ipython3",
   "version": "3.9.13"
  }
 },
 "nbformat": 4,
 "nbformat_minor": 5
}
