{
 "cells": [
  {
   "cell_type": "code",
   "execution_count": null,
   "id": "f5493982",
   "metadata": {
    "vscode": {
     "languageId": "shellscript"
    }
   },
   "outputs": [],
   "source": [
    "%env  WORKDIR=/tmp/vault"
   ]
  },
  {
   "cell_type": "code",
   "execution_count": null,
   "id": "28a79023",
   "metadata": {
    "vscode": {
     "languageId": "shellscript"
    }
   },
   "outputs": [],
   "source": [
    "%%bash\n",
    "cat $WORKDIR/VAULT_TOKEN.TXT\n",
    "cat $WORKDIR/VAULT_ADDR.TXT"
   ]
  },
  {
   "cell_type": "code",
   "execution_count": null,
   "id": "2afa9feb",
   "metadata": {
    "vscode": {
     "languageId": "shellscript"
    }
   },
   "outputs": [],
   "source": [
    "%env VAULT_ADDR=https://vault-primary-europe-southwest1-p5fh.josemerchan-313707.gcp.sbx.hashicorpdemo.com:8200\n",
    "%env VAULT_TOKEN=hvs.GqTsfXwqgl0bK86WbGIfCBZz"
   ]
  },
  {
   "attachments": {},
   "cell_type": "markdown",
   "id": "f6cf5961",
   "metadata": {},
   "source": [
    "## Enable LDAP Secret Engine"
   ]
  },
  {
   "cell_type": "code",
   "execution_count": null,
   "id": "debf4ef0",
   "metadata": {
    "vscode": {
     "languageId": "shellscript"
    }
   },
   "outputs": [],
   "source": [
    "! vault secrets enable ldap"
   ]
  },
  {
   "attachments": {},
   "cell_type": "markdown",
   "id": "bf759d95",
   "metadata": {},
   "source": [
    "## Connect to LDAP with username (bindDN) and password"
   ]
  },
  {
   "cell_type": "code",
   "execution_count": null,
   "id": "811d6df7",
   "metadata": {
    "vscode": {
     "languageId": "shellscript"
    }
   },
   "outputs": [],
   "source": [
    "%%bash\n",
    "export LDAP_ADDR=$(kubectl get svc -n openldap openldap -o json | jq  -r '.status.loadBalancer.ingress[0].ip')\n",
    "vault write ldap/config \\\n",
    "    binddn=cn=admin,dc=learn,dc=example \\\n",
    "    bindpass=\"Passw0rd123!\" \\\n",
    "    url=ldap://$LDAP_ADDR:389"
   ]
  },
  {
   "cell_type": "code",
   "execution_count": null,
   "id": "616f4df0",
   "metadata": {
    "vscode": {
     "languageId": "shellscript"
    }
   },
   "outputs": [],
   "source": [
    "# Se aconseja rotar el password del usuario\n",
    "vault write -f ldap/rotate-root"
   ]
  },
  {
   "attachments": {},
   "cell_type": "markdown",
   "id": "85cdf01c",
   "metadata": {},
   "source": [
    "## Create a Role (Static Role)"
   ]
  },
  {
   "cell_type": "code",
   "execution_count": null,
   "id": "21f430a7",
   "metadata": {
    "vscode": {
     "languageId": "shellscript"
    }
   },
   "outputs": [],
   "source": [
    "%%bash\n",
    "# Automatic Rotation for static account\n",
    "vault write ldap/static-role/learn \\\n",
    "    dn='cn=serviceaccount,ou=users,dc=learn,dc=example' \\\n",
    "    username='serviceaccount' \\\n",
    "    rotation_period=\"1h\""
   ]
  },
  {
   "attachments": {},
   "cell_type": "markdown",
   "id": "d80b4762",
   "metadata": {},
   "source": [
    "### Request credential via CLI"
   ]
  },
  {
   "cell_type": "code",
   "execution_count": null,
   "id": "5d8c674f",
   "metadata": {
    "vscode": {
     "languageId": "shellscript"
    }
   },
   "outputs": [],
   "source": [
    "! vault read ldap/static-cred/learn"
   ]
  },
  {
   "attachments": {},
   "cell_type": "markdown",
   "id": "f512d06a",
   "metadata": {},
   "source": [
    "### Request credential via API"
   ]
  },
  {
   "cell_type": "code",
   "execution_count": null,
   "id": "f88d11c8",
   "metadata": {
    "vscode": {
     "languageId": "shellscript"
    }
   },
   "outputs": [],
   "source": [
    "! curl -k --header \"X-Vault-Token: $VAULT_TOKEN\" --request GET --silent $VAULT_ADDR/v1/ldap/static-cred/learn | jq . -r"
   ]
  },
  {
   "cell_type": "markdown",
   "id": "72c00d76",
   "metadata": {},
   "source": [
    "> #### Credetials are rotated in a lazy manner, ttl gets reduced, once it comes to 0 with the next request credential are rotated"
   ]
  },
  {
   "cell_type": "code",
   "execution_count": null,
   "id": "6f886d2e",
   "metadata": {
    "vscode": {
     "languageId": "shellscript"
    }
   },
   "outputs": [],
   "source": [
    "! vault read ldap/static-cred/learn"
   ]
  },
  {
   "cell_type": "markdown",
   "id": "3329feaf",
   "metadata": {},
   "source": [
    "### Manual rotation"
   ]
  },
  {
   "cell_type": "code",
   "execution_count": null,
   "id": "599b700d",
   "metadata": {
    "vscode": {
     "languageId": "shellscript"
    }
   },
   "outputs": [],
   "source": [
    "! vault write -f ldap/rotate-role/learn"
   ]
  },
  {
   "cell_type": "code",
   "execution_count": null,
   "id": "6b4b45cf",
   "metadata": {
    "vscode": {
     "languageId": "shellscript"
    }
   },
   "outputs": [],
   "source": [
    "! vault read ldap/static-cred/learn"
   ]
  },
  {
   "attachments": {},
   "cell_type": "markdown",
   "id": "5dace352",
   "metadata": {},
   "source": [
    "## Checking the Static Role account\n",
    "### Connecting to LDAP with the static role password"
   ]
  },
  {
   "cell_type": "code",
   "execution_count": null,
   "id": "d8494015",
   "metadata": {
    "vscode": {
     "languageId": "shellscript"
    }
   },
   "outputs": [],
   "source": [
    "%%bash\n",
    "LDAP_PASSWORD=$(vault read --format=json ldap/static-cred/learn | jq -r \".data.password\")  \n",
    "LDAP_ADDR=$(kubectl get svc -n openldap openldap -o json | jq  -r '.status.loadBalancer.ingress[0].ip')\n",
    "\n",
    "ldapsearch -p 389 -h $LDAP_ADDR -b \"cn=serviceaccount,ou=users,dc=learn,dc=example\" \\\n",
    "    -D 'cn=serviceaccount,ou=users,dc=learn,dc=example' \\\n",
    "    -w $LDAP_PASSWORD"
   ]
  },
  {
   "attachments": {},
   "cell_type": "markdown",
   "id": "6798a488",
   "metadata": {},
   "source": [
    "## Dynamic Credentials"
   ]
  },
  {
   "cell_type": "code",
   "execution_count": null,
   "id": "bad0ab79",
   "metadata": {
    "vscode": {
     "languageId": "shellscript"
    }
   },
   "outputs": [],
   "source": [
    "%%bash\n",
    "cat > ${WORKDIR}/creation.ldif <<EOF\n",
    "dn: uid={{.Username}},ou=users,dc=learn,dc=example\n",
    "objectClass: inetOrgPerson\n",
    "uid: {{.Username}}\n",
    "cn: {{.Username}}\n",
    "sn: {{.Username}}\n",
    "userPassword: {{.Password}}\n",
    "EOF"
   ]
  },
  {
   "cell_type": "code",
   "execution_count": null,
   "id": "f407728e",
   "metadata": {
    "vscode": {
     "languageId": "shellscript"
    }
   },
   "outputs": [],
   "source": [
    "%%bash\n",
    "cat > ${WORKDIR}/deletion_rollback.ldif <<EOF\n",
    "dn: uid={{.Username}},ou=users,dc=learn,dc=example\n",
    "changetype: delete\n",
    "EOF"
   ]
  },
  {
   "cell_type": "code",
   "execution_count": null,
   "id": "b05adb43",
   "metadata": {
    "vscode": {
     "languageId": "shellscript"
    }
   },
   "outputs": [],
   "source": [
    "%%bash\n",
    "# Dynamic Role\n",
    "vault write ldap/role/dynamic \\\n",
    "     creation_ldif=@${WORKDIR}/creation.ldif \\\n",
    "     deletion_ldif=@${WORKDIR}/deletion_rollback.ldif \\\n",
    "     rollback_ldif=@${WORKDIR}/deletion_rollback.ldif \\\n",
    "     default_ttl=1h"
   ]
  },
  {
   "cell_type": "markdown",
   "id": "6bb144b7",
   "metadata": {},
   "source": [
    "### Request dynamic credentials via CLI"
   ]
  },
  {
   "cell_type": "code",
   "execution_count": null,
   "id": "518dd170",
   "metadata": {
    "vscode": {
     "languageId": "shellscript"
    }
   },
   "outputs": [],
   "source": [
    "! vault read ldap/creds/dynamic"
   ]
  },
  {
   "cell_type": "code",
   "execution_count": null,
   "id": "c251b979",
   "metadata": {
    "vscode": {
     "languageId": "shellscript"
    }
   },
   "outputs": [],
   "source": [
    "! curl -k --header \"X-Vault-Token: $VAULT_TOKEN\" --request GET --silent $VAULT_ADDR/v1/ldap/creds/dynamic | jq"
   ]
  },
  {
   "cell_type": "markdown",
   "id": "14460eaa",
   "metadata": {},
   "source": [
    "### Check leases in Vault"
   ]
  },
  {
   "cell_type": "code",
   "execution_count": null,
   "id": "376aeffb",
   "metadata": {
    "vscode": {
     "languageId": "shellscript"
    }
   },
   "outputs": [],
   "source": [
    "! vault list sys/leases/lookup/ldap/creds/dynamic"
   ]
  },
  {
   "attachments": {
    "image-2.png": {
     "image/png": "[encoded data removed]"
    }
   },
   "cell_type": "markdown",
   "id": "67dc2943",
   "metadata": {},
   "source": [
    "### With an LDAP Browser\n",
    "\n",
    "![image-2.png](attachment:image-2.png)"
   ]
  },
  {
   "cell_type": "code",
   "execution_count": null,
   "id": "3269dee9",
   "metadata": {
    "vscode": {
     "languageId": "shellscript"
    }
   },
   "outputs": [],
   "source": [
    "! kubectl get svc -n openldap openldap -o json | jq  -r '.status.loadBalancer.ingress[0].ip'"
   ]
  },
  {
   "cell_type": "markdown",
   "id": "b3e4ba57",
   "metadata": {},
   "source": [
    "### Revoke individual leases"
   ]
  },
  {
   "cell_type": "code",
   "execution_count": null,
   "id": "ed11d797",
   "metadata": {
    "vscode": {
     "languageId": "shellscript"
    }
   },
   "outputs": [],
   "source": [
    "! vault list sys/leases/lookup/ldap/creds/dynamic"
   ]
  },
  {
   "cell_type": "code",
   "execution_count": null,
   "id": "743d5083",
   "metadata": {
    "vscode": {
     "languageId": "shellscript"
    }
   },
   "outputs": [],
   "source": [
    "%%bash\n",
    "export LEASE=$(vault list -format=json sys/leases/lookup/ldap/creds/dynamic | jq -r .[0])\n",
    "vault lease revoke ldap/creds/dynamic/$LEASE"
   ]
  },
  {
   "cell_type": "code",
   "execution_count": null,
   "id": "6b0c02dd",
   "metadata": {
    "vscode": {
     "languageId": "shellscript"
    }
   },
   "outputs": [],
   "source": [
    "! vault list sys/leases/lookup/ldap/creds/dynamic"
   ]
  },
  {
   "cell_type": "markdown",
   "id": "76ad9ce8",
   "metadata": {},
   "source": [
    "### Revoke all"
   ]
  },
  {
   "cell_type": "code",
   "execution_count": null,
   "id": "ba948abf",
   "metadata": {
    "vscode": {
     "languageId": "shellscript"
    }
   },
   "outputs": [],
   "source": [
    "! vault lease revoke -prefix ldap/creds/dynamic"
   ]
  },
  {
   "cell_type": "markdown",
   "id": "b6ca695a",
   "metadata": {},
   "source": [
    "# Clean UP"
   ]
  },
  {
   "cell_type": "code",
   "execution_count": null,
   "id": "02ca0f51",
   "metadata": {
    "vscode": {
     "languageId": "shellscript"
    }
   },
   "outputs": [],
   "source": [
    "%%bash\n",
    "vault lease revoke -prefix ldap/creds/dynamic\n",
    "vault secrets disable ldap"
   ]
  }
 ],
 "metadata": {
  "kernelspec": {
   "display_name": "base",
   "language": "python",
   "name": "python3"
  },
  "language_info": {
   "codemirror_mode": {
    "name": "ipython",
    "version": 3
   },
   "file_extension": ".py",
   "mimetype": "text/x-python",
   "name": "python",
   "nbconvert_exporter": "python",
   "pygments_lexer": "ipython3",
   "version": "3.9.13"
  }
 },
 "nbformat": 4,
 "nbformat_minor": 5
}
