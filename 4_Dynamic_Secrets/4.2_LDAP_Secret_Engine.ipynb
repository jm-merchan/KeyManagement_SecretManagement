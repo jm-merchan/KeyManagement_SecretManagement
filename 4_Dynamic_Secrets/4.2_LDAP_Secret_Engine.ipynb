{
 "cells": [
  {
   "cell_type": "code",
   "execution_count": 1,
   "id": "f5493982",
   "metadata": {},
   "outputs": [
    {
     "name": "stdout",
     "output_type": "stream",
     "text": [
      "env: WORKDIR=/tmp/vault\n"
     ]
    }
   ],
   "source": [
    "%env  WORKDIR=/tmp/vault"
   ]
  },
  {
   "cell_type": "code",
   "execution_count": 2,
   "id": "28a79023",
   "metadata": {},
   "outputs": [
    {
     "name": "stdout",
     "output_type": "stream",
     "text": [
      "hvs.QbtInWOOYqrZJnMrDmcaArKs\n",
      "https://vault-primary-europe-southwest1-jlhb.josemerchan-f986bf.gcp.sbx.hashicorpdemo.com:8200\n"
     ]
    }
   ],
   "source": [
    "%%bash\n",
    "cat $WORKDIR/VAULT_TOKEN.TXT\n",
    "cat $WORKDIR/VAULT_ADDR.TXT"
   ]
  },
  {
   "cell_type": "code",
   "execution_count": 3,
   "id": "2afa9feb",
   "metadata": {},
   "outputs": [
    {
     "name": "stdout",
     "output_type": "stream",
     "text": [
      "env: VAULT_ADDR=https://vault-primary-europe-southwest1-jlhb.josemerchan-f986bf.gcp.sbx.hashicorpdemo.com:8200\n",
      "env: VAULT_TOKEN=hvs.QbtInWOOYqrZJnMrDmcaArKs\n"
     ]
    }
   ],
   "source": [
    "%env VAULT_ADDR=https://vault-primary-europe-southwest1-jlhb.josemerchan-f986bf.gcp.sbx.hashicorpdemo.com:8200\n",
    "%env VAULT_TOKEN=hvs.QbtInWOOYqrZJnMrDmcaArKs"
   ]
  },
  {
   "attachments": {},
   "cell_type": "markdown",
   "id": "f6cf5961",
   "metadata": {},
   "source": [
    "## Enable LDAP Secret Engine"
   ]
  },
  {
   "cell_type": "code",
   "execution_count": 4,
   "id": "debf4ef0",
   "metadata": {},
   "outputs": [
    {
     "name": "stdout",
     "output_type": "stream",
     "text": [
      "Success! Enabled the ldap secrets engine at: ldap/\n"
     ]
    }
   ],
   "source": [
    "%%bash\n",
    "vault secrets enable ldap"
   ]
  },
  {
   "attachments": {},
   "cell_type": "markdown",
   "id": "bf759d95",
   "metadata": {},
   "source": [
    "## Connect to LDAP with username (bindDN) and password"
   ]
  },
  {
   "cell_type": "code",
   "execution_count": 5,
   "id": "811d6df7",
   "metadata": {},
   "outputs": [
    {
     "name": "stdout",
     "output_type": "stream",
     "text": [
      "Success! Data written to: ldap/config\n"
     ]
    }
   ],
   "source": [
    "%%bash\n",
    "export LDAP_ADDR=$(kubectl get svc -n openldap openldap -o json | jq  -r '.status.loadBalancer.ingress[0].ip')\n",
    "vault write ldap/config \\\n",
    "    binddn=cn=admin,dc=learn,dc=example \\\n",
    "    bindpass=\"Passw0rd123!\" \\\n",
    "    url=ldap://$LDAP_ADDR:389\n"
   ]
  },
  {
   "cell_type": "raw",
   "id": "616f4df0",
   "metadata": {
    "vscode": {
     "languageId": "raw"
    }
   },
   "source": [
    "%%bash\n",
    "# Se aconseja rotar el password del usuario\n",
    "vault write -f ldap/rotate-root"
   ]
  },
  {
   "attachments": {},
   "cell_type": "markdown",
   "id": "85cdf01c",
   "metadata": {},
   "source": [
    "## Create a Role (Static Role)"
   ]
  },
  {
   "cell_type": "code",
   "execution_count": 6,
   "id": "21f430a7",
   "metadata": {},
   "outputs": [
    {
     "name": "stdout",
     "output_type": "stream",
     "text": [
      "Success! Data written to: ldap/static-role/learn\n"
     ]
    }
   ],
   "source": [
    "%%bash\n",
    "# Automatic Rotation\n",
    "vault write ldap/static-role/learn \\\n",
    "    dn='cn=serviceaccount,ou=users,dc=learn,dc=example' \\\n",
    "    username='serviceaccount' \\\n",
    "    rotation_period=\"1h\"\n"
   ]
  },
  {
   "attachments": {},
   "cell_type": "markdown",
   "id": "d80b4762",
   "metadata": {},
   "source": [
    "## Request credential via CLI"
   ]
  },
  {
   "cell_type": "code",
   "execution_count": 7,
   "id": "5d8c674f",
   "metadata": {},
   "outputs": [
    {
     "name": "stdout",
     "output_type": "stream",
     "text": [
      "Key                    Value\n",
      "---                    -----\n",
      "dn                     cn=serviceaccount,ou=users,dc=learn,dc=example\n",
      "last_password          n/a\n",
      "last_vault_rotation    2024-11-18T13:51:05.269135616Z\n",
      "password               sJeQ9eYvinodvLMCjDth3novF4qU9Cad1JvlTePTwaw3Q8eU3TNUXFYyEB2VWEMV\n",
      "rotation_period        1h\n",
      "ttl                    59m57s\n",
      "username               serviceaccount\n"
     ]
    }
   ],
   "source": [
    "%%bash\n",
    "vault read ldap/static-cred/learn"
   ]
  },
  {
   "attachments": {},
   "cell_type": "markdown",
   "id": "f512d06a",
   "metadata": {},
   "source": [
    "## Request credential via API"
   ]
  },
  {
   "cell_type": "code",
   "execution_count": 8,
   "id": "f88d11c8",
   "metadata": {},
   "outputs": [
    {
     "name": "stdout",
     "output_type": "stream",
     "text": [
      "{\n",
      "  \"request_id\": \"38aeb478-7450-cf99-20b1-bd7f8018761d\",\n",
      "  \"lease_id\": \"\",\n",
      "  \"renewable\": false,\n",
      "  \"lease_duration\": 0,\n",
      "  \"data\": {\n",
      "    \"dn\": \"cn=serviceaccount,ou=users,dc=learn,dc=example\",\n",
      "    \"last_password\": \"\",\n",
      "    \"last_vault_rotation\": \"2024-11-18T13:51:05.269135616Z\",\n",
      "    \"password\": \"sJeQ9eYvinodvLMCjDth3novF4qU9Cad1JvlTePTwaw3Q8eU3TNUXFYyEB2VWEMV\",\n",
      "    \"rotation_period\": 3600,\n",
      "    \"ttl\": 3577,\n",
      "    \"username\": \"serviceaccount\"\n",
      "  },\n",
      "  \"wrap_info\": null,\n",
      "  \"warnings\": null,\n",
      "  \"auth\": null,\n",
      "  \"mount_type\": \"ldap\"\n",
      "}\n"
     ]
    }
   ],
   "source": [
    "%%bash\n",
    "curl -k \\\n",
    "    --header \"X-Vault-Token: $VAULT_TOKEN\" \\\n",
    "    --request GET \\\n",
    "    --silent \\\n",
    "    $VAULT_ADDR/v1/ldap/static-cred/learn | jq . -r\n"
   ]
  },
  {
   "cell_type": "code",
   "execution_count": 9,
   "id": "6f886d2e",
   "metadata": {},
   "outputs": [
    {
     "name": "stdout",
     "output_type": "stream",
     "text": [
      "Key                    Value\n",
      "---                    -----\n",
      "dn                     cn=serviceaccount,ou=users,dc=learn,dc=example\n",
      "last_password          n/a\n",
      "last_vault_rotation    2024-11-18T13:51:05.269135616Z\n",
      "password               sJeQ9eYvinodvLMCjDth3novF4qU9Cad1JvlTePTwaw3Q8eU3TNUXFYyEB2VWEMV\n",
      "rotation_period        1h\n",
      "ttl                    59m24s\n",
      "username               serviceaccount\n"
     ]
    }
   ],
   "source": [
    "%%bash\n",
    "vault read ldap/static-cred/learn\n",
    "# Credetials are rotated in a lazy manner, ttl gets reduced, once it comes to 0 with the next request credential are rotated"
   ]
  },
  {
   "cell_type": "code",
   "execution_count": 10,
   "id": "599b700d",
   "metadata": {},
   "outputs": [
    {
     "name": "stdout",
     "output_type": "stream",
     "text": [
      "Success! Data written to: ldap/rotate-role/learn\n"
     ]
    }
   ],
   "source": [
    "%%bash\n",
    "# Manual rotation\n",
    "vault write -f ldap/rotate-role/learn"
   ]
  },
  {
   "cell_type": "code",
   "execution_count": 11,
   "id": "6b4b45cf",
   "metadata": {},
   "outputs": [
    {
     "name": "stdout",
     "output_type": "stream",
     "text": [
      "Key                    Value\n",
      "---                    -----\n",
      "dn                     cn=serviceaccount,ou=users,dc=learn,dc=example\n",
      "last_password          sJeQ9eYvinodvLMCjDth3novF4qU9Cad1JvlTePTwaw3Q8eU3TNUXFYyEB2VWEMV\n",
      "last_vault_rotation    2024-11-18T13:51:46.713455451Z\n",
      "password               3oUCjAfeJjJ5TeTKdg2LkoEGwO3NkK4nlWaObEC8RR7cM212Po6jH3ssf0T7gl8z\n",
      "rotation_period        1h\n",
      "ttl                    59m57s\n",
      "username               serviceaccount\n"
     ]
    }
   ],
   "source": [
    "%%bash\n",
    "vault read ldap/static-cred/learn\n",
    "# Credetials are rotated in a lazy manner, ttl gets reduced, once it comes to 0 with the next request credential are rotated"
   ]
  },
  {
   "attachments": {},
   "cell_type": "markdown",
   "id": "5dace352",
   "metadata": {},
   "source": [
    "## Connecting to LDAP with the static role password"
   ]
  },
  {
   "cell_type": "code",
   "execution_count": 12,
   "id": "d8494015",
   "metadata": {},
   "outputs": [
    {
     "name": "stdout",
     "output_type": "stream",
     "text": [
      "# extended LDIF\n",
      "#\n",
      "# LDAPv3\n",
      "# base <cn=serviceaccount,ou=users,dc=learn,dc=example> with scope subtree\n",
      "# filter: (objectclass=*)\n",
      "# requesting: ALL\n",
      "#\n",
      "\n",
      "# serviceaccount, users, learn.example\n",
      "dn: cn=serviceaccount,ou=users,dc=learn,dc=example\n",
      "objectClass: person\n",
      "objectClass: top\n",
      "sn: serviceaccount\n",
      "cn: serviceaccount\n",
      "userPassword:: M29VQ2pBZmVKako1VGVUS2RnMkxrb0VHd08zTmtLNG5sV2FPYkVDOFJSN2NNMjE\n",
      " yUG82akgzc3NmMFQ3Z2w4eg==\n",
      "\n",
      "# search result\n",
      "search: 2\n",
      "result: 0 Success\n",
      "\n",
      "# numResponses: 2\n",
      "# numEntries: 1\n"
     ]
    }
   ],
   "source": [
    "%%bash\n",
    "LDAP_PASSWORD=$(vault read --format=json ldap/static-cred/learn | jq -r \".data.password\")  \n",
    "LDAP_ADDR=$(kubectl get svc -n openldap openldap -o json | jq  -r '.status.loadBalancer.ingress[0].ip')\n",
    "\n",
    "ldapsearch -p 389 -h $LDAP_ADDR -b \"cn=serviceaccount,ou=users,dc=learn,dc=example\" \\\n",
    "    -D 'cn=serviceaccount,ou=users,dc=learn,dc=example' \\\n",
    "    -w $LDAP_PASSWORD"
   ]
  },
  {
   "attachments": {},
   "cell_type": "markdown",
   "id": "6798a488",
   "metadata": {},
   "source": [
    "## Dynamic Credentials"
   ]
  },
  {
   "cell_type": "code",
   "execution_count": 13,
   "id": "bad0ab79",
   "metadata": {},
   "outputs": [],
   "source": [
    "%%bash\n",
    "cat > ${WORKDIR}/creation.ldif <<EOF\n",
    "dn: uid={{.Username}},ou=users,dc=learn,dc=example\n",
    "objectClass: inetOrgPerson\n",
    "uid: {{.Username}}\n",
    "cn: {{.Username}}\n",
    "sn: {{.Username}}\n",
    "userPassword: {{.Password}}\n",
    "EOF"
   ]
  },
  {
   "cell_type": "code",
   "execution_count": 14,
   "id": "f407728e",
   "metadata": {},
   "outputs": [],
   "source": [
    "%%bash\n",
    "cat > ${WORKDIR}/deletion_rollback.ldif <<EOF\n",
    "dn: uid={{.Username}},ou=users,dc=learn,dc=example\n",
    "changetype: delete\n",
    "EOF"
   ]
  },
  {
   "cell_type": "code",
   "execution_count": 15,
   "id": "b05adb43",
   "metadata": {},
   "outputs": [
    {
     "name": "stdout",
     "output_type": "stream",
     "text": [
      "Success! Data written to: ldap/role/dynamic\n"
     ]
    }
   ],
   "source": [
    "%%bash\n",
    "# Dynamic Role\n",
    "vault write ldap/role/dynamic \\\n",
    "     creation_ldif=@${WORKDIR}/creation.ldif \\\n",
    "     deletion_ldif=@${WORKDIR}/deletion_rollback.ldif \\\n",
    "     rollback_ldif=@${WORKDIR}/deletion_rollback.ldif \\\n",
    "     default_ttl=1h"
   ]
  },
  {
   "cell_type": "code",
   "execution_count": 16,
   "id": "518dd170",
   "metadata": {},
   "outputs": [
    {
     "name": "stdout",
     "output_type": "stream",
     "text": [
      "Key                    Value\n",
      "---                    -----\n",
      "lease_id               ldap/creds/dynamic/nqhfl5YUqeU1EpOQuMpsekJC\n",
      "lease_duration         1h\n",
      "lease_renewable        true\n",
      "distinguished_names    [uid=v_root_dynamic_t6EP8d7GEC_1731937958,ou=users,dc=learn,dc=example]\n",
      "password               KRtc5kNNm9ugMHfUekNIX42C08jhN663itsNmXgFf1UbZ5bcrVUmYuJh6PDm7gy3\n",
      "username               v_root_dynamic_t6EP8d7GEC_1731937958\n"
     ]
    }
   ],
   "source": [
    "%%bash\n",
    "vault read ldap/creds/dynamic"
   ]
  },
  {
   "cell_type": "code",
   "execution_count": 17,
   "id": "c251b979",
   "metadata": {},
   "outputs": [
    {
     "name": "stdout",
     "output_type": "stream",
     "text": [
      "{\n",
      "  \"request_id\": \"8ba1fa4e-93db-ad8f-25d5-dc6daea9e8ba\",\n",
      "  \"lease_id\": \"ldap/creds/dynamic/9lIwYRIDhPbft3GzM2winpTj\",\n",
      "  \"renewable\": true,\n",
      "  \"lease_duration\": 3600,\n",
      "  \"data\": {\n",
      "    \"distinguished_names\": [\n",
      "      \"uid=v_root_dynamic_d1ZN7DF7Fk_1731938026,ou=users,dc=learn,dc=example\"\n",
      "    ],\n",
      "    \"password\": \"89R2Tj7j0ceB8i9bqgoHsKUj7oDWSzFmbwobNJXMGUB60yPP7p9i1EIu4hm8ypUJ\",\n",
      "    \"username\": \"v_root_dynamic_d1ZN7DF7Fk_1731938026\"\n",
      "  },\n",
      "  \"wrap_info\": null,\n",
      "  \"warnings\": null,\n",
      "  \"auth\": null,\n",
      "  \"mount_type\": \"ldap\"\n",
      "}\n"
     ]
    }
   ],
   "source": [
    "%%bash\n",
    "curl -k --header \"X-Vault-Token: $VAULT_TOKEN\" --request GET --silent $VAULT_ADDR/v1/ldap/creds/dynamic | jq"
   ]
  },
  {
   "cell_type": "code",
   "execution_count": 18,
   "id": "2d0620f5",
   "metadata": {},
   "outputs": [
    {
     "name": "stdout",
     "output_type": "stream",
     "text": [
      "{\n",
      "  \"request_id\": \"4e025d36-cebc-e3c0-398e-b5d4808e81e3\",\n",
      "  \"lease_id\": \"ldap/creds/dynamic/isOZuIrUrzJcOhH50hlT3ADs\",\n",
      "  \"renewable\": true,\n",
      "  \"lease_duration\": 3600,\n",
      "  \"data\": {\n",
      "    \"distinguished_names\": [\n",
      "      \"uid=v_root_dynamic_aOk86ZS5Qa_1731938031,ou=users,dc=learn,dc=example\"\n",
      "    ],\n",
      "    \"password\": \"0y2JJcmiv1yxWpMCxzBAbrDyDM4RN3rNpGQtbiMd1n7O7OdfNYeNT20KFCl3UhVR\",\n",
      "    \"username\": \"v_root_dynamic_aOk86ZS5Qa_1731938031\"\n",
      "  },\n",
      "  \"wrap_info\": null,\n",
      "  \"warnings\": null,\n",
      "  \"auth\": null,\n",
      "  \"mount_type\": \"ldap\"\n",
      "}\n"
     ]
    }
   ],
   "source": [
    "%%bash\n",
    "curl -k \\\n",
    "    --header \"X-Vault-Token: $VAULT_TOKEN\" \\\n",
    "    --request GET \\\n",
    "    --silent \\\n",
    "    $VAULT_ADDR/v1/ldap/creds/dynamic \\\n",
    "    | jq . -r"
   ]
  },
  {
   "attachments": {
    "image.png": {
     "image/png": "[encoded data removed]"
    }
   },
   "cell_type": "markdown",
   "id": "67dc2943",
   "metadata": {},
   "source": [
    "## Lista de cuentas dinámicas creadas\n",
    "\n",
    "![image.png](attachment:image.png)"
   ]
  },
  {
   "cell_type": "code",
   "execution_count": 19,
   "id": "3269dee9",
   "metadata": {},
   "outputs": [
    {
     "name": "stdout",
     "output_type": "stream",
     "text": [
      "Keys\n",
      "----\n",
      "9lIwYRIDhPbft3GzM2winpTj\n",
      "isOZuIrUrzJcOhH50hlT3ADs\n",
      "nqhfl5YUqeU1EpOQuMpsekJC\n"
     ]
    }
   ],
   "source": [
    "%%bash\n",
    "## Check leases in Vault\n",
    "vault list sys/leases/lookup/ldap/creds/dynamic"
   ]
  },
  {
   "cell_type": "code",
   "execution_count": 20,
   "id": "743d5083",
   "metadata": {},
   "outputs": [
    {
     "name": "stdout",
     "output_type": "stream",
     "text": [
      "All revocation operations queued successfully!\n",
      "Keys\n",
      "----\n",
      "isOZuIrUrzJcOhH50hlT3ADs\n",
      "nqhfl5YUqeU1EpOQuMpsekJC\n"
     ]
    }
   ],
   "source": [
    "%%bash\n",
    "## Revoke individual token\n",
    "vault lease revoke ldap/creds/dynamic/\\\n",
    "$(vault list -format=json sys/leases/lookup/ldap/creds/dynamic | jq -r .[0])\n",
    "vault list sys/leases/lookup/ldap/creds/dynamic"
   ]
  },
  {
   "cell_type": "code",
   "execution_count": 21,
   "id": "ba948abf",
   "metadata": {},
   "outputs": [
    {
     "name": "stdout",
     "output_type": "stream",
     "text": [
      "All revocation operations queued successfully!\n"
     ]
    }
   ],
   "source": [
    "%%bash\n",
    "## Elimino todas las cuentas creadas\n",
    "vault lease revoke -prefix ldap/creds/dynamic"
   ]
  }
 ],
 "metadata": {
  "kernelspec": {
   "display_name": "base",
   "language": "python",
   "name": "python3"
  },
  "language_info": {
   "codemirror_mode": {
    "name": "ipython",
    "version": 3
   },
   "file_extension": ".py",
   "mimetype": "text/x-python",
   "name": "python",
   "nbconvert_exporter": "python",
   "pygments_lexer": "ipython3",
   "version": "3.9.13"
  }
 },
 "nbformat": 4,
 "nbformat_minor": 5
}
