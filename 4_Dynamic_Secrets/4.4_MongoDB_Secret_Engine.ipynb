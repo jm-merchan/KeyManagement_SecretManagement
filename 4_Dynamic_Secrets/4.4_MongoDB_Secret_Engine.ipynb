{
 "cells": [
  {
   "cell_type": "code",
   "execution_count": null,
   "metadata": {},
   "outputs": [],
   "source": [
    "%env  WORKDIR=/tmp/vault"
   ]
  },
  {
   "cell_type": "code",
   "execution_count": null,
   "metadata": {},
   "outputs": [],
   "source": [
    "%%bash\n",
    "cat $WORKDIR/VAULT_TOKEN.TXT\n",
    "cat $WORKDIR/VAULT_ADDR.TXT"
   ]
  },
  {
   "cell_type": "markdown",
   "metadata": {},
   "source": [
    "Update the values of the enviromental values of the following cells based on the output of the previous cell"
   ]
  },
  {
   "cell_type": "code",
   "execution_count": null,
   "metadata": {},
   "outputs": [],
   "source": [
    "%env VAULT_ADDR=https://vault-primary-europe-southwest1-jlhb.josemerchan-f986bf.gcp.sbx.hashicorpdemo.com:8200\n",
    "%env VAULT_TOKEN=hvs.QbtInWOOYqrZJnMrDmcaArKs"
   ]
  },
  {
   "cell_type": "markdown",
   "metadata": {},
   "source": [
    "## Step 1. Install MongoDB"
   ]
  },
  {
   "cell_type": "code",
   "execution_count": null,
   "metadata": {},
   "outputs": [],
   "source": [
    "! kubectl apply -f mongodb_deploy.yaml"
   ]
  },
  {
   "cell_type": "markdown",
   "metadata": {},
   "source": [
    "# Step 2. Configure Vault"
   ]
  },
  {
   "cell_type": "code",
   "execution_count": null,
   "metadata": {
    "vscode": {
     "languageId": "shellscript"
    }
   },
   "outputs": [],
   "source": [
    "# Enable Secret Engine\n",
    "! vault secrets enable -path=mongodb database"
   ]
  },
  {
   "cell_type": "code",
   "execution_count": null,
   "metadata": {
    "vscode": {
     "languageId": "shellscript"
    }
   },
   "outputs": [],
   "source": [
    "%%bash\n",
    "export MONGO_ADDR=$(kubectl get svc -n mongodb mongodb -o json | jq  -r '.status.loadBalancer.ingress[0].ip')\n",
    "\n",
    "# Create Connection\n",
    "vault write mongodb/config/mongodb \\\n",
    "    plugin_name=mongodb-database-plugin \\\n",
    "    allowed_roles=\"*\"  connection_url=\"mongodb://{{username}}:{{password}}@${MONGO_ADDR}:27017/admin?tls=false\" \\\n",
    "    username=\"mdbadmin\" \\\n",
    "    password=\"Passw0rd123!\""
   ]
  },
  {
   "cell_type": "code",
   "execution_count": null,
   "metadata": {
    "vscode": {
     "languageId": "shellscript"
    }
   },
   "outputs": [],
   "source": [
    "%%bash\n",
    "# Create Role\n",
    "vault write mongodb/roles/mongo-test \\\n",
    "    db_name=mongodb \\\n",
    "    creation_statements='{ \"db\": \"admin\", \"roles\": [{ \"role\": \"readWrite\" }, {\"role\": \"read\", \"db\": \"foo\"}] }' \\\n",
    "    default_ttl=\"1h\" \\\n",
    "    max_ttl=\"24h\"\n",
    "\n"
   ]
  },
  {
   "cell_type": "code",
   "execution_count": null,
   "metadata": {
    "vscode": {
     "languageId": "shellscript"
    }
   },
   "outputs": [],
   "source": [
    "# Create Creds\n",
    "! vault read mongodb/creds/mongo-test"
   ]
  },
  {
   "cell_type": "markdown",
   "metadata": {},
   "source": [
    "# Clean UP"
   ]
  },
  {
   "cell_type": "code",
   "execution_count": null,
   "metadata": {
    "vscode": {
     "languageId": "shellscript"
    }
   },
   "outputs": [],
   "source": [
    "%%bash\n",
    "vault lease revoke -prefix mongodb/creds/*\n",
    "vault secrets disable mongodb\n",
    "kubectl delete -f mongodb_deploy.yaml\n"
   ]
  }
 ],
 "metadata": {
  "kernelspec": {
   "display_name": "base",
   "language": "python",
   "name": "python3"
  },
  "language_info": {
   "codemirror_mode": {
    "name": "ipython",
    "version": 3
   },
   "file_extension": ".py",
   "mimetype": "text/x-python",
   "name": "python",
   "nbconvert_exporter": "python",
   "pygments_lexer": "ipython3",
   "version": "3.9.13"
  }
 },
 "nbformat": 4,
 "nbformat_minor": 2
}
