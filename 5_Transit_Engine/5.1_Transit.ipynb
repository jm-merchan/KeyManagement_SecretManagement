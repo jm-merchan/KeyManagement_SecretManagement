{
 "cells": [
  {
   "attachments": {},
   "cell_type": "markdown",
   "id": "01ea1d92",
   "metadata": {},
   "source": [
    "# [Transit Engine](https://developer.hashicorp.com/vault/api-docs/secret/transit)"
   ]
  },
  {
   "cell_type": "code",
   "execution_count": null,
   "id": "c2395ce4",
   "metadata": {
    "vscode": {
     "languageId": "shellscript"
    }
   },
   "outputs": [],
   "source": [
    "%env  WORKDIR=/tmp/vault    "
   ]
  },
  {
   "cell_type": "code",
   "execution_count": null,
   "id": "3655b2b5",
   "metadata": {
    "vscode": {
     "languageId": "shellscript"
    }
   },
   "outputs": [],
   "source": [
    "%%bash\n",
    "cat $WORKDIR/VAULT_TOKEN.TXT\n",
    "cat $WORKDIR/VAULT_ADDR.TXT"
   ]
  },
  {
   "cell_type": "code",
   "execution_count": null,
   "id": "1757833c",
   "metadata": {
    "vscode": {
     "languageId": "shellscript"
    }
   },
   "outputs": [],
   "source": [
    "%env VAULT_ADDR=https://vault-primary-europe-southwest1-p5fh.josemerchan-313707.gcp.sbx.hashicorpdemo.com:8200\n",
    "%env VAULT_TOKEN=hvs.GqTsfXwqgl0bK86WbGIfCBZz"
   ]
  },
  {
   "cell_type": "markdown",
   "id": "9afe5505",
   "metadata": {},
   "source": [
    "## Enable Transit Engine"
   ]
  },
  {
   "cell_type": "code",
   "execution_count": null,
   "id": "9671d4c4",
   "metadata": {
    "vscode": {
     "languageId": "shellscript"
    }
   },
   "outputs": [],
   "source": [
    "! vault secrets enable transit"
   ]
  },
  {
   "cell_type": "markdown",
   "id": "a1964938",
   "metadata": {},
   "source": [
    "## Encryption"
   ]
  },
  {
   "cell_type": "markdown",
   "id": "92c144a4",
   "metadata": {},
   "source": [
    "### Create keys for encryption"
   ]
  },
  {
   "cell_type": "code",
   "execution_count": null,
   "id": "f026bacc",
   "metadata": {
    "vscode": {
     "languageId": "shellscript"
    }
   },
   "outputs": [],
   "source": [
    "! vault write -f transit/keys/orders\n",
    "# Tipos de kes soportados: https://developer.hashicorp.com/vault/api-docs/secret/transit#type"
   ]
  },
  {
   "cell_type": "markdown",
   "id": "3fa2acb9",
   "metadata": {},
   "source": [
    "### Encrypt/Decrypt"
   ]
  },
  {
   "cell_type": "code",
   "execution_count": null,
   "id": "bf696a85",
   "metadata": {
    "vscode": {
     "languageId": "shellscript"
    }
   },
   "outputs": [],
   "source": [
    "%%bash\n",
    "# ENCRYPT\n",
    "vault write transit/encrypt/orders plaintext=$(base64 <<< \"4111 1111 1111 1111\") -format=json | jq -r .data.ciphertext\n",
    "\n",
    "export CIPHERTEXT=$(vault write transit/encrypt/orders plaintext=$(base64 <<< \"4111 1111 1111 1111\") -format=json | jq -r .data.ciphertext)\n",
    "\n",
    "# DECRYPT\n",
    "vault write transit/decrypt/orders ciphertext=$CIPHERTEXT -format=json | jq -r .data.plaintext | base64 -d\n"
   ]
  },
  {
   "cell_type": "markdown",
   "id": "1374106a",
   "metadata": {},
   "source": [
    "## Signing"
   ]
  },
  {
   "cell_type": "markdown",
   "id": "943cb886",
   "metadata": {},
   "source": [
    "### Create keys"
   ]
  },
  {
   "cell_type": "code",
   "execution_count": null,
   "id": "210f9525",
   "metadata": {
    "vscode": {
     "languageId": "shellscript"
    }
   },
   "outputs": [],
   "source": [
    "! vault write -f  transit/keys/signature type=rsa-4096"
   ]
  },
  {
   "cell_type": "code",
   "execution_count": null,
   "id": "664ded5e",
   "metadata": {
    "vscode": {
     "languageId": "shellscript"
    }
   },
   "outputs": [],
   "source": [
    "%%bash\n",
    "INPUT=$(echo -n \"un string no muy largo\" | base64)\n",
    "# Operación de firma\n",
    "SIGNATURE=$(vault write -format=json transit/sign/signature input=$INPUT hash_algorithm=sha2-256 -format=json | jq -r .data.signature)\n",
    "echo $SIGNATURE\n",
    "\n",
    "# Verificación de firma\n",
    "vault write transit/verify/signature input=$INPUT signature=$SIGNATURE  hash_algorithm=sha2-256"
   ]
  },
  {
   "cell_type": "markdown",
   "id": "253a0e6f",
   "metadata": {},
   "source": [
    "## HMAC"
   ]
  },
  {
   "cell_type": "markdown",
   "id": "94428665",
   "metadata": {},
   "source": [
    "### Create keys"
   ]
  },
  {
   "cell_type": "code",
   "execution_count": null,
   "id": "3d341ea1",
   "metadata": {
    "vscode": {
     "languageId": "shellscript"
    }
   },
   "outputs": [],
   "source": [
    "! vault write -f  transit/keys/hmacker type=hmac key_size=512"
   ]
  },
  {
   "cell_type": "code",
   "execution_count": null,
   "id": "9b500b1b",
   "metadata": {
    "vscode": {
     "languageId": "shellscript"
    }
   },
   "outputs": [],
   "source": [
    "%%bash\n",
    "INPUT=$(echo -n \"otro string largo, pero que muy largo...... ... .. \" | base64)\n",
    "# Operación de hmac\n",
    "HMAC=$(vault write -format=\"json\" transit/hmac/hmacker algorithm=\"sha2-512\" input=$INPUT  | jq -r .data.hmac)\n",
    "echo $HMAC\n",
    "\n",
    "# Verificación de hmac\n",
    "vault write transit/verify/hmacker input=$INPUT algorithm=\"sha2-512\" hmac=$HMAC"
   ]
  },
  {
   "cell_type": "markdown",
   "id": "d34305ea",
   "metadata": {},
   "source": [
    "## HASH"
   ]
  },
  {
   "cell_type": "code",
   "execution_count": null,
   "id": "b9dacd85",
   "metadata": {
    "vscode": {
     "languageId": "shellscript"
    }
   },
   "outputs": [],
   "source": [
    "%%bash\n",
    "INPUT=$( echo -n \"otro string largo pero que muy largo 32323232323\" | base64)\n",
    "# Operación de hash\n",
    "HASH=$(vault write -format=json transit/hash input=$INPUT algorithm=sha3-512 format=base64 -format=json | jq -r .data.sum)\n",
    "echo $HASH"
   ]
  },
  {
   "cell_type": "markdown",
   "id": "5dd1a8f0",
   "metadata": {},
   "source": [
    "# Clean UP"
   ]
  },
  {
   "cell_type": "code",
   "execution_count": null,
   "id": "e8a63f2e",
   "metadata": {
    "vscode": {
     "languageId": "shellscript"
    }
   },
   "outputs": [],
   "source": [
    "! vault secrets disable transit"
   ]
  }
 ],
 "metadata": {
  "kernelspec": {
   "display_name": "base",
   "language": "python",
   "name": "python3"
  },
  "language_info": {
   "codemirror_mode": {
    "name": "ipython",
    "version": 3
   },
   "file_extension": ".py",
   "mimetype": "text/x-python",
   "name": "python",
   "nbconvert_exporter": "python",
   "pygments_lexer": "ipython3",
   "version": "3.9.13"
  }
 },
 "nbformat": 4,
 "nbformat_minor": 5
}
