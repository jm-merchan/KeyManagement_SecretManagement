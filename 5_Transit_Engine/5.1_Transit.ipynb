{
 "cells": [
  {
   "attachments": {},
   "cell_type": "markdown",
   "id": "01ea1d92",
   "metadata": {},
   "source": [
    "# [Transit Engine](https://developer.hashicorp.com/vault/api-docs/secret/transit)"
   ]
  },
  {
   "cell_type": "code",
   "execution_count": 1,
   "id": "c2395ce4",
   "metadata": {},
   "outputs": [
    {
     "name": "stdout",
     "output_type": "stream",
     "text": [
      "env: WORKDIR=/tmp/vault\n"
     ]
    }
   ],
   "source": [
    "%env  WORKDIR=/tmp/vault    "
   ]
  },
  {
   "cell_type": "code",
   "execution_count": 2,
   "id": "3655b2b5",
   "metadata": {},
   "outputs": [
    {
     "name": "stdout",
     "output_type": "stream",
     "text": [
      "hvs.QbtInWOOYqrZJnMrDmcaArKs\n",
      "https://vault-primary-europe-southwest1-jlhb.josemerchan-f986bf.gcp.sbx.hashicorpdemo.com:8200\n"
     ]
    }
   ],
   "source": [
    "%%bash\n",
    "cat $WORKDIR/VAULT_TOKEN.TXT\n",
    "cat $WORKDIR/VAULT_ADDR.TXT"
   ]
  },
  {
   "cell_type": "code",
   "execution_count": 3,
   "id": "1757833c",
   "metadata": {},
   "outputs": [
    {
     "name": "stdout",
     "output_type": "stream",
     "text": [
      "env: VAULT_ADDR=https://vault-primary-europe-southwest1-jlhb.josemerchan-f986bf.gcp.sbx.hashicorpdemo.com:8200\n",
      "env: VAULT_TOKEN=hvs.QbtInWOOYqrZJnMrDmcaArKs\n"
     ]
    }
   ],
   "source": [
    "%env VAULT_ADDR=https://vault-primary-europe-southwest1-jlhb.josemerchan-f986bf.gcp.sbx.hashicorpdemo.com:8200\n",
    "%env VAULT_TOKEN=hvs.QbtInWOOYqrZJnMrDmcaArKs"
   ]
  },
  {
   "cell_type": "code",
   "execution_count": 4,
   "id": "f3e86ddc",
   "metadata": {},
   "outputs": [
    {
     "name": "stdout",
     "output_type": "stream",
     "text": [
      "Path          Plugin       Accessor              Default TTL    Max TTL    Force No Cache    Replication    Seal Wrap    External Entropy Access    Options           Description                                                UUID                                    Version    Running Version          Running SHA256    Deprecation Status\n",
      "----          ------       --------              -----------    -------    --------------    -----------    ---------    -----------------------    -------           -----------                                                ----                                    -------    ---------------          --------------    ------------------\n",
      "cubbyhole/    cubbyhole    cubbyhole_9ca6d24d    n/a            n/a        false             local          false        false                      map[]             per-token private secret storage                           4951a408-65bd-0832-e327-453178964d39    n/a        v1.18.1+builtin.vault    n/a               n/a\n",
      "database/     database     database_4065e604     system         system     false             local          false        false                      map[]             n/a                                                        0d88b39d-10db-4d9f-0535-f0fad5398f7d    n/a        v1.18.1+builtin.vault    n/a               n/a\n",
      "identity/     identity     identity_020fb4c3     system         system     false             replicated     false        false                      map[]             identity store                                             e2c5d17f-8c3b-0968-b82b-d28af3364b17    n/a        v1.18.1+builtin.vault    n/a               n/a\n",
      "kvv2/         kv           kv_2acba1f0           system         system     false             replicated     false        false                      map[version:2]    n/a                                                        50e0ee8c-8f1e-4f53-e2c3-fa17e67802ac    n/a        v0.20.0+builtin          n/a               supported\n",
      "ldap/         ldap         ldap_7ab2e8d1         system         system     false             replicated     false        false                      map[]             n/a                                                        efda5bad-0e04-f0cf-d0d4-ddb5d1af2afa    n/a        v1.18.1+builtin.vault    n/a               supported\n",
      "secret/       kv           kv_5ba2e83c           system         system     false             replicated     false        false                      map[version:2]    n/a                                                        75ba8086-48f5-b90b-6fcd-00dc89f17009    n/a        v0.20.0+builtin          n/a               supported\n",
      "staticv2/     kv           kv_2a0aef65           system         system     false             replicated     false        false                      map[version:2]    KV Version 2 secret engine mount                           29185cfc-26e9-9b3e-a41b-ca5ada8bc312    n/a        v0.20.0+builtin          n/a               supported\n",
      "sys/          system       system_b0e7e8dd       n/a            n/a        false             replicated     true         false                      map[]             system endpoints used for control, policy and debugging    5bc76cee-ec4c-fd8a-79ce-16708978d535    n/a        v1.18.1+builtin.vault    n/a               n/a\n"
     ]
    }
   ],
   "source": [
    "%%bash\n",
    "vault secrets list -detailed"
   ]
  },
  {
   "cell_type": "code",
   "execution_count": 5,
   "id": "9671d4c4",
   "metadata": {},
   "outputs": [
    {
     "name": "stdout",
     "output_type": "stream",
     "text": [
      "Success! Enabled the transit secrets engine at: transit/\n"
     ]
    }
   ],
   "source": [
    "%%bash\n",
    "# Enable Transit\n",
    "vault secrets enable transit"
   ]
  },
  {
   "cell_type": "markdown",
   "id": "a1964938",
   "metadata": {},
   "source": [
    "## Encryption"
   ]
  },
  {
   "cell_type": "code",
   "execution_count": 6,
   "id": "f026bacc",
   "metadata": {},
   "outputs": [
    {
     "name": "stdout",
     "output_type": "stream",
     "text": [
      "Key                       Value\n",
      "---                       -----\n",
      "allow_plaintext_backup    false\n",
      "auto_rotate_period        0s\n",
      "deletion_allowed          false\n",
      "derived                   false\n",
      "exportable                false\n",
      "imported_key              false\n",
      "keys                      map[1:1731938662]\n",
      "latest_version            1\n",
      "min_available_version     0\n",
      "min_decryption_version    1\n",
      "min_encryption_version    0\n",
      "name                      orders\n",
      "supports_decryption       true\n",
      "supports_derivation       true\n",
      "supports_encryption       true\n",
      "supports_signing          false\n",
      "type                      aes256-gcm96\n"
     ]
    }
   ],
   "source": [
    "%%bash\n",
    "# Tipos de kes soportados: https://developer.hashicorp.com/vault/api-docs/secret/transit#type\n",
    "vault write -f transit/keys/orders"
   ]
  },
  {
   "cell_type": "code",
   "execution_count": 7,
   "id": "bf696a85",
   "metadata": {},
   "outputs": [
    {
     "name": "stdout",
     "output_type": "stream",
     "text": [
      "vault:v1:oHd+WuM9s7mWWnfWfl+ph/VfNDBiSFN39GbaE6Cfw+9F8/kr9nNru9cYE54LpAF2\n",
      "4111 1111 1111 1111\n"
     ]
    }
   ],
   "source": [
    "%%bash\n",
    "# ENCRYPT\n",
    "vault write transit/encrypt/orders plaintext=$(base64 <<< \"4111 1111 1111 1111\") -format=json | jq -r .data.ciphertext\n",
    "\n",
    "export CIPHERTEXT=$(vault write transit/encrypt/orders plaintext=$(base64 <<< \"4111 1111 1111 1111\") -format=json | jq -r .data.ciphertext)\n",
    "\n",
    "# DECRYPT\n",
    "vault write transit/decrypt/orders ciphertext=$CIPHERTEXT -format=json | jq -r .data.plaintext | base64 -d\n"
   ]
  },
  {
   "cell_type": "markdown",
   "id": "1374106a",
   "metadata": {},
   "source": [
    "## Sign"
   ]
  },
  {
   "cell_type": "code",
   "execution_count": 8,
   "id": "210f9525",
   "metadata": {},
   "outputs": [
    {
     "name": "stdout",
     "output_type": "stream",
     "text": [
      "Key                       Value\n",
      "---                       -----\n",
      "allow_plaintext_backup    false\n",
      "auto_rotate_period        0s\n",
      "deletion_allowed          false\n",
      "derived                   false\n",
      "exportable                false\n",
      "imported_key              false\n",
      "keys                      map[1:map[certificate_chain: creation_time:2024-11-18T14:05:23.014923344Z name:rsa-4096 public_key:-----BEGIN PUBLIC KEY-----\n",
      "MIICIjANBgkqhkiG9w0BAQEFAAOCAg8AMIICCgKCAgEAyd7Mi5uz0DQcOKOV2KFI\n",
      "V2BheHZfujWzHd5lrirG5VamxKgQfJCYupeENfUKDWadreWbyESq80umVlDRkNEI\n",
      "8+PHyTrbPWLpmCs/FI1FwnwtPb3tyUZv+G3tdzrGg7L6kjdAwS0df5KpEy1eQEMa\n",
      "A+Qn3DUyw1m62TvHXgafx/wrR5tGG4QczrrMS8YpLAPBLI7llFo0mIB9wU2qSgnA\n",
      "ffdPGR1zJQ8xmzvR7xVZyXqxErD+sAXOAJ1ez5jergVEQJ9PQHO2rQ8G0F0Y4g/4\n",
      "fSSwYg9KYvXL1/zvAzt1tv5CREpi8g/kmrayDUneSG3Ee/8a3n3m+Wg39OlUK9Br\n",
      "+vPQrtZzSDbI1RQQlFF4nG49RTxnCTr8hmQPivfObJn6Uni5ED5nGh19wWrH0ohl\n",
      "U7k888aYHRVySWjoiU98SsBCVYIU4g65Rxrzfv8QhNo1pyIOPwkUmNr3IMYTqEnI\n",
      "JYlAtUjJOhrqpMFkzrU/a1c6y2pP9GrFeHFVn+7mOdegZsLZjNVvm8RCr01QZkNY\n",
      "DtdNFD0lFfBgRPpscbLGs0m+UWgvrRH7Lty6RBoQtJICNDcPcVH4ZcpUvZJr3SDa\n",
      "Yt+ZyCvZ8ANQBDKnUfwTVGY3S84ud5XUQceviS2i+ivTz+OYkIlsaHStXajuvHqe\n",
      "zqASahRqX49gmQ3MCASnbt0CAwEAAQ==\n",
      "-----END PUBLIC KEY-----\n",
      "]]\n",
      "latest_version            1\n",
      "min_available_version     0\n",
      "min_decryption_version    1\n",
      "min_encryption_version    0\n",
      "name                      signature\n",
      "supports_decryption       true\n",
      "supports_derivation       false\n",
      "supports_encryption       true\n",
      "supports_signing          true\n",
      "type                      rsa-4096\n"
     ]
    }
   ],
   "source": [
    "%%bash\n",
    "vault write -f  transit/keys/signature type=rsa-4096"
   ]
  },
  {
   "cell_type": "code",
   "execution_count": 9,
   "id": "664ded5e",
   "metadata": {},
   "outputs": [
    {
     "name": "stdout",
     "output_type": "stream",
     "text": [
      "vault:v1:bEyZd4Y4JGGXFu82QJHsM3o2KsrNsIkUc8//Yu1ud027ZQkzAMsc9O6W1i47talHcaKOm9ZKfdkbVmSFScabN3kK/HeHCmqwjOGwhq3NN2F0rQevZuOZ2lEYwUH9UmEoSEwmXfBU63AiXEaUpSggULu10yGzY33c5W0DFpwKgrOE70bF7gXlHTxPO8uXn6pRnX+NMZ2PFfP3G6P0VtGrhcZ2LnPOplYWyEqKOIxrPUm7gtFY4axMCsrXHzUYwrS1m0PTT2aFnOohEABFVWQUhuI0IhiFT1enCAhjzJNDXwhaYLUvso+J0u13dgSIXxKQZqxUk8Z52hC7G3U0tLuEC7OsVsuLSyoCSp6IikKL99pmw5VCrh0WjnzKs0lyO2UFjoUqfHZq4zSSuZ4gzty6MVh5GtOzVZjuuBs6QQsWNBABYCaFNCInoGo/HO2A2O2V1fWKeq8a5OUVq0QyBXT23Nj/Mr55FaLfcAnQ+zw3Hgq806/i1WYWEhUFbBhU73sjShVVfYgbFKx4fn4p5X9HsYSoqubAH8Evi2cGX8Di1wwhhBl9ysVo1bhiqXg+1pWI6nHfuf8DRBjIic0wMdo9c41b82TZfdcRqTnBe+7ZCD+caZZUGyoLxLHPSIidilzl+a7ZcFcNMIFG1FZSO8Z2Yr98QHGCTM68drOeB5yNltc=\n",
      "Key      Value\n",
      "---      -----\n",
      "valid    true\n"
     ]
    }
   ],
   "source": [
    "%%bash\n",
    "INPUT=$(echo -n \"un string no muy largo\" | base64)\n",
    "# Operación de firma\n",
    "SIGNATURE=$(vault write -format=json transit/sign/signature input=$INPUT hash_algorithm=sha2-256 -format=json | jq -r .data.signature)\n",
    "echo $SIGNATURE\n",
    "\n",
    "# Verificación de firma\n",
    "vault write transit/verify/signature input=$INPUT signature=$SIGNATURE  hash_algorithm=sha2-256"
   ]
  },
  {
   "cell_type": "markdown",
   "id": "253a0e6f",
   "metadata": {},
   "source": [
    "## HMAC"
   ]
  },
  {
   "cell_type": "code",
   "execution_count": 10,
   "id": "3d341ea1",
   "metadata": {},
   "outputs": [
    {
     "name": "stdout",
     "output_type": "stream",
     "text": [
      "Key                       Value\n",
      "---                       -----\n",
      "allow_plaintext_backup    false\n",
      "auto_rotate_period        0s\n",
      "deletion_allowed          false\n",
      "derived                   false\n",
      "exportable                false\n",
      "imported_key              false\n",
      "key_size                  512\n",
      "latest_version            1\n",
      "min_available_version     0\n",
      "min_decryption_version    1\n",
      "min_encryption_version    0\n",
      "name                      hmacker\n",
      "supports_decryption       false\n",
      "supports_derivation       false\n",
      "supports_encryption       false\n",
      "supports_signing          false\n",
      "type                      hmac\n"
     ]
    }
   ],
   "source": [
    "%%bash\n",
    "vault write -f  transit/keys/hmacker type=hmac key_size=512"
   ]
  },
  {
   "cell_type": "code",
   "execution_count": 11,
   "id": "9b500b1b",
   "metadata": {},
   "outputs": [
    {
     "name": "stdout",
     "output_type": "stream",
     "text": [
      "vault:v1:LmYcNbiHUBOpm9c93L76P1cVsp/Yq0pZI61SRMudPwBFI9mLZCk1+ex6gdNsVl+cEdmvPn1Fn+fZc+A7mLAMPg==\n",
      "Key      Value\n",
      "---      -----\n",
      "valid    true\n"
     ]
    }
   ],
   "source": [
    "%%bash\n",
    "\n",
    "INPUT=$(echo -n \"otro string largo, pero que muy largo...... ... .. \" | base64)\n",
    "# Operación de hmac\n",
    "HMAC=$(vault write -format=\"json\" transit/hmac/hmacker algorithm=\"sha2-512\" input=$INPUT  | jq -r .data.hmac)\n",
    "echo $HMAC\n",
    "\n",
    "# Verificación de hmac\n",
    "vault write transit/verify/hmacker input=$INPUT algorithm=\"sha2-512\" hmac=$HMAC\n",
    "\n",
    "#vault:v1:iLXnIDfw+t+C1JKAZlO9xOIkbaS1qJfmZh1knNeQ3BTov735obcXob4s0rqSdrXz4hCO1eGa61Rc7raoI6mrUA=="
   ]
  },
  {
   "cell_type": "markdown",
   "id": "d34305ea",
   "metadata": {},
   "source": [
    "## HASH"
   ]
  },
  {
   "cell_type": "code",
   "execution_count": 12,
   "id": "b9dacd85",
   "metadata": {},
   "outputs": [
    {
     "name": "stdout",
     "output_type": "stream",
     "text": [
      "tjwNxF5LBJsuBTPjfbLEWiF2bYMabF4LGF8Qx95RQue5W6DpfpbI3Mobg1aNlSLhgiyIfVrfcN8or9rJLcS+AQ==\n"
     ]
    }
   ],
   "source": [
    "%%bash\n",
    "INPUT=$( echo -n \"otro string largo pero que muy largo 32323232323\" | base64)\n",
    "\n",
    "# Operación de hash\n",
    "HASH=$(vault write -format=json transit/hash input=$INPUT algorithm=sha3-512 format=base64 -format=json | jq -r .data.sum)\n",
    "echo $HASH"
   ]
  }
 ],
 "metadata": {
  "kernelspec": {
   "display_name": "base",
   "language": "python",
   "name": "python3"
  },
  "language_info": {
   "codemirror_mode": {
    "name": "ipython",
    "version": 3
   },
   "file_extension": ".py",
   "mimetype": "text/x-python",
   "name": "python",
   "nbconvert_exporter": "python",
   "pygments_lexer": "ipython3",
   "version": "3.9.13"
  }
 },
 "nbformat": 4,
 "nbformat_minor": 5
}
