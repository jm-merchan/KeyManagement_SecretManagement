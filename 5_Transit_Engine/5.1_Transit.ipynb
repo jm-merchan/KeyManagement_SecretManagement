{
 "cells": [
  {
   "attachments": {},
   "cell_type": "markdown",
   "id": "01ea1d92",
   "metadata": {},
   "source": [
    "# [Transit Engine](https://developer.hashicorp.com/vault/api-docs/secret/transit)"
   ]
  },
  {
   "cell_type": "code",
   "execution_count": null,
   "id": "c2395ce4",
   "metadata": {},
   "outputs": [],
   "source": [
    "%env  WORKDIR=/tmp/vault    "
   ]
  },
  {
   "cell_type": "code",
   "execution_count": null,
   "id": "3655b2b5",
   "metadata": {},
   "outputs": [],
   "source": [
    "%%bash\n",
    "cat $WORKDIR/VAULT_TOKEN.TXT\n",
    "cat $WORKDIR/VAULT_ADDR.TXT"
   ]
  },
  {
   "cell_type": "code",
   "execution_count": null,
   "id": "1757833c",
   "metadata": {},
   "outputs": [],
   "source": [
    "%env VAULT_ADDR=https://vault-primary-europe-southwest1-jlhb.josemerchan-f986bf.gcp.sbx.hashicorpdemo.com:8200\n",
    "%env VAULT_TOKEN=hvs.QbtInWOOYqrZJnMrDmcaArKs"
   ]
  },
  {
   "cell_type": "code",
   "execution_count": null,
   "id": "f3e86ddc",
   "metadata": {},
   "outputs": [],
   "source": [
    "%%bash\n",
    "vault secrets list -detailed"
   ]
  },
  {
   "cell_type": "code",
   "execution_count": null,
   "id": "9671d4c4",
   "metadata": {},
   "outputs": [],
   "source": [
    "%%bash\n",
    "# Enable Transit\n",
    "vault secrets enable transit"
   ]
  },
  {
   "cell_type": "markdown",
   "id": "a1964938",
   "metadata": {},
   "source": [
    "## Encryption"
   ]
  },
  {
   "cell_type": "code",
   "execution_count": null,
   "id": "f026bacc",
   "metadata": {},
   "outputs": [],
   "source": [
    "%%bash\n",
    "# Tipos de kes soportados: https://developer.hashicorp.com/vault/api-docs/secret/transit#type\n",
    "vault write -f transit/keys/orders"
   ]
  },
  {
   "cell_type": "code",
   "execution_count": null,
   "id": "bf696a85",
   "metadata": {},
   "outputs": [],
   "source": [
    "%%bash\n",
    "# ENCRYPT\n",
    "vault write transit/encrypt/orders plaintext=$(base64 <<< \"4111 1111 1111 1111\") -format=json | jq -r .data.ciphertext\n",
    "\n",
    "export CIPHERTEXT=$(vault write transit/encrypt/orders plaintext=$(base64 <<< \"4111 1111 1111 1111\") -format=json | jq -r .data.ciphertext)\n",
    "\n",
    "# DECRYPT\n",
    "vault write transit/decrypt/orders ciphertext=$CIPHERTEXT -format=json | jq -r .data.plaintext | base64 -d\n"
   ]
  },
  {
   "cell_type": "markdown",
   "id": "1374106a",
   "metadata": {},
   "source": [
    "## Sign"
   ]
  },
  {
   "cell_type": "code",
   "execution_count": null,
   "id": "210f9525",
   "metadata": {},
   "outputs": [],
   "source": [
    "%%bash\n",
    "vault write -f  transit/keys/signature type=rsa-4096"
   ]
  },
  {
   "cell_type": "code",
   "execution_count": null,
   "id": "664ded5e",
   "metadata": {},
   "outputs": [],
   "source": [
    "%%bash\n",
    "INPUT=$(echo -n \"un string no muy largo\" | base64)\n",
    "# Operación de firma\n",
    "SIGNATURE=$(vault write -format=json transit/sign/signature input=$INPUT hash_algorithm=sha2-256 -format=json | jq -r .data.signature)\n",
    "echo $SIGNATURE\n",
    "\n",
    "# Verificación de firma\n",
    "vault write transit/verify/signature input=$INPUT signature=$SIGNATURE  hash_algorithm=sha2-256"
   ]
  },
  {
   "cell_type": "markdown",
   "id": "253a0e6f",
   "metadata": {},
   "source": [
    "## HMAC"
   ]
  },
  {
   "cell_type": "code",
   "execution_count": null,
   "id": "3d341ea1",
   "metadata": {},
   "outputs": [],
   "source": [
    "%%bash\n",
    "vault write -f  transit/keys/hmacker type=hmac key_size=512"
   ]
  },
  {
   "cell_type": "code",
   "execution_count": null,
   "id": "9b500b1b",
   "metadata": {},
   "outputs": [],
   "source": [
    "%%bash\n",
    "\n",
    "INPUT=$(echo -n \"otro string largo, pero que muy largo...... ... .. \" | base64)\n",
    "# Operación de hmac\n",
    "HMAC=$(vault write -format=\"json\" transit/hmac/hmacker algorithm=\"sha2-512\" input=$INPUT  | jq -r .data.hmac)\n",
    "echo $HMAC\n",
    "\n",
    "# Verificación de hmac\n",
    "vault write transit/verify/hmacker input=$INPUT algorithm=\"sha2-512\" hmac=$HMAC\n",
    "\n",
    "#vault:v1:iLXnIDfw+t+C1JKAZlO9xOIkbaS1qJfmZh1knNeQ3BTov735obcXob4s0rqSdrXz4hCO1eGa61Rc7raoI6mrUA=="
   ]
  },
  {
   "cell_type": "markdown",
   "id": "d34305ea",
   "metadata": {},
   "source": [
    "## HASH"
   ]
  },
  {
   "cell_type": "code",
   "execution_count": null,
   "id": "b9dacd85",
   "metadata": {},
   "outputs": [],
   "source": [
    "%%bash\n",
    "INPUT=$( echo -n \"otro string largo pero que muy largo 32323232323\" | base64)\n",
    "\n",
    "# Operación de hash\n",
    "HASH=$(vault write -format=json transit/hash input=$INPUT algorithm=sha3-512 format=base64 -format=json | jq -r .data.sum)\n",
    "echo $HASH"
   ]
  },
  {
   "cell_type": "markdown",
   "id": "5dd1a8f0",
   "metadata": {},
   "source": [
    "# Clean UP"
   ]
  },
  {
   "cell_type": "code",
   "execution_count": null,
   "id": "e8a63f2e",
   "metadata": {
    "vscode": {
     "languageId": "shellscript"
    }
   },
   "outputs": [],
   "source": [
    "! vault secrets disable transit"
   ]
  }
 ],
 "metadata": {
  "kernelspec": {
   "display_name": "base",
   "language": "python",
   "name": "python3"
  },
  "language_info": {
   "codemirror_mode": {
    "name": "ipython",
    "version": 3
   },
   "file_extension": ".py",
   "mimetype": "text/x-python",
   "name": "python",
   "nbconvert_exporter": "python",
   "pygments_lexer": "ipython3",
   "version": "3.9.13"
  }
 },
 "nbformat": 4,
 "nbformat_minor": 5
}
