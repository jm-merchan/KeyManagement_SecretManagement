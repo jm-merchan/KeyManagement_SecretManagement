{
 "cells": [
  {
   "cell_type": "code",
   "execution_count": null,
   "metadata": {},
   "outputs": [],
   "source": [
    "%env WORKDIR=/tmp/vault\n",
    "%env PROJECT=hc-73f8ab4df44146ba8cffb466d83\n",
    "%env KEYRING_NAME=kmse-test\n",
    "%env KEYRING_GKMS=gcks-test\n",
    "%env LOCATION=global\n",
    "%env KEY_NAME=testkey1"
   ]
  },
  {
   "cell_type": "code",
   "execution_count": null,
   "metadata": {},
   "outputs": [],
   "source": [
    "%%bash\n",
    "cat $WORKDIR/VAULT_TOKEN.TXT\n",
    "cat $WORKDIR/VAULT_ADDR.TXT"
   ]
  },
  {
   "cell_type": "code",
   "execution_count": null,
   "metadata": {},
   "outputs": [],
   "source": [
    "%env VAULT_ADDR=https://vault-primary-europe-southwest1-jlhb.josemerchan-f986bf.gcp.sbx.hashicorpdemo.com:8200\n",
    "%env VAULT_TOKEN=hvs.QbtInWOOYqrZJnMrDmcaArKs"
   ]
  },
  {
   "cell_type": "markdown",
   "metadata": {},
   "source": [
    "# [KMSE](https://developer.hashicorp.com/vault/docs/secrets/key-management) and [KMSE API](https://developer.hashicorp.com/vault/api-docs/secret/key-management#key-management-secrets-engine-api)"
   ]
  },
  {
   "cell_type": "code",
   "execution_count": null,
   "metadata": {},
   "outputs": [],
   "source": [
    "! vault secrets enable keymgmt"
   ]
  },
  {
   "cell_type": "code",
   "execution_count": null,
   "metadata": {},
   "outputs": [],
   "source": [
    "! vault write keymgmt/key/aes256-gcm96 type=\"aes256-gcm96\"\n",
    "! vault write keymgmt/key/ecdsa-p256 type=\"ecdsa-p256\""
   ]
  },
  {
   "cell_type": "code",
   "execution_count": null,
   "metadata": {},
   "outputs": [],
   "source": [
    "! vault write keymgmt/key/aes256-key2 type=\"aes256-gcm96\""
   ]
  },
  {
   "cell_type": "code",
   "execution_count": null,
   "metadata": {},
   "outputs": [],
   "source": [
    "! vault read -format=json keymgmt/key/aes256-gcm96 | jq"
   ]
  },
  {
   "cell_type": "markdown",
   "metadata": {},
   "source": [
    "## Credentials must be copied to the Vault node and run the command"
   ]
  },
  {
   "cell_type": "code",
   "execution_count": null,
   "metadata": {},
   "outputs": [],
   "source": [
    "! kubectl cp $WORKDIR/creds.json -n vault vault-primary-0:/tmp/creds.json\n",
    "# ! kubectl cp $WORKDIR/creds.json -n vault vault-primary-1:/tmp/creds.json\n",
    "# ! kubectl cp $WORKDIR/creds.json -n vault vault-primary-2:/tmp/creds.json\n",
    "# ! kubectl cp $WORKDIR/creds.json -n vault vault-primary-3:/tmp/creds.json\n",
    "# ! kubectl cp $WORKDIR/creds.json -n vault vault-primary-4:/tmp/creds.json"
   ]
  },
  {
   "cell_type": "markdown",
   "metadata": {},
   "source": [
    "[Key compatibility with GCP](https://developer.hashicorp.com/vault/docs/secrets/key-management/gcpkms#key-purpose-compatability) and [GCP Setup Guide](https://developer.hashicorp.com/vault/docs/secrets/gcpkms)"
   ]
  },
  {
   "cell_type": "code",
   "execution_count": null,
   "metadata": {},
   "outputs": [],
   "source": [
    "%%bash\n",
    "\n",
    "vault write keymgmt/kms/gcpckms \\\n",
    "    provider=\"gcpckms\" \\\n",
    "    key_collection=\"projects/${PROJECT}/locations/${LOCATION}/keyRings/${KEYRING_NAME}\" \\\n",
    "    credentials=service_account_file=/tmp/creds.json"
   ]
  },
  {
   "cell_type": "code",
   "execution_count": null,
   "metadata": {},
   "outputs": [],
   "source": [
    "%%bash\n",
    "\n",
    "vault write keymgmt/kms/gcpckms/key/aes256-gcm96 \\\n",
    "    purpose=\"encrypt,decrypt\" \\\n",
    "    protection=\"software\"\n"
   ]
  },
  {
   "cell_type": "code",
   "execution_count": null,
   "metadata": {},
   "outputs": [],
   "source": [
    "%%bash\n",
    "\n",
    "vault write keymgmt/kms/gcpckms/key/ecdsa-p256 \\\n",
    "    purpose=\"sign\" \\\n",
    "    protection=\"software\"\n"
   ]
  },
  {
   "cell_type": "code",
   "execution_count": null,
   "metadata": {},
   "outputs": [],
   "source": [
    "%%bash\n",
    "\n",
    "vault write keymgmt/kms/gcpckms/key/aes256-key2 \\\n",
    "    purpose=\"encrypt,decrypt\" \\\n",
    "    protection=\"software\""
   ]
  },
  {
   "cell_type": "code",
   "execution_count": null,
   "metadata": {},
   "outputs": [],
   "source": [
    "! vault list keymgmt/kms/gcpckms/key/"
   ]
  },
  {
   "cell_type": "code",
   "execution_count": null,
   "metadata": {},
   "outputs": [],
   "source": [
    "! vault write -f keymgmt/key/aes256-gcm96/rotate"
   ]
  },
  {
   "cell_type": "code",
   "execution_count": null,
   "metadata": {},
   "outputs": [],
   "source": [
    "!  vault read -format=json keymgmt/key/aes256-gcm96 | jq "
   ]
  },
  {
   "cell_type": "markdown",
   "metadata": {},
   "source": [
    "> This [engine](https://developer.hashicorp.com/vault/docs/secrets/gcpkms#faq) was created before the functionality of [managed keys](https://developer.hashicorp.com/vault/docs/enterprise/managed-keys)"
   ]
  },
  {
   "cell_type": "code",
   "execution_count": null,
   "metadata": {
    "vscode": {
     "languageId": "shellscript"
    }
   },
   "outputs": [],
   "source": [
    "# Clean UP\n",
    "## Remove keys\n",
    "! vault delete keymgmt/kms/gcpckms/key/aes256-gcm96\n",
    "! vault delete keymgmt/kms/gcpckms/key/ecdsa-p256\n",
    "! vault delete keymgmt/kms/gcpckms/key/aes256-key2\n",
    "! vault delete keymgmt/kms/gcpckms\n",
    "! vault delete  keymgmt/key/aes256-key2\n",
    "! vault delete  keymgmt/key/ecdsa-p256\n",
    "! vault delete  keymgmt/key/aes256-gcm96\n",
    "! vault secrets disable keymgmt"
   ]
  }
 ],
 "metadata": {
  "kernelspec": {
   "display_name": "base",
   "language": "python",
   "name": "python3"
  },
  "language_info": {
   "codemirror_mode": {
    "name": "ipython",
    "version": 3
   },
   "file_extension": ".py",
   "mimetype": "text/x-python",
   "name": "python",
   "nbconvert_exporter": "python",
   "pygments_lexer": "ipython3",
   "version": "3.9.13"
  }
 },
 "nbformat": 4,
 "nbformat_minor": 2
}
