{
 "cells": [
  {
   "cell_type": "code",
   "execution_count": 69,
   "metadata": {},
   "outputs": [
    {
     "name": "stdout",
     "output_type": "stream",
     "text": [
      "env: WORKDIR=/tmp/vault\n",
      "env: PROJECT=hc-73f8ab4df44146ba8cffb466d83\n",
      "env: KEYRING_NAME=kmse-test\n",
      "env: KEYRING_GKMS=gcks-test\n",
      "env: LOCATION=global\n",
      "env: KEY_NAME=testkey1\n"
     ]
    }
   ],
   "source": [
    "%env WORKDIR=/tmp/vault\n",
    "%env PROJECT=hc-73f8ab4df44146ba8cffb466d83\n",
    "%env KEYRING_NAME=kmse-test\n",
    "%env KEYRING_GKMS=gcks-test\n",
    "%env LOCATION=global\n",
    "%env KEY_NAME=testkey1"
   ]
  },
  {
   "cell_type": "code",
   "execution_count": 5,
   "metadata": {},
   "outputs": [
    {
     "name": "stdout",
     "output_type": "stream",
     "text": [
      "hvs.QbtInWOOYqrZJnMrDmcaArKs\n",
      "https://vault-primary-europe-southwest1-jlhb.josemerchan-f986bf.gcp.sbx.hashicorpdemo.com:8200\n"
     ]
    }
   ],
   "source": [
    "%%bash\n",
    "cat $WORKDIR/VAULT_TOKEN.TXT\n",
    "cat $WORKDIR/VAULT_ADDR.TXT"
   ]
  },
  {
   "cell_type": "code",
   "execution_count": 6,
   "metadata": {},
   "outputs": [
    {
     "name": "stdout",
     "output_type": "stream",
     "text": [
      "env: VAULT_ADDR=https://vault-primary-europe-southwest1-jlhb.josemerchan-f986bf.gcp.sbx.hashicorpdemo.com:8200\n",
      "env: VAULT_TOKEN=hvs.QbtInWOOYqrZJnMrDmcaArKs\n"
     ]
    }
   ],
   "source": [
    "%env VAULT_ADDR=https://vault-primary-europe-southwest1-jlhb.josemerchan-f986bf.gcp.sbx.hashicorpdemo.com:8200\n",
    "%env VAULT_TOKEN=hvs.QbtInWOOYqrZJnMrDmcaArKs"
   ]
  },
  {
   "cell_type": "markdown",
   "metadata": {},
   "source": [
    "# [KMSE](https://developer.hashicorp.com/vault/docs/secrets/key-management) and [KMSE API](https://developer.hashicorp.com/vault/api-docs/secret/key-management#key-management-secrets-engine-api)"
   ]
  },
  {
   "cell_type": "code",
   "execution_count": 45,
   "metadata": {},
   "outputs": [
    {
     "name": "stdout",
     "output_type": "stream",
     "text": [
      "\u001b[0mSuccess! Enabled the keymgmt secrets engine at: keymgmt/\u001b[0m\n"
     ]
    }
   ],
   "source": [
    "! vault secrets enable keymgmt"
   ]
  },
  {
   "cell_type": "code",
   "execution_count": null,
   "metadata": {},
   "outputs": [
    {
     "name": "stdout",
     "output_type": "stream",
     "text": [
      "\u001b[0mSuccess! Data written to: keymgmt/key/aes256-gcm96\u001b[0m\n",
      "\u001b[0mSuccess! Data written to: keymgmt/key/ecdsa-p256\u001b[0m\n"
     ]
    }
   ],
   "source": [
    "! vault write keymgmt/key/aes256-gcm96 type=\"aes256-gcm96\"\n",
    "! vault write keymgmt/key/ecdsa-p256 type=\"ecdsa-p256\""
   ]
  },
  {
   "cell_type": "code",
   "execution_count": 65,
   "metadata": {},
   "outputs": [
    {
     "name": "stdout",
     "output_type": "stream",
     "text": [
      "\u001b[0mSuccess! Data written to: keymgmt/key/aes256-key2\u001b[0m\n"
     ]
    }
   ],
   "source": [
    "! vault write keymgmt/key/aes256-key2 type=\"aes256-gcm96\""
   ]
  },
  {
   "cell_type": "code",
   "execution_count": 47,
   "metadata": {},
   "outputs": [
    {
     "name": "stdout",
     "output_type": "stream",
     "text": [
      "\u001b[1;39m{\n",
      "  \u001b[0m\u001b[34;1m\"request_id\"\u001b[0m\u001b[1;39m: \u001b[0m\u001b[0;32m\"8d3a5e53-034d-f21d-e295-5f4bfc9f308d\"\u001b[0m\u001b[1;39m,\n",
      "  \u001b[0m\u001b[34;1m\"lease_id\"\u001b[0m\u001b[1;39m: \u001b[0m\u001b[0;32m\"\"\u001b[0m\u001b[1;39m,\n",
      "  \u001b[0m\u001b[34;1m\"lease_duration\"\u001b[0m\u001b[1;39m: \u001b[0m\u001b[0;39m0\u001b[0m\u001b[1;39m,\n",
      "  \u001b[0m\u001b[34;1m\"renewable\"\u001b[0m\u001b[1;39m: \u001b[0m\u001b[0;39mfalse\u001b[0m\u001b[1;39m,\n",
      "  \u001b[0m\u001b[34;1m\"data\"\u001b[0m\u001b[1;39m: \u001b[0m\u001b[1;39m{\n",
      "    \u001b[0m\u001b[34;1m\"deletion_allowed\"\u001b[0m\u001b[1;39m: \u001b[0m\u001b[0;39mfalse\u001b[0m\u001b[1;39m,\n",
      "    \u001b[0m\u001b[34;1m\"latest_version\"\u001b[0m\u001b[1;39m: \u001b[0m\u001b[0;39m1\u001b[0m\u001b[1;39m,\n",
      "    \u001b[0m\u001b[34;1m\"min_enabled_version\"\u001b[0m\u001b[1;39m: \u001b[0m\u001b[0;39m1\u001b[0m\u001b[1;39m,\n",
      "    \u001b[0m\u001b[34;1m\"name\"\u001b[0m\u001b[1;39m: \u001b[0m\u001b[0;32m\"aes256-gcm96\"\u001b[0m\u001b[1;39m,\n",
      "    \u001b[0m\u001b[34;1m\"type\"\u001b[0m\u001b[1;39m: \u001b[0m\u001b[0;32m\"aes256-gcm96\"\u001b[0m\u001b[1;39m,\n",
      "    \u001b[0m\u001b[34;1m\"versions\"\u001b[0m\u001b[1;39m: \u001b[0m\u001b[1;39m{\n",
      "      \u001b[0m\u001b[34;1m\"1\"\u001b[0m\u001b[1;39m: \u001b[0m\u001b[1;39m{\n",
      "        \u001b[0m\u001b[34;1m\"creation_time\"\u001b[0m\u001b[1;39m: \u001b[0m\u001b[0;32m\"2024-11-18T14:49:12.077439421Z\"\u001b[0m\u001b[1;39m\n",
      "      \u001b[1;39m}\u001b[0m\u001b[1;39m\n",
      "    \u001b[1;39m}\u001b[0m\u001b[1;39m\n",
      "  \u001b[1;39m}\u001b[0m\u001b[1;39m,\n",
      "  \u001b[0m\u001b[34;1m\"warnings\"\u001b[0m\u001b[1;39m: \u001b[0m\u001b[1;30mnull\u001b[0m\u001b[1;39m\n",
      "\u001b[1;39m}\u001b[0m\n"
     ]
    }
   ],
   "source": [
    "! vault read -format=json keymgmt/key/aes256-gcm96 | jq"
   ]
  },
  {
   "cell_type": "markdown",
   "metadata": {},
   "source": [
    "## Credentials must be copied to the Vault node and run the command"
   ]
  },
  {
   "cell_type": "code",
   "execution_count": null,
   "metadata": {},
   "outputs": [
    {
     "name": "stdout",
     "output_type": "stream",
     "text": [
      "Defaulted container \"vault\" out of: vault, auditlog-rotator\n"
     ]
    }
   ],
   "source": [
    "! kubectl cp $WORKDIR/creds.json -n vault vault-primary-0:/tmp/creds.json\n",
    "# ! kubectl cp $WORKDIR/creds.json -n vault vault-primary-1:/tmp/creds.json\n",
    "# ! kubectl cp $WORKDIR/creds.json -n vault vault-primary-2:/tmp/creds.json\n",
    "# ! kubectl cp $WORKDIR/creds.json -n vault vault-primary-3:/tmp/creds.json\n",
    "# ! kubectl cp $WORKDIR/creds.json -n vault vault-primary-4:/tmp/creds.json"
   ]
  },
  {
   "cell_type": "markdown",
   "metadata": {},
   "source": [
    "[Key compatibility with GCP](https://developer.hashicorp.com/vault/docs/secrets/key-management/gcpkms#key-purpose-compatability) and [GCP Setup Guide](https://developer.hashicorp.com/vault/docs/secrets/gcpkms)"
   ]
  },
  {
   "cell_type": "code",
   "execution_count": 71,
   "metadata": {},
   "outputs": [
    {
     "name": "stdout",
     "output_type": "stream",
     "text": [
      "Success! Data written to: keymgmt/kms/gcpckms\n"
     ]
    }
   ],
   "source": [
    "%%bash\n",
    "\n",
    "vault write keymgmt/kms/gcpckms \\\n",
    "    provider=\"gcpckms\" \\\n",
    "    key_collection=\"projects/${PROJECT}/locations/${LOCATION}/keyRings/${KEYRING_NAME}\" \\\n",
    "    credentials=service_account_file=/tmp/creds.json"
   ]
  },
  {
   "cell_type": "code",
   "execution_count": 63,
   "metadata": {},
   "outputs": [
    {
     "name": "stdout",
     "output_type": "stream",
     "text": [
      "Success! Data written to: keymgmt/kms/gcpckms/key/aes256-gcm96\n"
     ]
    }
   ],
   "source": [
    "%%bash\n",
    "\n",
    "vault write keymgmt/kms/gcpckms/key/aes256-gcm96 \\\n",
    "    purpose=\"encrypt,decrypt\" \\\n",
    "    protection=\"software\"\n"
   ]
  },
  {
   "cell_type": "code",
   "execution_count": 64,
   "metadata": {},
   "outputs": [
    {
     "name": "stdout",
     "output_type": "stream",
     "text": [
      "Success! Data written to: keymgmt/kms/gcpckms/key/ecdsa-p256\n"
     ]
    }
   ],
   "source": [
    "%%bash\n",
    "\n",
    "vault write keymgmt/kms/gcpckms/key/ecdsa-p256 \\\n",
    "    purpose=\"sign\" \\\n",
    "    protection=\"software\"\n"
   ]
  },
  {
   "cell_type": "code",
   "execution_count": null,
   "metadata": {},
   "outputs": [],
   "source": [
    "%%bash\n",
    "\n",
    "vault write keymgmt/kms/gcpckms/key/aes256-key2 \\\n",
    "    purpose=\"encrypt,decrypt\" \\\n",
    "    protection=\"software\""
   ]
  },
  {
   "cell_type": "code",
   "execution_count": 66,
   "metadata": {},
   "outputs": [
    {
     "name": "stdout",
     "output_type": "stream",
     "text": [
      "\u001b[0mKeys\n",
      "----\n",
      "aes256-gcm96\n",
      "ecdsa-p256\u001b[0m\n"
     ]
    }
   ],
   "source": [
    "! vault list keymgmt/kms/gcpckms/key/"
   ]
  },
  {
   "cell_type": "code",
   "execution_count": 67,
   "metadata": {},
   "outputs": [
    {
     "name": "stdout",
     "output_type": "stream",
     "text": [
      "\u001b[0mSuccess! Data written to: keymgmt/key/aes256-gcm96/rotate\u001b[0m\n"
     ]
    }
   ],
   "source": [
    "! vault write -f keymgmt/key/aes256-gcm96/rotate"
   ]
  },
  {
   "cell_type": "code",
   "execution_count": 68,
   "metadata": {},
   "outputs": [
    {
     "name": "stdout",
     "output_type": "stream",
     "text": [
      "\u001b[1;39m{\n",
      "  \u001b[0m\u001b[34;1m\"request_id\"\u001b[0m\u001b[1;39m: \u001b[0m\u001b[0;32m\"0a5b02cc-cfff-e641-4bc7-4d19e17dda33\"\u001b[0m\u001b[1;39m,\n",
      "  \u001b[0m\u001b[34;1m\"lease_id\"\u001b[0m\u001b[1;39m: \u001b[0m\u001b[0;32m\"\"\u001b[0m\u001b[1;39m,\n",
      "  \u001b[0m\u001b[34;1m\"lease_duration\"\u001b[0m\u001b[1;39m: \u001b[0m\u001b[0;39m0\u001b[0m\u001b[1;39m,\n",
      "  \u001b[0m\u001b[34;1m\"renewable\"\u001b[0m\u001b[1;39m: \u001b[0m\u001b[0;39mfalse\u001b[0m\u001b[1;39m,\n",
      "  \u001b[0m\u001b[34;1m\"data\"\u001b[0m\u001b[1;39m: \u001b[0m\u001b[1;39m{\n",
      "    \u001b[0m\u001b[34;1m\"deletion_allowed\"\u001b[0m\u001b[1;39m: \u001b[0m\u001b[0;39mfalse\u001b[0m\u001b[1;39m,\n",
      "    \u001b[0m\u001b[34;1m\"latest_version\"\u001b[0m\u001b[1;39m: \u001b[0m\u001b[0;39m2\u001b[0m\u001b[1;39m,\n",
      "    \u001b[0m\u001b[34;1m\"min_enabled_version\"\u001b[0m\u001b[1;39m: \u001b[0m\u001b[0;39m1\u001b[0m\u001b[1;39m,\n",
      "    \u001b[0m\u001b[34;1m\"name\"\u001b[0m\u001b[1;39m: \u001b[0m\u001b[0;32m\"aes256-gcm96\"\u001b[0m\u001b[1;39m,\n",
      "    \u001b[0m\u001b[34;1m\"type\"\u001b[0m\u001b[1;39m: \u001b[0m\u001b[0;32m\"aes256-gcm96\"\u001b[0m\u001b[1;39m,\n",
      "    \u001b[0m\u001b[34;1m\"versions\"\u001b[0m\u001b[1;39m: \u001b[0m\u001b[1;39m{\n",
      "      \u001b[0m\u001b[34;1m\"1\"\u001b[0m\u001b[1;39m: \u001b[0m\u001b[1;39m{\n",
      "        \u001b[0m\u001b[34;1m\"creation_time\"\u001b[0m\u001b[1;39m: \u001b[0m\u001b[0;32m\"2024-11-18T14:49:12.077439421Z\"\u001b[0m\u001b[1;39m\n",
      "      \u001b[1;39m}\u001b[0m\u001b[1;39m,\n",
      "      \u001b[0m\u001b[34;1m\"2\"\u001b[0m\u001b[1;39m: \u001b[0m\u001b[1;39m{\n",
      "        \u001b[0m\u001b[34;1m\"creation_time\"\u001b[0m\u001b[1;39m: \u001b[0m\u001b[0;32m\"2024-11-18T15:12:13.987094497Z\"\u001b[0m\u001b[1;39m\n",
      "      \u001b[1;39m}\u001b[0m\u001b[1;39m\n",
      "    \u001b[1;39m}\u001b[0m\u001b[1;39m\n",
      "  \u001b[1;39m}\u001b[0m\u001b[1;39m,\n",
      "  \u001b[0m\u001b[34;1m\"warnings\"\u001b[0m\u001b[1;39m: \u001b[0m\u001b[1;30mnull\u001b[0m\u001b[1;39m\n",
      "\u001b[1;39m}\u001b[0m\n"
     ]
    }
   ],
   "source": [
    "!  vault read -format=json keymgmt/key/aes256-gcm96 | jq "
   ]
  },
  {
   "cell_type": "markdown",
   "metadata": {},
   "source": [
    "> This [engine](https://developer.hashicorp.com/vault/docs/secrets/gcpkms#faq) was created before the functionality of [managed keys](https://developer.hashicorp.com/vault/docs/enterprise/managed-keys)"
   ]
  }
 ],
 "metadata": {
  "kernelspec": {
   "display_name": "base",
   "language": "python",
   "name": "python3"
  },
  "language_info": {
   "codemirror_mode": {
    "name": "ipython",
    "version": 3
   },
   "file_extension": ".py",
   "mimetype": "text/x-python",
   "name": "python",
   "nbconvert_exporter": "python",
   "pygments_lexer": "ipython3",
   "version": "3.9.13"
  }
 },
 "nbformat": 4,
 "nbformat_minor": 2
}
